{
  "cells": [
    {
      "cell_type": "markdown",
      "metadata": {
        "id": "view-in-github",
        "colab_type": "text"
      },
      "source": [
        "<a href=\"https://colab.research.google.com/github/PoojaPushparajShetty/Task-2/blob/main/TASK_2_NUMPY.ipynb\" target=\"_parent\"><img src=\"https://colab.research.google.com/assets/colab-badge.svg\" alt=\"Open In Colab\"/></a>"
      ]
    },
    {
      "cell_type": "markdown",
      "metadata": {
        "id": "5E5JmwM-mI4j"
      },
      "source": [
        "# Numpy\n",
        "\n"
      ]
    },
    {
      "cell_type": "markdown",
      "metadata": {
        "id": "LDmKx-0YmI4r"
      },
      "source": [
        "#### 1. Import the numpy package under the name `np` (★☆☆) \n",
        "(**hint**: import … as …)"
      ]
    },
    {
      "cell_type": "code",
      "execution_count": null,
      "metadata": {
        "collapsed": true,
        "id": "FPz-Dxu5mI4v"
      },
      "outputs": [],
      "source": [
        "import numpy as np"
      ]
    },
    {
      "cell_type": "markdown",
      "metadata": {
        "id": "-5-zTPCMmI4y"
      },
      "source": [
        "#### 2. Print the numpy version and the configuration (★☆☆) \n",
        "(**hint**: np.\\_\\_version\\_\\_, np.show\\_config)"
      ]
    },
    {
      "cell_type": "code",
      "execution_count": null,
      "metadata": {
        "id": "h_6_QcgwmI40",
        "colab": {
          "base_uri": "https://localhost:8080/",
          "height": 36
        },
        "outputId": "644afb55-1f2a-44d7-adc3-b1e13dafc0d7"
      },
      "outputs": [
        {
          "output_type": "execute_result",
          "data": {
            "text/plain": [
              "'1.21.6'"
            ],
            "application/vnd.google.colaboratory.intrinsic+json": {
              "type": "string"
            }
          },
          "metadata": {},
          "execution_count": 2
        }
      ],
      "source": [
        "np.__version__"
      ]
    },
    {
      "cell_type": "markdown",
      "metadata": {
        "id": "IzsInC_tmI41"
      },
      "source": [
        "#### 3. Create a null vector of size 10 (★☆☆) \n",
        "(**hint**: np.zeros)"
      ]
    },
    {
      "cell_type": "code",
      "execution_count": null,
      "metadata": {
        "id": "QtavQrGBmI43",
        "colab": {
          "base_uri": "https://localhost:8080/"
        },
        "outputId": "80a3ae2f-9e15-4bff-fbb9-bc2a7fb90c1b"
      },
      "outputs": [
        {
          "output_type": "execute_result",
          "data": {
            "text/plain": [
              "array([0., 0., 0., 0., 0., 0., 0., 0., 0., 0.])"
            ]
          },
          "metadata": {},
          "execution_count": 5
        }
      ],
      "source": [
        "x=np.zeros(10)\n",
        "x"
      ]
    },
    {
      "cell_type": "markdown",
      "metadata": {
        "id": "5uG2bDERmI46"
      },
      "source": [
        "#### 4.  How to find the memory size of any array (★☆☆) \n",
        "(**hint**: size, itemsize)"
      ]
    },
    {
      "cell_type": "code",
      "execution_count": null,
      "metadata": {
        "id": "kluuBDNgmI48",
        "colab": {
          "base_uri": "https://localhost:8080/"
        },
        "outputId": "df2c3e01-36c8-4fff-f1cc-4f8090a43d75"
      },
      "outputs": [
        {
          "output_type": "stream",
          "name": "stdout",
          "text": [
            "800 bytes\n"
          ]
        }
      ],
      "source": [
        "n= np.zeros((10,10))\n",
        "print(\"%d bytes\" % (n.size * n.itemsize))"
      ]
    },
    {
      "cell_type": "markdown",
      "metadata": {
        "id": "IzM0pGGVmI49"
      },
      "source": [
        "#### 5.  How to get the documentation of the numpy add function from the command line? (★☆☆) \n",
        "(**hint**: np.info)"
      ]
    },
    {
      "cell_type": "code",
      "execution_count": null,
      "metadata": {
        "collapsed": true,
        "id": "bZzhlzv6mI4_",
        "colab": {
          "base_uri": "https://localhost:8080/"
        },
        "outputId": "2fbeb137-c0b8-4346-9056-42f199b7d0db"
      },
      "outputs": [
        {
          "output_type": "stream",
          "name": "stderr",
          "text": [
            "ERROR:root:File `'`python.py'` not found.\n"
          ]
        }
      ],
      "source": [
        "%run `python -c \"import numpy; numpy.info(numpy.add)\"`"
      ]
    },
    {
      "cell_type": "markdown",
      "metadata": {
        "id": "3KxAsMu0mI4_"
      },
      "source": [
        "#### 6.  Create a null vector of size 10 but the fifth value which is 1 (★☆☆) \n",
        "(**hint**: array\\[4\\])"
      ]
    },
    {
      "cell_type": "code",
      "execution_count": null,
      "metadata": {
        "id": "QE7YSJpomI5A",
        "colab": {
          "base_uri": "https://localhost:8080/"
        },
        "outputId": "b8203876-bc33-4015-8fc7-5cc3cecbe6cb"
      },
      "outputs": [
        {
          "output_type": "execute_result",
          "data": {
            "text/plain": [
              "array([0., 0., 0., 0., 1., 0., 0., 0., 0., 0.])"
            ]
          },
          "metadata": {},
          "execution_count": 15
        }
      ],
      "source": [
        "n=np.zeros(10)\n",
        "n[4]=1\n",
        "n"
      ]
    },
    {
      "cell_type": "markdown",
      "metadata": {
        "id": "m2i_TUI5mI5B"
      },
      "source": [
        "#### 7.  Create a vector with values ranging from 10 to 49 (★☆☆) \n",
        "(**hint**: np.arange)"
      ]
    },
    {
      "cell_type": "code",
      "execution_count": null,
      "metadata": {
        "id": "qb8c3v4nmI5C",
        "colab": {
          "base_uri": "https://localhost:8080/"
        },
        "outputId": "6a128650-1ae4-4c73-a1b6-ac2ca8f5b867"
      },
      "outputs": [
        {
          "output_type": "execute_result",
          "data": {
            "text/plain": [
              "array([10, 11, 12, 13, 14, 15, 16, 17, 18, 19, 20, 21, 22, 23, 24, 25, 26,\n",
              "       27, 28, 29, 30, 31, 32, 33, 34, 35, 36, 37, 38, 39, 40, 41, 42, 43,\n",
              "       44, 45, 46, 47, 48, 49])"
            ]
          },
          "metadata": {},
          "execution_count": 18
        }
      ],
      "source": [
        "n=np.arange(10,50)\n",
        "n"
      ]
    },
    {
      "cell_type": "markdown",
      "metadata": {
        "id": "VH_HIWVlmI5C"
      },
      "source": [
        "#### 8.  Reverse a vector (first element becomes last) (★☆☆) \n",
        "(**hint**: array\\[::-1\\])"
      ]
    },
    {
      "cell_type": "code",
      "execution_count": null,
      "metadata": {
        "id": "FzM2p3lSmI5D",
        "colab": {
          "base_uri": "https://localhost:8080/"
        },
        "outputId": "63244df4-ed06-4776-fa65-a1fa9b1719ed"
      },
      "outputs": [
        {
          "output_type": "execute_result",
          "data": {
            "text/plain": [
              "array([39, 38, 37, 36, 35, 34, 33, 32, 31, 30, 29, 28, 27, 26, 25, 24, 23,\n",
              "       22, 21, 20, 19, 18, 17, 16, 15, 14, 13, 12, 11, 10,  9,  8,  7,  6,\n",
              "        5,  4,  3,  2,  1,  0])"
            ]
          },
          "metadata": {},
          "execution_count": 19
        }
      ],
      "source": [
        "n=np.arange(40)\n",
        "n=n[::-1]\n",
        "n"
      ]
    },
    {
      "cell_type": "markdown",
      "metadata": {
        "id": "oR6wv-ttmI5D"
      },
      "source": [
        "#### 9.  Create a 3x3 matrix with values ranging from 0 to 8 (★☆☆) \n",
        "(**hint**: reshape)"
      ]
    },
    {
      "cell_type": "code",
      "source": [
        "n=np.arange(9).reshape(3,3)\n",
        "n"
      ],
      "metadata": {
        "colab": {
          "base_uri": "https://localhost:8080/"
        },
        "id": "AYShf5aQqrE-",
        "outputId": "c7f90842-0314-46f6-cba4-cc6d123b8fff"
      },
      "execution_count": null,
      "outputs": [
        {
          "output_type": "execute_result",
          "data": {
            "text/plain": [
              "array([[0, 1, 2],\n",
              "       [3, 4, 5],\n",
              "       [6, 7, 8]])"
            ]
          },
          "metadata": {},
          "execution_count": 24
        }
      ]
    },
    {
      "cell_type": "markdown",
      "metadata": {
        "id": "ti1JtoJsmI5E"
      },
      "source": [
        "#### 10. Find indices of non-zero elements from \\[1,2,0,0,4,0\\] (★☆☆) \n",
        "(**hint**: np.nonzero)"
      ]
    },
    {
      "cell_type": "code",
      "execution_count": null,
      "metadata": {
        "id": "9YaAf21SmI5F",
        "colab": {
          "base_uri": "https://localhost:8080/"
        },
        "outputId": "8869ad7e-cbc0-4135-e36c-c219bf0ddc8c"
      },
      "outputs": [
        {
          "output_type": "execute_result",
          "data": {
            "text/plain": [
              "(array([0, 1, 4]),)"
            ]
          },
          "metadata": {},
          "execution_count": 26
        }
      ],
      "source": [
        "n=np.nonzero([1,2,0,0,4,0])\n",
        "n"
      ]
    },
    {
      "cell_type": "markdown",
      "metadata": {
        "id": "5K0xnv-TmI5F"
      },
      "source": [
        "#### 11. Create a 3x3 identity matrix (★☆☆) \n",
        "(**hint**: np.eye)"
      ]
    },
    {
      "cell_type": "code",
      "execution_count": null,
      "metadata": {
        "id": "lUADxQPfmI5G",
        "colab": {
          "base_uri": "https://localhost:8080/"
        },
        "outputId": "d40bf82a-8475-4250-a8f1-ec2c2945cb0f"
      },
      "outputs": [
        {
          "output_type": "execute_result",
          "data": {
            "text/plain": [
              "array([[1., 0., 0.],\n",
              "       [0., 1., 0.],\n",
              "       [0., 0., 1.]])"
            ]
          },
          "metadata": {},
          "execution_count": 29
        }
      ],
      "source": [
        "n=np.eye(3,3)\n",
        "n"
      ]
    },
    {
      "cell_type": "markdown",
      "metadata": {
        "id": "UBfsEbv7mI5G"
      },
      "source": [
        "#### 12. Create a 3x3x3 array with random values (★☆☆) \n",
        "(**hint**: np.random.random)"
      ]
    },
    {
      "cell_type": "code",
      "execution_count": null,
      "metadata": {
        "collapsed": true,
        "id": "lS_Xn99dmI5G",
        "colab": {
          "base_uri": "https://localhost:8080/"
        },
        "outputId": "97011e00-5542-4274-caf7-22d11e241ca6"
      },
      "outputs": [
        {
          "output_type": "execute_result",
          "data": {
            "text/plain": [
              "array([[[0.47484356, 0.99233202, 0.63591444],\n",
              "        [0.4851342 , 0.43418829, 0.62572267],\n",
              "        [0.47304023, 0.95960062, 0.4231289 ]],\n",
              "\n",
              "       [[0.02490635, 0.58931624, 0.06982519],\n",
              "        [0.7518407 , 0.95428382, 0.2020982 ],\n",
              "        [0.99635798, 0.45652891, 0.16673019]],\n",
              "\n",
              "       [[0.35127908, 0.82617629, 0.19613504],\n",
              "        [0.44308362, 0.9698554 , 0.86902427],\n",
              "        [0.66800413, 0.28177607, 0.96591496]]])"
            ]
          },
          "metadata": {},
          "execution_count": 33
        }
      ],
      "source": [
        "n=np.random.random([3,3,3])\n",
        "n"
      ]
    },
    {
      "cell_type": "markdown",
      "metadata": {
        "id": "ljuEGSmjmI5H"
      },
      "source": [
        "#### 13. Create a 10x10 array with random values and find the minimum and maximum values (★☆☆) \n",
        "(**hint**: min, max)"
      ]
    },
    {
      "cell_type": "code",
      "execution_count": null,
      "metadata": {
        "id": "ceZYZ8IVmI5H",
        "colab": {
          "base_uri": "https://localhost:8080/"
        },
        "outputId": "902a0fba-d0ec-4775-c259-098344e0479b"
      },
      "outputs": [
        {
          "output_type": "stream",
          "name": "stdout",
          "text": [
            "0.0026593577796443224 0.9844902343906945\n"
          ]
        }
      ],
      "source": [
        "n=np.random.random((10,10))\n",
        "nmin ,nmax = n.min() , n.max()\n",
        "print(nmin ,nmax ) "
      ]
    },
    {
      "cell_type": "markdown",
      "metadata": {
        "id": "ruRa48gDmI5H"
      },
      "source": [
        "#### 14. Create a random vector of size 30 and find the mean value (★☆☆) \n",
        "(**hint**: mean)"
      ]
    },
    {
      "cell_type": "code",
      "execution_count": null,
      "metadata": {
        "id": "zLfjUKZOmI5I",
        "colab": {
          "base_uri": "https://localhost:8080/"
        },
        "outputId": "bd51b770-987e-499d-ce24-3ecf0ce337e1"
      },
      "outputs": [
        {
          "output_type": "execute_result",
          "data": {
            "text/plain": [
              "0.4768377186258734"
            ]
          },
          "metadata": {},
          "execution_count": 45
        }
      ],
      "source": [
        "n=np.random.random(30)\n",
        "z=n.mean()\n",
        "z\n"
      ]
    },
    {
      "cell_type": "markdown",
      "metadata": {
        "id": "7xkKafPAmI5I"
      },
      "source": [
        "#### 15. Create a 2d array with 1 on the border and 0 inside (★☆☆) \n",
        "(**hint**: array\\[1:-1, 1:-1\\])"
      ]
    },
    {
      "cell_type": "code",
      "execution_count": null,
      "metadata": {
        "id": "H04KRtQRmI5I",
        "colab": {
          "base_uri": "https://localhost:8080/"
        },
        "outputId": "a4129ba6-0e5f-454a-c0a3-9f8328846c1a"
      },
      "outputs": [
        {
          "output_type": "execute_result",
          "data": {
            "text/plain": [
              "array([[1., 1., 1., 1., 1.],\n",
              "       [1., 0., 0., 0., 1.],\n",
              "       [1., 0., 0., 0., 1.],\n",
              "       [1., 0., 0., 0., 1.],\n",
              "       [1., 1., 1., 1., 1.]])"
            ]
          },
          "metadata": {},
          "execution_count": 53
        }
      ],
      "source": [
        "n = np.ones((5,5))\n",
        "n[1:-1,1:-1] = 0\n",
        "(n)"
      ]
    },
    {
      "cell_type": "markdown",
      "metadata": {
        "id": "Nf8vyAHLmI5J"
      },
      "source": [
        "#### 16. How to add a border (filled with 0's) around an existing array? (★☆☆) \n",
        "(**hint**: np.pad)"
      ]
    },
    {
      "cell_type": "code",
      "execution_count": null,
      "metadata": {
        "id": "6z-GiwVDmI5J",
        "colab": {
          "base_uri": "https://localhost:8080/"
        },
        "outputId": "d755bad5-721f-467a-9d8f-ee44e264d485"
      },
      "outputs": [
        {
          "output_type": "execute_result",
          "data": {
            "text/plain": [
              "array([[0., 0., 0., 0., 0., 0., 0., 0., 0., 0., 0., 0.],\n",
              "       [0., 1., 1., 1., 1., 1., 1., 1., 1., 1., 1., 0.],\n",
              "       [0., 1., 1., 1., 1., 1., 1., 1., 1., 1., 1., 0.],\n",
              "       [0., 1., 1., 1., 1., 1., 1., 1., 1., 1., 1., 0.],\n",
              "       [0., 1., 1., 1., 1., 1., 1., 1., 1., 1., 1., 0.],\n",
              "       [0., 1., 1., 1., 1., 1., 1., 1., 1., 1., 1., 0.],\n",
              "       [0., 1., 1., 1., 1., 1., 1., 1., 1., 1., 1., 0.],\n",
              "       [0., 1., 1., 1., 1., 1., 1., 1., 1., 1., 1., 0.],\n",
              "       [0., 1., 1., 1., 1., 1., 1., 1., 1., 1., 1., 0.],\n",
              "       [0., 1., 1., 1., 1., 1., 1., 1., 1., 1., 1., 0.],\n",
              "       [0., 1., 1., 1., 1., 1., 1., 1., 1., 1., 1., 0.],\n",
              "       [0., 0., 0., 0., 0., 0., 0., 0., 0., 0., 0., 0.]])"
            ]
          },
          "metadata": {},
          "execution_count": 58
        }
      ],
      "source": [
        "n=np.ones((10,10))\n",
        "n=np.pad(n, pad_width=1, mode=\"constant\", constant_values=0)\n",
        "n\n",
        "\n",
        "\n"
      ]
    },
    {
      "cell_type": "markdown",
      "metadata": {
        "id": "CwXCmZD5mI5K"
      },
      "source": [
        "#### 17. What is the result of the following expression? (★☆☆) \n",
        "(**hint**: NaN = not a number, inf = infinity)"
      ]
    },
    {
      "cell_type": "markdown",
      "metadata": {
        "id": "SH3V3lrEmI5K"
      },
      "source": [
        "```python\n",
        "0 * np.nan\n",
        "np.nan == np.nan\n",
        "np.inf > np.nan\n",
        "np.nan - np.nan\n",
        "0.3 == 3 * 0.1\n",
        "```"
      ]
    },
    {
      "cell_type": "code",
      "execution_count": null,
      "metadata": {
        "id": "ipjl0eWpmI5L",
        "colab": {
          "base_uri": "https://localhost:8080/"
        },
        "outputId": "e297a72d-766d-4091-fd9b-4b1d8dfb3900"
      },
      "outputs": [
        {
          "output_type": "stream",
          "name": "stdout",
          "text": [
            "nan\n",
            "False\n",
            "False\n",
            "nan\n",
            "False\n"
          ]
        }
      ],
      "source": [
        "print(0 * np.nan)\n",
        "print(np.nan == np.nan)\n",
        "print(np.inf > np.nan)\n",
        "print(np.nan - np.nan)\n",
        "print(0.3 == 3 * 0.1)"
      ]
    },
    {
      "cell_type": "markdown",
      "metadata": {
        "id": "rgQhofwSmI5M"
      },
      "source": [
        "#### 18. Create a 5x5 matrix with values 1,2,3,4 just below the diagonal (★☆☆) \n",
        "(**hint**: np.diag)"
      ]
    },
    {
      "cell_type": "code",
      "execution_count": null,
      "metadata": {
        "id": "wzDqTnKpmI5M",
        "colab": {
          "base_uri": "https://localhost:8080/"
        },
        "outputId": "93d788b4-6809-410d-e06a-37a9b86a4c99"
      },
      "outputs": [
        {
          "output_type": "execute_result",
          "data": {
            "text/plain": [
              "array([[0, 0, 0, 0, 0],\n",
              "       [1, 0, 0, 0, 0],\n",
              "       [0, 2, 0, 0, 0],\n",
              "       [0, 0, 3, 0, 0],\n",
              "       [0, 0, 0, 4, 0]])"
            ]
          },
          "metadata": {},
          "execution_count": 64
        }
      ],
      "source": [
        "n=np.diag(1+np.arange(4),k=-1)\n",
        "n"
      ]
    },
    {
      "cell_type": "markdown",
      "metadata": {
        "id": "VPMWDkxKmI5M"
      },
      "source": [
        "#### 19. Create a 8x8 matrix and fill it with a checkerboard pattern (★☆☆) \n",
        "(**hint**: array\\[::2\\])"
      ]
    },
    {
      "cell_type": "code",
      "execution_count": null,
      "metadata": {
        "id": "MXV2BI-3mI5N",
        "colab": {
          "base_uri": "https://localhost:8080/"
        },
        "outputId": "a2f8b404-aa43-480e-dc7b-19ec29e1e30e"
      },
      "outputs": [
        {
          "output_type": "execute_result",
          "data": {
            "text/plain": [
              "array([[0, 0, 0, 0, 0, 0, 0, 0],\n",
              "       [1, 0, 1, 0, 1, 0, 1, 0],\n",
              "       [0, 0, 0, 0, 0, 0, 0, 0],\n",
              "       [1, 0, 1, 0, 1, 0, 1, 0],\n",
              "       [0, 0, 0, 0, 0, 0, 0, 0],\n",
              "       [1, 0, 1, 0, 1, 0, 1, 0],\n",
              "       [0, 0, 0, 0, 0, 0, 0, 0],\n",
              "       [1, 0, 1, 0, 1, 0, 1, 0]])"
            ]
          },
          "metadata": {},
          "execution_count": 65
        }
      ],
      "source": [
        "n=np.zeros((8,8), dtype=int)\n",
        "n[1::2,::2]=1\n",
        "n[::2,1::2]\n",
        "n\n"
      ]
    },
    {
      "cell_type": "markdown",
      "metadata": {
        "id": "T0L_me8pmI5N"
      },
      "source": [
        "#### 20. Consider a (6,7,8) shape array, what is the index (x,y,z) of the 100th element? \n",
        "(**hint**: np.unravel_index)"
      ]
    },
    {
      "cell_type": "code",
      "execution_count": null,
      "metadata": {
        "id": "7kAcw1WRmI5N",
        "colab": {
          "base_uri": "https://localhost:8080/"
        },
        "outputId": "bbb451e0-4104-445b-c551-1b3a5011036c"
      },
      "outputs": [
        {
          "output_type": "execute_result",
          "data": {
            "text/plain": [
              "(1, 5, 4)"
            ]
          },
          "metadata": {},
          "execution_count": 66
        }
      ],
      "source": [
        "np.unravel_index(100,(6,7,8))"
      ]
    },
    {
      "cell_type": "markdown",
      "metadata": {
        "id": "PAfOo2q5mI5N"
      },
      "source": [
        "#### 21. Create a checkerboard 8x8 matrix using the tile function (★☆☆) \n",
        "(**hint**: np.tile)"
      ]
    },
    {
      "cell_type": "code",
      "execution_count": null,
      "metadata": {
        "id": "hU2f_S4mmI5O",
        "colab": {
          "base_uri": "https://localhost:8080/"
        },
        "outputId": "0c9aea95-ab4b-4651-ad66-f6b28822e776"
      },
      "outputs": [
        {
          "output_type": "stream",
          "name": "stdout",
          "text": [
            "[[0 1 0 1 0 1 0 1]\n",
            " [1 0 1 0 1 0 1 0]\n",
            " [0 1 0 1 0 1 0 1]\n",
            " [1 0 1 0 1 0 1 0]\n",
            " [0 1 0 1 0 1 0 1]\n",
            " [1 0 1 0 1 0 1 0]\n",
            " [0 1 0 1 0 1 0 1]\n",
            " [1 0 1 0 1 0 1 0]]\n"
          ]
        }
      ],
      "source": [
        "Z = np.tile( np.array([[0,1],[1,0]]), (4,4))\n",
        "print(Z)"
      ]
    },
    {
      "cell_type": "markdown",
      "metadata": {
        "id": "uSGS4i-5mI5O"
      },
      "source": [
        "#### 22. Normalize a 5x5 random matrix (★☆☆) \n",
        "(**hint**: (x - min) / (max - min))"
      ]
    },
    {
      "cell_type": "code",
      "execution_count": null,
      "metadata": {
        "id": "blV2i0swmI5O",
        "colab": {
          "base_uri": "https://localhost:8080/"
        },
        "outputId": "1c6395ec-5dae-4442-a193-dfe824c5690c"
      },
      "outputs": [
        {
          "output_type": "execute_result",
          "data": {
            "text/plain": [
              "array([[ 1.07328477, -1.06115512, -1.53392007, -0.94829702,  1.11655184],\n",
              "       [-0.54324799,  1.68825651, -0.02263562, -0.07095625,  1.10750481],\n",
              "       [ 0.10611153, -0.5919955 ,  0.69356392,  0.88560645, -1.31228342],\n",
              "       [-1.25965461, -0.62055903,  1.17522063, -0.08808149,  0.27219295],\n",
              "       [ 1.56810805,  0.98760549, -1.06780533, -1.57691573,  0.02350024]])"
            ]
          },
          "metadata": {},
          "execution_count": 79
        }
      ],
      "source": [
        "n= np.random.random((5,5))\n",
        "n = (n - np.mean(n)) / (np.std(n))\n",
        "n"
      ]
    },
    {
      "cell_type": "markdown",
      "metadata": {
        "id": "TGhO3lRNmI5O"
      },
      "source": [
        "#### 23. Create a custom dtype that describes a color as four unsigned bytes (RGBA) (★☆☆) \n",
        "(**hint**: np.dtype)"
      ]
    },
    {
      "cell_type": "code",
      "execution_count": null,
      "metadata": {
        "collapsed": true,
        "id": "WOBSvdm_mI5P",
        "colab": {
          "base_uri": "https://localhost:8080/"
        },
        "outputId": "0092a1fb-4808-4f2f-e238-4e41ea5bdf1a"
      },
      "outputs": [
        {
          "output_type": "stream",
          "name": "stderr",
          "text": [
            "/usr/local/lib/python3.7/dist-packages/ipykernel_launcher.py:4: FutureWarning: Passing (type, 1) or '1type' as a synonym of type is deprecated; in a future version of numpy, it will be understood as (type, (1,)) / '(1,)type'.\n",
            "  after removing the cwd from sys.path.\n"
          ]
        }
      ],
      "source": [
        "color = np.dtype([(\"r\", np.ubyte, 1),\n",
        "                  (\"g\", np.ubyte, 1),\n",
        "                  (\"b\", np.ubyte, 1),\n",
        "                  (\"a\", np.ubyte, 1)])"
      ]
    },
    {
      "cell_type": "markdown",
      "metadata": {
        "id": "Msx5UEvumI5P"
      },
      "source": [
        "#### 24. Multiply a 5x3 matrix by a 3x2 matrix (real matrix product) (★☆☆) \n",
        "(**hint**: np.dot | @)"
      ]
    },
    {
      "cell_type": "code",
      "execution_count": null,
      "metadata": {
        "id": "pHrzKF7LmI5P",
        "colab": {
          "base_uri": "https://localhost:8080/"
        },
        "outputId": "7d0cf549-4da4-4440-a4ff-1b2262072e34"
      },
      "outputs": [
        {
          "output_type": "execute_result",
          "data": {
            "text/plain": [
              "array([[3., 3.],\n",
              "       [3., 3.],\n",
              "       [3., 3.],\n",
              "       [3., 3.],\n",
              "       [3., 3.]])"
            ]
          },
          "metadata": {},
          "execution_count": 90
        }
      ],
      "source": [
        "n=np.dot(np.ones((5,3)),np.ones((3,2)))\n",
        "n\n"
      ]
    },
    {
      "cell_type": "markdown",
      "metadata": {
        "id": "SU8C7hWymI5P"
      },
      "source": [
        "#### 25. Given a 1D array, negate all elements which are between 3 and 8, in place. (★☆☆) \n",
        "(**hint**: >, <=)"
      ]
    },
    {
      "cell_type": "code",
      "execution_count": null,
      "metadata": {
        "id": "sW-Vqf-RmI5P",
        "colab": {
          "base_uri": "https://localhost:8080/"
        },
        "outputId": "8bb09f82-bd95-44f4-f9a1-94c0822bbdaa"
      },
      "outputs": [
        {
          "output_type": "execute_result",
          "data": {
            "text/plain": [
              "array([  0,   1,   2,   3,  -4,  -5,  -6,  -7,  -8,  -9, -10])"
            ]
          },
          "metadata": {},
          "execution_count": 92
        }
      ],
      "source": [
        "n=np.arange(11)\n",
        "n[(3<n) & (z<=n)]*= -1\n",
        "n"
      ]
    },
    {
      "cell_type": "markdown",
      "metadata": {
        "id": "Ow03HKLLmI5P"
      },
      "source": [
        "#### 26. What is the output of the following script? (★☆☆) \n",
        "(**hint**: np.sum)"
      ]
    },
    {
      "cell_type": "markdown",
      "metadata": {
        "id": "j3lh6kiOmI5Q"
      },
      "source": [
        "```python\n",
        "# Author: Jake VanderPlas\n",
        "\n",
        "print(sum(range(5),-1))\n",
        "from numpy import *\n",
        "print(sum(range(5),-1))\n",
        "```"
      ]
    },
    {
      "cell_type": "code",
      "source": [
        "\n",
        "print(sum(range(5),-1))\n",
        "from numpy import *\n",
        "print(sum(range(5),-1))"
      ],
      "metadata": {
        "colab": {
          "base_uri": "https://localhost:8080/"
        },
        "id": "EYiI8cUM826H",
        "outputId": "b57b211b-2893-4fe3-f5a8-b3be0cd1e342"
      },
      "execution_count": null,
      "outputs": [
        {
          "output_type": "stream",
          "name": "stdout",
          "text": [
            "10\n",
            "10\n"
          ]
        }
      ]
    },
    {
      "cell_type": "markdown",
      "metadata": {
        "id": "NvdtMwadmI5Q"
      },
      "source": [
        "#### 27. Consider an integer vector Z, which of these expressions are legal? (★☆☆)"
      ]
    },
    {
      "cell_type": "markdown",
      "metadata": {
        "id": "UJpREnBtmI5Q"
      },
      "source": [
        "```python\n",
        "Z**Z\n",
        "2 << Z >> 2\n",
        "Z <- Z\n",
        "1j*Z\n",
        "Z/1/1\n",
        "Z<Z>Z\n",
        "```"
      ]
    },
    {
      "cell_type": "code",
      "execution_count": null,
      "metadata": {
        "id": "_m6b2NCAmI5Q",
        "colab": {
          "base_uri": "https://localhost:8080/"
        },
        "outputId": "c123cefb-c87a-4b94-cffa-0513f650aaf2"
      },
      "outputs": [
        {
          "output_type": "execute_result",
          "data": {
            "text/plain": [
              "array([[3., 3.],\n",
              "       [3., 3.],\n",
              "       [3., 3.],\n",
              "       [3., 3.],\n",
              "       [3., 3.]])"
            ]
          },
          "metadata": {},
          "execution_count": 111
        }
      ],
      "source": [
        "Z**Z\n",
        "Z <- Z\n",
        "1j*Z\n",
        "Z/1/1\n"
      ]
    },
    {
      "cell_type": "markdown",
      "metadata": {
        "id": "JDnLS02vmI5R"
      },
      "source": [
        "#### 28. What are the result of the following expressions?"
      ]
    },
    {
      "cell_type": "markdown",
      "metadata": {
        "id": "BIrwGz6tmI5R"
      },
      "source": [
        "```python\n",
        "np.array(0) / np.array(0)\n",
        "np.array(0) // np.array(0)\n",
        "np.array([np.nan]).astype(int).astype(float)\n",
        "```"
      ]
    },
    {
      "cell_type": "code",
      "execution_count": null,
      "metadata": {
        "id": "Cse-WBjTmI5R",
        "colab": {
          "base_uri": "https://localhost:8080/"
        },
        "outputId": "39c7afd7-c739-469a-f4eb-ee08e25fddd8"
      },
      "outputs": [
        {
          "output_type": "stream",
          "name": "stdout",
          "text": [
            "nan\n",
            "0\n",
            "[-9.22337204e+18]\n"
          ]
        },
        {
          "output_type": "stream",
          "name": "stderr",
          "text": [
            "/usr/local/lib/python3.7/dist-packages/ipykernel_launcher.py:1: RuntimeWarning: invalid value encountered in true_divide\n",
            "  \"\"\"Entry point for launching an IPython kernel.\n",
            "/usr/local/lib/python3.7/dist-packages/ipykernel_launcher.py:2: RuntimeWarning: divide by zero encountered in floor_divide\n",
            "  \n"
          ]
        }
      ],
      "source": [
        "print(np.array(0) / np.array(0))\n",
        "print(np.array(0) // np.array(0))\n",
        "print(np.array([np.nan]).astype(int).astype(float))"
      ]
    },
    {
      "cell_type": "markdown",
      "metadata": {
        "id": "tzw9FCIGmI5R"
      },
      "source": [
        "#### 29. How to round away from zero a float array ? (★☆☆) \n",
        "(**hint**: np.uniform, np.copysign, np.ceil, np.abs)"
      ]
    },
    {
      "cell_type": "code",
      "execution_count": null,
      "metadata": {
        "id": "eDUccbtymI5R",
        "colab": {
          "base_uri": "https://localhost:8080/"
        },
        "outputId": "22870adf-0194-447f-83b1-def7988867a2"
      },
      "outputs": [
        {
          "output_type": "stream",
          "name": "stdout",
          "text": [
            "[ -8.   1.   9.  -4.  -6.   2.  -3.  -6.  -7. -10.]\n"
          ]
        }
      ],
      "source": [
        "z=np.random.uniform(-10,+10,10)\n",
        "print(np.copysign(np.ceil(np.abs(z)),z))"
      ]
    },
    {
      "cell_type": "markdown",
      "metadata": {
        "id": "4PH-i19SmI5R"
      },
      "source": [
        "#### 30. How to find common values between two arrays? (★☆☆) \n",
        "(**hint**: np.intersect1d)"
      ]
    },
    {
      "cell_type": "code",
      "execution_count": null,
      "metadata": {
        "id": "TULsbKIamI5S",
        "colab": {
          "base_uri": "https://localhost:8080/"
        },
        "outputId": "c9ae5d3e-dc07-45ec-ae23-a33eb8f0dd21"
      },
      "outputs": [
        {
          "output_type": "stream",
          "name": "stdout",
          "text": [
            "[0 3 4 6 9]\n"
          ]
        }
      ],
      "source": [
        "x=np.random.randint(0,10,10)\n",
        "y=np.random.randint(0,10,10)\n",
        "print(np.intersect1d(x,y))"
      ]
    },
    {
      "cell_type": "markdown",
      "metadata": {
        "id": "cY4rs2mvmI5S"
      },
      "source": [
        "#### 31. How to ignore all numpy warnings (not recommended)? (★☆☆) \n",
        "(**hint**: np.seterr, np.errstate)"
      ]
    },
    {
      "cell_type": "code",
      "execution_count": null,
      "metadata": {
        "id": "5qcnWq-qmI5S"
      },
      "outputs": [],
      "source": [
        "defaults = np.seterr(all=\"ignore\")\n",
        "Z = np.ones(1) / 0\n",
        "_ = np.seterr(**defaults)\n",
        "#or\n",
        "with np.errstate(divide='ignore'):\n",
        "    Z = np.ones(1) / 0\n"
      ]
    },
    {
      "cell_type": "markdown",
      "metadata": {
        "id": "dYgJTOcCmI5S"
      },
      "source": [
        "#### 32. Is the following expressions true? (★☆☆) \n",
        "(**hint**: imaginary number)"
      ]
    },
    {
      "cell_type": "markdown",
      "metadata": {
        "id": "k-QOAyG3mI5S"
      },
      "source": [
        "```python\n",
        "np.sqrt(-1) == np.emath.sqrt(-1)\n",
        "```"
      ]
    },
    {
      "cell_type": "code",
      "execution_count": null,
      "metadata": {
        "id": "NQrOgE3amI5S",
        "colab": {
          "base_uri": "https://localhost:8080/"
        },
        "outputId": "be2a67cb-e69f-4401-814b-3b27dd5e9303"
      },
      "outputs": [
        {
          "output_type": "execute_result",
          "data": {
            "text/plain": [
              "False"
            ]
          },
          "metadata": {},
          "execution_count": 122
        }
      ],
      "source": [
        "np.sqrt(-1) == np.emath.sqrt(-1)"
      ]
    },
    {
      "cell_type": "markdown",
      "metadata": {
        "id": "vckAleVCmI5T"
      },
      "source": [
        "#### 33. How to get the dates of yesterday, today and tomorrow? (★☆☆) \n",
        "(**hint**: np.datetime64, np.timedelta64)"
      ]
    },
    {
      "cell_type": "code",
      "execution_count": null,
      "metadata": {
        "collapsed": true,
        "id": "0BfUfywZmI5T"
      },
      "outputs": [],
      "source": [
        "yesterday = np.datetime64('today', 'D') - np.timedelta64(1, 'D')\n",
        "today     = np.datetime64('today', 'D')\n",
        "tomorrow  = np.datetime64('today', 'D') + np.timedelta64(1, 'D')"
      ]
    },
    {
      "cell_type": "markdown",
      "metadata": {
        "id": "G8uNMak9mI5T"
      },
      "source": [
        "#### 34. How to get all the dates corresponding to the month of July 2016? (★★☆) \n",
        "(**hint**: np.arange(dtype=datetime64\\['D'\\]))"
      ]
    },
    {
      "cell_type": "code",
      "execution_count": null,
      "metadata": {
        "id": "XlvqkJ8MmI5T",
        "colab": {
          "base_uri": "https://localhost:8080/"
        },
        "outputId": "a59a7ad6-fb3d-4bb7-853d-100ed40a72ef"
      },
      "outputs": [
        {
          "output_type": "stream",
          "name": "stdout",
          "text": [
            "['2016-07-01' '2016-07-02' '2016-07-03' '2016-07-04' '2016-07-05'\n",
            " '2016-07-06' '2016-07-07' '2016-07-08' '2016-07-09' '2016-07-10'\n",
            " '2016-07-11' '2016-07-12' '2016-07-13' '2016-07-14' '2016-07-15'\n",
            " '2016-07-16' '2016-07-17' '2016-07-18' '2016-07-19' '2016-07-20'\n",
            " '2016-07-21' '2016-07-22' '2016-07-23' '2016-07-24' '2016-07-25'\n",
            " '2016-07-26' '2016-07-27' '2016-07-28' '2016-07-29' '2016-07-30'\n",
            " '2016-07-31']\n"
          ]
        }
      ],
      "source": [
        "Z = np.arange('2016-07', '2016-08', dtype='datetime64[D]')\n",
        "print(Z)"
      ]
    },
    {
      "cell_type": "markdown",
      "metadata": {
        "id": "9E0Hp-YImI5T"
      },
      "source": [
        "#### 35. How to compute ((A+B)\\*(-A/2)) in place (without copy)? (★★☆) \n",
        "(**hint**: np.add(out=), np.negative(out=), np.multiply(out=), np.divide(out=))"
      ]
    },
    {
      "cell_type": "code",
      "execution_count": null,
      "metadata": {
        "id": "btMwrMn8mI5T",
        "colab": {
          "base_uri": "https://localhost:8080/"
        },
        "outputId": "cc064d68-05e8-477c-c94c-f1ddf721250f"
      },
      "outputs": [
        {
          "output_type": "execute_result",
          "data": {
            "text/plain": [
              "array([-1.5, -1.5, -1.5])"
            ]
          },
          "metadata": {},
          "execution_count": 127
        }
      ],
      "source": [
        "A = np.ones(3)*1\n",
        "B = np.ones(3)*2\n",
        "C = np.ones(3)*3\n",
        "np.add(A,B,out=B)\n",
        "np.divide(A,2,out=A)\n",
        "np.multiply(A,B,out=A)\n",
        "np.negative(A,out=A)\n"
      ]
    },
    {
      "cell_type": "markdown",
      "metadata": {
        "id": "tOKZCqS_mI5U"
      },
      "source": [
        "#### 36. Extract the integer part of a random array using 5 different methods (★★☆) \n",
        "(**hint**: %, np.floor, np.ceil, astype, np.trunc)"
      ]
    },
    {
      "cell_type": "code",
      "execution_count": null,
      "metadata": {
        "id": "Bky32KZNmI5U",
        "colab": {
          "base_uri": "https://localhost:8080/"
        },
        "outputId": "e7895ee3-0741-4709-aa96-c0030353447e"
      },
      "outputs": [
        {
          "output_type": "stream",
          "name": "stdout",
          "text": [
            "[0. 4. 6. 6. 4. 9. 3. 9. 9. 0.]\n",
            "[0. 4. 6. 6. 4. 9. 3. 9. 9. 0.]\n",
            "[0. 4. 6. 6. 4. 9. 3. 9. 9. 0.]\n",
            "[0 4 6 6 4 9 3 9 9 0]\n",
            "[0. 4. 6. 6. 4. 9. 3. 9. 9. 0.]\n"
          ]
        }
      ],
      "source": [
        "import numpy as np\n",
        "Z = np.random.uniform(0,10,10)\n",
        "\n",
        "print (Z - Z%1)\n",
        "print (np.floor(Z))\n",
        "print (np.ceil(Z)-1)\n",
        "print (Z.astype(int))\n",
        "print (np.trunc(Z))"
      ]
    },
    {
      "cell_type": "markdown",
      "metadata": {
        "id": "w4oWkOc-mI5U"
      },
      "source": [
        "#### 37. Create a 5x5 matrix with row values ranging from 0 to 4 (★★☆) \n",
        "(**hint**: np.arange)"
      ]
    },
    {
      "cell_type": "code",
      "execution_count": null,
      "metadata": {
        "id": "dllP2n1xmI5U",
        "colab": {
          "base_uri": "https://localhost:8080/"
        },
        "outputId": "0f133b8f-9ee0-42ce-9e33-c219b2831497"
      },
      "outputs": [
        {
          "output_type": "stream",
          "name": "stdout",
          "text": [
            "[[0. 1. 2. 3. 4.]\n",
            " [0. 1. 2. 3. 4.]\n",
            " [0. 1. 2. 3. 4.]\n",
            " [0. 1. 2. 3. 4.]\n",
            " [0. 1. 2. 3. 4.]]\n"
          ]
        }
      ],
      "source": [
        "Z = np.zeros((5,5))\n",
        "Z += np.arange(5)\n",
        "print(Z)"
      ]
    },
    {
      "cell_type": "markdown",
      "metadata": {
        "id": "716UVDKPmI5U"
      },
      "source": [
        "#### 38. Consider a generator function that generates 10 integers and use it to build an array (★☆☆) \n",
        "(**hint**: np.fromiter)"
      ]
    },
    {
      "cell_type": "code",
      "execution_count": null,
      "metadata": {
        "id": "ASjB17OCmI5U",
        "colab": {
          "base_uri": "https://localhost:8080/"
        },
        "outputId": "fa202aae-2da8-48c2-ee20-b06a87c25d35"
      },
      "outputs": [
        {
          "output_type": "stream",
          "name": "stdout",
          "text": [
            "[0. 1. 2. 3. 4. 5. 6. 7. 8. 9.]\n"
          ]
        }
      ],
      "source": [
        "def generate():\n",
        "    for x in range(10):\n",
        "        yield x\n",
        "Z = np.fromiter(generate(),dtype=float,count=-1)\n",
        "print(Z)"
      ]
    },
    {
      "cell_type": "markdown",
      "metadata": {
        "id": "JZ6-uuDUmI5U"
      },
      "source": [
        "#### 39. Create a vector of size 10 with values ranging from 0 to 1, both excluded (★★☆) \n",
        "(**hint**: np.linspace)"
      ]
    },
    {
      "cell_type": "code",
      "execution_count": null,
      "metadata": {
        "id": "sVUxSpMNmI5V",
        "colab": {
          "base_uri": "https://localhost:8080/"
        },
        "outputId": "ae12eece-768b-4679-bc94-07a78137b7e4"
      },
      "outputs": [
        {
          "output_type": "stream",
          "name": "stdout",
          "text": [
            "[0.09090909 0.18181818 0.27272727 0.36363636 0.45454545 0.54545455\n",
            " 0.63636364 0.72727273 0.81818182 0.90909091]\n"
          ]
        }
      ],
      "source": [
        "Z = np.linspace(0,1,11,endpoint=False)[1:]\n",
        "print(Z)"
      ]
    },
    {
      "cell_type": "markdown",
      "metadata": {
        "id": "MGBev67emI5V"
      },
      "source": [
        "#### 40. Create a random vector of size 10 and sort it (★★☆) \n",
        "(**hint**: sort)"
      ]
    },
    {
      "cell_type": "code",
      "execution_count": null,
      "metadata": {
        "id": "52V5lrR9mI5V",
        "colab": {
          "base_uri": "https://localhost:8080/"
        },
        "outputId": "dd4fef3b-ac09-42e2-a400-0ff0a6753b52"
      },
      "outputs": [
        {
          "output_type": "stream",
          "name": "stdout",
          "text": [
            "[0.02046857 0.05606401 0.18592404 0.20836032 0.326935   0.678489\n",
            " 0.71866223 0.81601136 0.93306012 0.95966786]\n"
          ]
        }
      ],
      "source": [
        "Z = np.random.random(10)\n",
        "Z.sort()\n",
        "print(Z)"
      ]
    },
    {
      "cell_type": "markdown",
      "metadata": {
        "id": "eF8rkYtDmI5V"
      },
      "source": [
        "#### 41. How to sum a small array faster than np.sum? (★★☆) \n",
        "(**hint**: np.add.reduce)"
      ]
    },
    {
      "cell_type": "code",
      "execution_count": null,
      "metadata": {
        "id": "xtXXn77WmI5V",
        "colab": {
          "base_uri": "https://localhost:8080/"
        },
        "outputId": "6ff67f8b-bfc7-4136-f84e-68b08cee83f8"
      },
      "outputs": [
        {
          "output_type": "execute_result",
          "data": {
            "text/plain": [
              "45"
            ]
          },
          "metadata": {},
          "execution_count": 8
        }
      ],
      "source": [
        "Z = np.arange(10)\n",
        "np.add.reduce(Z)"
      ]
    },
    {
      "cell_type": "markdown",
      "metadata": {
        "id": "4MTWrKkqmI5V"
      },
      "source": [
        "#### 42. Consider two random array A and B, check if they are equal (★★☆) \n",
        "(**hint**: np.allclose, np.array\\_equal)"
      ]
    },
    {
      "cell_type": "code",
      "execution_count": null,
      "metadata": {
        "id": "J0GDBOO_mI5V",
        "colab": {
          "base_uri": "https://localhost:8080/"
        },
        "outputId": "6d23e2ba-0e45-492d-c957-2a092e03d624"
      },
      "outputs": [
        {
          "output_type": "stream",
          "name": "stdout",
          "text": [
            "False\n",
            "False\n"
          ]
        }
      ],
      "source": [
        "A = np.random.randint(0,2,5)\n",
        "B = np.random.randint(0,2,5)\n",
        "equal = np.allclose(A,B)\n",
        "print(equal)\n",
        "equal = np.array_equal(A,B)\n",
        "print(equal)\n"
      ]
    },
    {
      "cell_type": "markdown",
      "metadata": {
        "id": "-C_qr70FmI5W"
      },
      "source": [
        "#### 43. Make an array immutable (read-only) (★★☆) \n",
        "(**hint**: flags.writeable)"
      ]
    },
    {
      "cell_type": "code",
      "execution_count": null,
      "metadata": {
        "id": "g_NaYIrPmI5W",
        "colab": {
          "base_uri": "https://localhost:8080/",
          "height": 235
        },
        "outputId": "3da87deb-2998-4163-9318-43ccc4bf3742"
      },
      "outputs": [
        {
          "output_type": "stream",
          "name": "stdout",
          "text": [
            "Test the array is read-only or not:\n",
            "Try to change the value of the first element:\n"
          ]
        },
        {
          "output_type": "error",
          "ename": "ValueError",
          "evalue": "ignored",
          "traceback": [
            "\u001b[0;31m---------------------------------------------------------------------------\u001b[0m",
            "\u001b[0;31mValueError\u001b[0m                                Traceback (most recent call last)",
            "\u001b[0;32m<ipython-input-8-251f37d8a1eb>\u001b[0m in \u001b[0;36m<module>\u001b[0;34m\u001b[0m\n\u001b[1;32m      3\u001b[0m \u001b[0mprint\u001b[0m\u001b[0;34m(\u001b[0m\u001b[0;34m\"Test the array is read-only or not:\"\u001b[0m\u001b[0;34m)\u001b[0m\u001b[0;34m\u001b[0m\u001b[0;34m\u001b[0m\u001b[0m\n\u001b[1;32m      4\u001b[0m \u001b[0mprint\u001b[0m\u001b[0;34m(\u001b[0m\u001b[0;34m\"Try to change the value of the first element:\"\u001b[0m\u001b[0;34m)\u001b[0m\u001b[0;34m\u001b[0m\u001b[0;34m\u001b[0m\u001b[0m\n\u001b[0;32m----> 5\u001b[0;31m \u001b[0mz\u001b[0m\u001b[0;34m[\u001b[0m\u001b[0;36m0\u001b[0m\u001b[0;34m]\u001b[0m \u001b[0;34m=\u001b[0m \u001b[0;36m1\u001b[0m\u001b[0;34m\u001b[0m\u001b[0;34m\u001b[0m\u001b[0m\n\u001b[0m",
            "\u001b[0;31mValueError\u001b[0m: assignment destination is read-only"
          ]
        }
      ],
      "source": [
        "\n",
        "z= np.zeros(10)\n",
        "z.flags.writeable = False\n",
        "print(\"Test the array is read-only or not:\")\n",
        "print(\"Try to change the value of the first element:\")\n",
        "z[0] = 1"
      ]
    },
    {
      "cell_type": "markdown",
      "metadata": {
        "id": "gUoGFdl0mI5W"
      },
      "source": [
        "#### 44. Consider a random 10x2 matrix representing cartesian coordinates, convert them to polar coordinates (★★☆) \n",
        "(**hint**: np.sqrt, np.arctan2)"
      ]
    },
    {
      "cell_type": "code",
      "execution_count": null,
      "metadata": {
        "id": "VTFuCFYOmI5W",
        "colab": {
          "base_uri": "https://localhost:8080/"
        },
        "outputId": "6b224ce8-bd4b-4506-ef9e-2f5ad062ba53"
      },
      "outputs": [
        {
          "output_type": "stream",
          "name": "stdout",
          "text": [
            "[0.41329152 0.85577957 0.65385251 0.16442535 1.22346161 1.31065314\n",
            " 0.95195794 0.66590861 1.07478559 0.90233224]\n",
            "[0.11127925 0.89828157 0.22317497 0.5949339  0.86467489 0.740154\n",
            " 1.28808017 0.60934692 0.39728604 1.5606974 ]\n"
          ]
        }
      ],
      "source": [
        "Z = np.random.random((10,2))\n",
        "X,Y = Z[:,0], Z[:,1]\n",
        "R = np.sqrt(X**2+Y**2)\n",
        "T = np.arctan2(Y,X)\n",
        "print(R)\n",
        "print(T)"
      ]
    },
    {
      "cell_type": "markdown",
      "metadata": {
        "id": "XB2GQ5nXmI5W"
      },
      "source": [
        "#### 45. Create random vector of size 10 and replace the maximum value by 0 (★★☆) \n",
        "(**hint**: argmax)"
      ]
    },
    {
      "cell_type": "code",
      "execution_count": null,
      "metadata": {
        "id": "kWgulANdmI5W",
        "colab": {
          "base_uri": "https://localhost:8080/"
        },
        "outputId": "5d6a0d04-b0f9-4d1d-89ac-1c3de8fc4674"
      },
      "outputs": [
        {
          "output_type": "stream",
          "name": "stdout",
          "text": [
            "[0.59798388 0.46922434 0.31478693 0.51512905 0.82305438 0.55656066\n",
            " 0.55252206 0.42519442 0.0681231  0.        ]\n"
          ]
        }
      ],
      "source": [
        "Z = np.random.random(10)\n",
        "Z[Z.argmax()] = 0\n",
        "print(Z)"
      ]
    },
    {
      "cell_type": "markdown",
      "metadata": {
        "id": "474jZRXBmI5X"
      },
      "source": [
        "#### 46. Create a structured array with `x` and `y` coordinates covering the \\[0,1\\]x\\[0,1\\] area (★★☆) \n",
        "(**hint**: np.meshgrid)"
      ]
    },
    {
      "cell_type": "code",
      "execution_count": null,
      "metadata": {
        "id": "vk_WYjEAmI5X",
        "colab": {
          "base_uri": "https://localhost:8080/"
        },
        "outputId": "3f60d612-2e03-41da-8c09-01665304d12c"
      },
      "outputs": [
        {
          "output_type": "stream",
          "name": "stdout",
          "text": [
            "[[(0.  , 0.  ) (0.25, 0.  ) (0.5 , 0.  ) (0.75, 0.  ) (1.  , 0.  )]\n",
            " [(0.  , 0.25) (0.25, 0.25) (0.5 , 0.25) (0.75, 0.25) (1.  , 0.25)]\n",
            " [(0.  , 0.5 ) (0.25, 0.5 ) (0.5 , 0.5 ) (0.75, 0.5 ) (1.  , 0.5 )]\n",
            " [(0.  , 0.75) (0.25, 0.75) (0.5 , 0.75) (0.75, 0.75) (1.  , 0.75)]\n",
            " [(0.  , 1.  ) (0.25, 1.  ) (0.5 , 1.  ) (0.75, 1.  ) (1.  , 1.  )]]\n"
          ]
        }
      ],
      "source": [
        "Z = np.zeros((5,5), [('x',float),('y',float)])\n",
        "Z['x'], Z['y'] = np.meshgrid(np.linspace(0,1,5),\n",
        "                             np.linspace(0,1,5))\n",
        "print(Z)"
      ]
    },
    {
      "cell_type": "markdown",
      "metadata": {
        "id": "CMGDOPi0mI5X"
      },
      "source": [
        "####  47. Given two arrays, X and Y, construct the Cauchy matrix C (Cij =1/(xi - yj)) \n",
        "(**hint**: np.subtract.outer)"
      ]
    },
    {
      "cell_type": "code",
      "execution_count": null,
      "metadata": {
        "id": "WkyxX0C9mI5X",
        "colab": {
          "base_uri": "https://localhost:8080/"
        },
        "outputId": "5c0f79ab-10ec-471d-9d79-9b543bf9a7ff"
      },
      "outputs": [
        {
          "output_type": "stream",
          "name": "stdout",
          "text": [
            "3638.163637117973\n"
          ]
        }
      ],
      "source": [
        "X = np.arange(8)\n",
        "Y = X + 0.5\n",
        "C = 1.0 / np.subtract.outer(X, Y)\n",
        "print(np.linalg.det(C))"
      ]
    },
    {
      "cell_type": "markdown",
      "metadata": {
        "id": "s8OeqKuKmI5X"
      },
      "source": [
        "#### 48. Print the minimum and maximum representable value for each numpy scalar type (★★☆) \n",
        "(**hint**: np.iinfo, np.finfo, eps)"
      ]
    },
    {
      "cell_type": "code",
      "execution_count": null,
      "metadata": {
        "id": "ht9JalEimI5X",
        "colab": {
          "base_uri": "https://localhost:8080/"
        },
        "outputId": "1ef0aa30-1ddb-4916-ba39-276bffcad00d"
      },
      "outputs": [
        {
          "output_type": "stream",
          "name": "stdout",
          "text": [
            "-128\n",
            "127\n",
            "-2147483648\n",
            "2147483647\n",
            "-9223372036854775808\n",
            "9223372036854775807\n",
            "-3.4028235e+38\n",
            "3.4028235e+38\n",
            "1.1920929e-07\n",
            "-1.7976931348623157e+308\n",
            "1.7976931348623157e+308\n",
            "2.220446049250313e-16\n"
          ]
        }
      ],
      "source": [
        "for dtype in [np.int8, np.int32, np.int64]:\n",
        "   print(np.iinfo(dtype).min)\n",
        "   print(np.iinfo(dtype).max)\n",
        "for dtype in [np.float32, np.float64]:\n",
        "   print(np.finfo(dtype).min)\n",
        "   print(np.finfo(dtype).max)\n",
        "   print(np.finfo(dtype).eps)"
      ]
    },
    {
      "cell_type": "markdown",
      "metadata": {
        "id": "XDpFIO9SmI5X"
      },
      "source": [
        "#### 49. How to print all the values of an array? (★★☆) \n",
        "(**hint**: np.set\\_printoptions)"
      ]
    },
    {
      "cell_type": "code",
      "execution_count": null,
      "metadata": {
        "id": "WzqY1f_omI5Y",
        "colab": {
          "base_uri": "https://localhost:8080/"
        },
        "outputId": "d2ee0dd0-c9e1-4c28-acd1-b1de02d519f0"
      },
      "outputs": [
        {
          "output_type": "stream",
          "name": "stdout",
          "text": [
            "[  0   1   2   3   4   5   6   7   8   9  10  11  12  13  14  15  16  17\n",
            "  18  19  20  21  22  23  24  25  26  27  28  29  30  31  32  33  34  35\n",
            "  36  37  38  39  40  41  42  43  44  45  46  47  48  49  50  51  52  53\n",
            "  54  55  56  57  58  59  60  61  62  63  64  65  66  67  68  69  70  71\n",
            "  72  73  74  75  76  77  78  79  80  81  82  83  84  85  86  87  88  89\n",
            "  90  91  92  93  94  95  96  97  98  99 100 101 102 103 104 105 106 107\n",
            " 108 109 110 111 112 113 114 115 116 117 118 119 120 121 122 123 124 125\n",
            " 126 127 128 129 130 131 132 133 134 135 136 137 138 139 140 141 142 143\n",
            " 144 145 146 147 148 149 150 151 152 153 154 155 156 157 158 159 160 161\n",
            " 162 163 164 165 166 167 168 169 170 171 172 173 174 175 176 177 178 179\n",
            " 180 181 182 183 184 185 186 187 188 189 190 191 192 193 194 195 196 197\n",
            " 198 199 200 201 202 203 204 205 206 207 208 209 210 211 212 213 214 215\n",
            " 216 217 218 219 220 221 222 223 224 225 226 227 228 229 230 231 232 233\n",
            " 234 235 236 237 238 239 240 241 242 243 244 245 246 247 248 249 250 251\n",
            " 252 253 254 255 256 257 258 259 260 261 262 263 264 265 266 267 268 269\n",
            " 270 271 272 273 274 275 276 277 278 279 280 281 282 283 284 285 286 287\n",
            " 288 289 290 291 292 293 294 295 296 297 298 299 300 301 302 303 304 305\n",
            " 306 307 308 309 310 311 312 313 314 315 316 317 318 319 320 321 322 323\n",
            " 324 325 326 327 328 329 330 331 332 333 334 335 336 337 338 339 340 341\n",
            " 342 343 344 345 346 347 348 349 350 351 352 353 354 355 356 357 358 359\n",
            " 360 361 362 363 364 365 366 367 368 369 370 371 372 373 374 375 376 377\n",
            " 378 379 380 381 382 383 384 385 386 387 388 389 390 391 392 393 394 395\n",
            " 396 397 398 399 400 401 402 403 404 405 406 407 408 409 410 411 412 413\n",
            " 414 415 416 417 418 419 420 421 422 423 424 425 426 427 428 429 430 431\n",
            " 432 433 434 435 436 437 438 439 440 441 442 443 444 445 446 447 448 449\n",
            " 450 451 452 453 454 455 456 457 458 459 460 461 462 463 464 465 466 467\n",
            " 468 469 470 471 472 473 474 475 476 477 478 479 480 481 482 483 484 485\n",
            " 486 487 488 489 490 491 492 493 494 495 496 497 498 499 500 501 502 503\n",
            " 504 505 506 507 508 509 510 511 512 513 514 515 516 517 518 519 520 521\n",
            " 522 523 524 525 526 527 528 529 530 531 532 533 534 535 536 537 538 539\n",
            " 540 541 542 543 544 545 546 547 548 549 550 551 552 553 554 555 556 557\n",
            " 558 559 560 561 562 563 564 565 566 567 568 569 570 571 572 573 574 575\n",
            " 576 577 578 579 580 581 582 583 584 585 586 587 588 589 590 591 592 593\n",
            " 594 595 596 597 598 599 600 601 602 603 604 605 606 607 608 609 610 611\n",
            " 612 613 614 615 616 617 618 619 620 621 622 623 624 625 626 627 628 629\n",
            " 630 631 632 633 634 635 636 637 638 639 640 641 642 643 644 645 646 647\n",
            " 648 649 650 651 652 653 654 655 656 657 658 659 660 661 662 663 664 665\n",
            " 666 667 668 669 670 671 672 673 674 675 676 677 678 679 680 681 682 683\n",
            " 684 685 686 687 688 689 690 691 692 693 694 695 696 697 698 699 700 701\n",
            " 702 703 704 705 706 707 708 709 710 711 712 713 714 715 716 717 718 719\n",
            " 720 721 722 723 724 725 726 727 728 729 730 731 732 733 734 735 736 737\n",
            " 738 739 740 741 742 743 744 745 746 747 748 749 750 751 752 753 754 755\n",
            " 756 757 758 759 760 761 762 763 764 765 766 767 768 769 770 771 772 773\n",
            " 774 775 776 777 778 779 780 781 782 783 784 785 786 787 788 789 790 791\n",
            " 792 793 794 795 796 797 798 799 800 801 802 803 804 805 806 807 808 809\n",
            " 810 811 812 813 814 815 816 817 818 819 820 821 822 823 824 825 826 827\n",
            " 828 829 830 831 832 833 834 835 836 837 838 839 840 841 842 843 844 845\n",
            " 846 847 848 849 850 851 852 853 854 855 856 857 858 859 860 861 862 863\n",
            " 864 865 866 867 868 869 870 871 872 873 874 875 876 877 878 879 880 881\n",
            " 882 883 884 885 886 887 888 889 890 891 892 893 894 895 896 897 898 899\n",
            " 900 901 902 903 904 905 906 907 908 909 910 911 912 913 914 915 916 917\n",
            " 918 919 920 921 922 923 924 925 926 927 928 929 930 931 932 933 934 935\n",
            " 936 937 938 939 940 941 942 943 944 945 946 947 948 949 950 951 952 953\n",
            " 954 955 956 957 958 959 960 961 962 963 964 965 966 967 968 969 970 971\n",
            " 972 973 974 975 976 977 978 979 980 981 982 983 984 985 986 987 988 989\n",
            " 990 991 992 993 994 995 996 997 998 999]\n"
          ]
        }
      ],
      "source": [
        "import sys\n",
        "import numpy as np\n",
        "array = np.arange((1000))\n",
        "np.set_printoptions(threshold=sys.maxsize)\n",
        "print(array)"
      ]
    },
    {
      "cell_type": "markdown",
      "metadata": {
        "id": "OcVWo8NGmI5Y"
      },
      "source": [
        "#### 50. How to find the closest value (to a given scalar) in a vector? (★★☆) \n",
        "(**hint**: argmin)"
      ]
    },
    {
      "cell_type": "code",
      "execution_count": null,
      "metadata": {
        "id": "Z7PrxtRBmI5Y",
        "colab": {
          "base_uri": "https://localhost:8080/"
        },
        "outputId": "052a8a5d-d37c-4924-e2b0-c6abeee2bdc8"
      },
      "outputs": [
        {
          "output_type": "stream",
          "name": "stdout",
          "text": [
            "34\n"
          ]
        }
      ],
      "source": [
        "Z = np.arange(100)\n",
        "v = np.random.uniform(0,100)\n",
        "index = (np.abs(Z-v)).argmin()\n",
        "print(Z[index])"
      ]
    },
    {
      "cell_type": "markdown",
      "metadata": {
        "id": "ZFZQhmsymI5Y"
      },
      "source": [
        "#### 51. Create a structured array representing a position (x,y) and a color (r,g,b) (★★☆) \n",
        "(**hint**: dtype)"
      ]
    },
    {
      "cell_type": "code",
      "execution_count": null,
      "metadata": {
        "id": "x-dATLdDmI5Y",
        "colab": {
          "base_uri": "https://localhost:8080/"
        },
        "outputId": "880cfda2-c35c-497c-f740-049c84bf53d7"
      },
      "outputs": [
        {
          "output_type": "stream",
          "name": "stdout",
          "text": [
            "[((0., 0.), (0., 0., 0.)) ((0., 0.), (0., 0., 0.))\n",
            " ((0., 0.), (0., 0., 0.)) ((0., 0.), (0., 0., 0.))\n",
            " ((0., 0.), (0., 0., 0.)) ((0., 0.), (0., 0., 0.))\n",
            " ((0., 0.), (0., 0., 0.)) ((0., 0.), (0., 0., 0.))\n",
            " ((0., 0.), (0., 0., 0.)) ((0., 0.), (0., 0., 0.))]\n"
          ]
        },
        {
          "output_type": "stream",
          "name": "stderr",
          "text": [
            "/usr/local/lib/python3.7/dist-packages/ipykernel_launcher.py:5: FutureWarning: Passing (type, 1) or '1type' as a synonym of type is deprecated; in a future version of numpy, it will be understood as (type, (1,)) / '(1,)type'.\n",
            "  \"\"\"\n"
          ]
        }
      ],
      "source": [
        "Z = np.zeros(10, [ ('position', [ ('x', float, 1),\n",
        "                                  ('y', float, 1)]),\n",
        "                   ('color',    [ ('r', float, 1),\n",
        "                                  ('g', float, 1),\n",
        "                                  ('b', float, 1)])])\n",
        "print(Z)"
      ]
    },
    {
      "cell_type": "markdown",
      "metadata": {
        "id": "ZQSB7dP7mI5Y"
      },
      "source": [
        "#### 52. Consider a random vector with shape (100,2) representing coordinates, find point by point distances (★★☆) \n",
        "(**hint**: np.atleast\\_2d, T, np.sqrt)"
      ]
    },
    {
      "cell_type": "code",
      "execution_count": null,
      "metadata": {
        "id": "DaM69ZeumI5Z",
        "colab": {
          "base_uri": "https://localhost:8080/"
        },
        "outputId": "b95a5d09-9b2e-476e-c278-a4a4bfe63235"
      },
      "outputs": [
        {
          "output_type": "stream",
          "name": "stdout",
          "text": [
            "[[0.         0.53526949 0.67410131 0.45644761 0.46169252 0.38091161\n",
            "  0.63484604 0.64684122 1.04779841 0.16557576 0.16118496 0.32797175\n",
            "  0.54995056 0.23102372 0.0554202  0.98707673 0.4010941  0.73225591\n",
            "  0.82257715 0.87248575 0.56047364 0.54606869 0.72062119 0.18043959\n",
            "  0.86470034 0.35715586 0.38619256 0.74997073 0.63522838 0.04908439\n",
            "  0.32231038 0.58909205 0.16087655 0.67041758 0.6381318  0.55444928\n",
            "  0.90302555 0.78555052 0.08963031 0.90278231 0.11010955 0.8450761\n",
            "  0.5434693  0.847364   0.58436654 0.26962969 0.32909241 0.56096617\n",
            "  0.98614197 0.54466473 0.98227743 0.617665   0.83295753 0.80716005\n",
            "  0.93221436 0.52365417 0.61158534 0.31647064 0.73763051 0.89932885\n",
            "  0.81115092 0.91864958 0.48759285 0.83097233 0.08421706 0.81388819\n",
            "  0.85277718 0.93708207 0.67939643 0.7144843  0.23482332 0.81047619\n",
            "  0.92501836 0.10995261 0.79968012 0.22549192 0.61399678 0.11462908\n",
            "  0.07549873 0.81283014 0.79646387 0.8443954  0.92049517 0.86587252\n",
            "  0.79680176 0.50942196 0.74186562 0.74076998 0.71637138 0.65016512\n",
            "  0.75806935 0.51937061 0.78547653 0.15952385 0.41889135 0.64121276\n",
            "  0.44834396 0.37176323 0.74551205 0.17523018]\n",
            " [0.53526949 0.         0.56276163 0.08473491 0.55882372 0.19261375\n",
            "  0.44179994 0.61239081 0.54699124 0.65502853 0.37534915 0.21537501\n",
            "  0.34482576 0.52523453 0.48569097 0.49539446 0.25142452 0.22645089\n",
            "  0.31475938 0.41577588 0.65950428 0.37899281 0.56946601 0.41513133\n",
            "  0.51991668 0.24673261 0.52193221 0.24043537 0.62510445 0.57682446\n",
            "  0.27014606 0.39810456 0.69460008 0.19900101 0.6328574  0.41356577\n",
            "  0.40901386 0.447903   0.53336523 0.51876516 0.57766017 0.61310737\n",
            "  0.62721699 0.65626465 0.04914384 0.32520268 0.22883495 0.09441923\n",
            "  0.46941056 0.09197586 0.53920468 0.15369667 0.55090499 0.42181518\n",
            "  0.5124767  0.10849258 0.39328424 0.32932794 0.27429911 0.65307898\n",
            "  0.27858741 0.38366773 0.61152859 0.34295463 0.5270913  0.60821168\n",
            "  0.35659973 0.40439047 0.56816599 0.54744722 0.5339566  0.29353294\n",
            "  0.38997751 0.61995256 0.57824172 0.36404484 0.17450246 0.46866294\n",
            "  0.46032803 0.31427782 0.73926023 0.53403945 0.38617104 0.34414867\n",
            "  0.32771038 0.54799807 0.26677762 0.40643897 0.18126567 0.13672353\n",
            "  0.27593298 0.09017924 0.50869953 0.62727889 0.46825961 0.11125908\n",
            "  0.52535792 0.61690134 0.23610923 0.46757831]\n",
            " [0.67410131 0.56276163 0.         0.57708143 0.25078094 0.64232216\n",
            "  0.12775511 0.0911679  0.67800838 0.65556022 0.5787475  0.59526015\n",
            "  0.21842373 0.46584679 0.66592727 0.61563894 0.36808242 0.52686132\n",
            "  0.56422613 0.48444864 0.24158397 0.90385075 0.05636371 0.71156385\n",
            "  0.32236783 0.41389301 0.30939639 0.75522181 0.11938361 0.72029168\n",
            "  0.67906637 0.9339768  0.76063516 0.45974916 0.12625006 0.15627011\n",
            "  0.57132767 0.28432951 0.5981441  0.39100611 0.61467835 0.19857184\n",
            "  0.22241399 0.17844679 0.57897026 0.69295789 0.6272934  0.65704531\n",
            "  0.68218833 0.47465699 0.52184346 0.4558731  0.23598462 0.35282132\n",
            "  0.45639952 0.45438098 0.93668662 0.73862958 0.4525425  0.2500259\n",
            "  0.64701769 0.74107975 0.26761831 0.86182517 0.59949038 0.15765567\n",
            "  0.86437337 0.72501073 0.00590593 0.06830686 0.46705992 0.58314654\n",
            "  0.74695475 0.66918747 0.15975477 0.47273622 0.73686359 0.55993383\n",
            "  0.64024718 0.53861453 0.17651906 0.27240661 0.73083079 0.62640362\n",
            "  0.86395874 0.18973933 0.80788116 0.96912879 0.62463378 0.52630976\n",
            "  0.48820186 0.47258925 1.06961548 0.6223547  0.25696845 0.5636365\n",
            "  0.24471924 0.39619547 0.75213003 0.7581048 ]\n",
            " [0.45644761 0.08473491 0.57708143 0.         0.53530466 0.11025784\n",
            "  0.46439057 0.61533549 0.63078225 0.58392805 0.29874123 0.13185197\n",
            "  0.36021834 0.4690919  0.40542506 0.57807591 0.22923878 0.30900044\n",
            "  0.39838307 0.49249318 0.64216855 0.33254666 0.59174529 0.33058161\n",
            "  0.57789318 0.2077667  0.48880186 0.30025278 0.62442519 0.49646424\n",
            "  0.1866359  0.35893332 0.61678472 0.27288714 0.63174327 0.42212499\n",
            "  0.49150294 0.50190041 0.46143916 0.58417809 0.50629665 0.6525902\n",
            "  0.61059015 0.68968167 0.13150811 0.24069059 0.14410011 0.11679813\n",
            "  0.55408789 0.14549932 0.61529807 0.22222352 0.5977206  0.48477831\n",
            "  0.58425839 0.1464872  0.35994833 0.24770534 0.34917344 0.6964868\n",
            "  0.36234388 0.46539798 0.58735789 0.39386978 0.45471603 0.64257765\n",
            "  0.41154309 0.48778304 0.58277469 0.57163238 0.47801445 0.37796969\n",
            "  0.47158158 0.54564339 0.61440668 0.3028497  0.1925759  0.39797267\n",
            "  0.3810609  0.39665361 0.75178154 0.58577237 0.46867523 0.42887634\n",
            "  0.36985858 0.53370341 0.30942641 0.40506856 0.26347075 0.21921462\n",
            "  0.35486283 0.12886176 0.49767813 0.55786679 0.44437561 0.19599342\n",
            "  0.50243517 0.57461704 0.29576661 0.3828664 ]\n",
            " [0.46169252 0.55882372 0.25078094 0.53530466 0.         0.558219\n",
            "  0.28686357 0.19427007 0.8541631  0.41310707 0.41061819 0.49599271\n",
            "  0.28097926 0.23436588 0.46778824 0.78865251 0.30875628 0.62121175\n",
            "  0.68679903 0.65360924 0.11328077 0.82057149 0.30647158 0.54589394\n",
            "  0.54199205 0.32915471 0.07584236 0.7911708  0.17726881 0.50304995\n",
            "  0.56676303 0.85783916 0.52249969 0.54429492 0.17892545 0.22326961\n",
            "  0.72521463 0.48163918 0.37648289 0.60334323 0.38330234 0.44806966\n",
            "  0.08694577 0.4275298  0.59328099 0.55965876 0.52490273 0.6429277\n",
            "  0.83373438 0.49325611 0.72283059 0.51537685 0.47145666 0.53671708\n",
            "  0.65911769 0.46601179 0.86804693 0.6137169  0.57142624 0.50048324\n",
            "  0.73954039 0.84789044 0.05271169 0.89777509 0.37979435 0.40812506\n",
            "  0.90789331 0.84403295 0.25443554 0.31173288 0.23304086 0.69475723\n",
            "  0.85442703 0.43464649 0.40659393 0.30833324 0.72410539 0.35478314\n",
            "  0.4470477  0.6649485  0.33713244 0.50041499 0.84154978 0.74774082\n",
            "  0.88620204 0.06106136 0.82545699 0.93878314 0.68407733 0.58344376\n",
            "  0.60575229 0.47876157 1.02478134 0.38143345 0.09107657 0.60699986\n",
            "  0.03349145 0.14573082 0.78720442 0.58224136]\n",
            " [0.38091161 0.19261375 0.64232216 0.11025784 0.558219   0.\n",
            "  0.54015463 0.66784887 0.73958183 0.52539995 0.23702712 0.06700696\n",
            "  0.43331946 0.44431529 0.32658118 0.68775824 0.27571463 0.41866165\n",
            "  0.50737216 0.60242591 0.67007474 0.26557751 0.66439987 0.23238981\n",
            "  0.67899689 0.23635289 0.5002554  0.37183204 0.67271148 0.41525082\n",
            "  0.07799886 0.30061546 0.54124882 0.38263474 0.67937834 0.48618035\n",
            "  0.60126134 0.60110258 0.40420296 0.68953642 0.4490198  0.73956326\n",
            "  0.64017493 0.77107976 0.23549181 0.13573564 0.05224259 0.18478004\n",
            "  0.66071533 0.25261567 0.72500297 0.33114484 0.69100538 0.58934098\n",
            "  0.6925722  0.24866489 0.30984114 0.13744759 0.45891068 0.78623708\n",
            "  0.46415821 0.56200202 0.60777678 0.45007085 0.39662005 0.72535338\n",
            "  0.47194294 0.58789233 0.64818286 0.64642572 0.45323055 0.48574323\n",
            "  0.56788866 0.48034847 0.6990648  0.27915209 0.23322415 0.34627649\n",
            "  0.30637449 0.50643212 0.81220312 0.68270106 0.56683783 0.53510385\n",
            "  0.41671899 0.56842955 0.36101818 0.39514276 0.36339654 0.32881196\n",
            "  0.46511589 0.23296494 0.47009368 0.50367469 0.47049965 0.30268714\n",
            "  0.52732312 0.56932735 0.36743759 0.28139474]\n",
            " [0.63484604 0.44179994 0.12775511 0.46439057 0.28686357 0.54015463\n",
            "  0.         0.20324731 0.57763893 0.64813796 0.51600778 0.50039027\n",
            "  0.10694369 0.45469387 0.6167104  0.51311646 0.27637386 0.40041403\n",
            "  0.44273375 0.37850204 0.32382999 0.79559159 0.12793202 0.6412798\n",
            "  0.25725447 0.32665513 0.31968179 0.62781502 0.22664545 0.68326477\n",
            "  0.58581526 0.8232857  0.74401366 0.33219336 0.23473818 0.08140311\n",
            "  0.45958989 0.19493546 0.56983677 0.31662229 0.59480885 0.21367933\n",
            "  0.29632163 0.23278215 0.45471925 0.60785325 0.53220905 0.53619574\n",
            "  0.57062695 0.35178457 0.43705354 0.32855683 0.20107522 0.2535594\n",
            "  0.37278761 0.33343201 0.8239656  0.64847869 0.32882948 0.26681292\n",
            "  0.52116384 0.61786013 0.32291256 0.73423717 0.56944103 0.1897967\n",
            "  0.73663561 0.6041203  0.13230459 0.10724833 0.45829322 0.45960775\n",
            "  0.62388745 0.65072847 0.16886999 0.41617607 0.61470222 0.5209768\n",
            "  0.58893279 0.41771379 0.30154943 0.22116419 0.60826344 0.50525109\n",
            "  0.73700369 0.23303774 0.68145533 0.84788546 0.49687869 0.39873395\n",
            "  0.3647289  0.352118   0.95035385 0.61373312 0.24942042 0.436564\n",
            "  0.2662713  0.42571245 0.62476969 0.69178877]\n",
            " [0.64684122 0.61239081 0.0911679  0.61533549 0.19427007 0.66784887\n",
            "  0.20324731 0.         0.76806452 0.60737698 0.5713143  0.61457058\n",
            "  0.27126781 0.42556001 0.64605867 0.70524869 0.39285623 0.60206119\n",
            "  0.64588156 0.57306673 0.15629172 0.93290598 0.14174664 0.70707874\n",
            "  0.41329717 0.43248262 0.26455482 0.81887879 0.0286536  0.69055679\n",
            "  0.69518902 0.96572996 0.71650104 0.53141739 0.0351025  0.19955848\n",
            "  0.65839399 0.37468208 0.56502597 0.48212578 0.57544002 0.27869884\n",
            "  0.14292683 0.24412338 0.6342593  0.70138578 0.64612558 0.70536292\n",
            "  0.76947418 0.52876839 0.61298975 0.52097239 0.32515539 0.44230802\n",
            "  0.54753976 0.50582164 0.97098668 0.75087494 0.53204724 0.32608508\n",
            "  0.72325337 0.82105882 0.19622464 0.92641751 0.56753676 0.23602025\n",
            "  0.93091196 0.80722436 0.09081676 0.15850167 0.42513416 0.66280139\n",
            "  0.82710237 0.62782481 0.24467246 0.46433474 0.78670394 0.53537009\n",
            "  0.62251545 0.62074049 0.15263    0.36273253 0.81150933 0.70836853\n",
            "  0.92496506 0.13843445 0.86713664 1.01589549 0.69280454 0.59232913\n",
            "  0.56795692 0.52295974 1.11256179 0.57562005 0.2312989  0.62669688\n",
            "  0.19967276 0.33308213 0.81552659 0.74961233]\n",
            " [1.04779841 0.54699124 0.67800838 0.63078225 0.8541631  0.73958183\n",
            "  0.57763893 0.76806452 0.         1.12985477 0.88877817 0.75576793\n",
            "  0.57838391 0.95481947 1.00587488 0.06567494 0.66045404 0.32270356\n",
            "  0.23241218 0.20057246 0.90140815 0.86651146 0.63772961 0.95644213\n",
            "  0.37403094 0.695714   0.86585568 0.47930252 0.79506642 1.09436017\n",
            "  0.81710358 0.86644418 1.19683335 0.37750186 0.80258247 0.6309487\n",
            "  0.14479102 0.39371842 1.01959605 0.30530984 1.0586017  0.55201276\n",
            "  0.87386393 0.61733713 0.50579498 0.87121211 0.77372313 0.58314765\n",
            "  0.09869228 0.50732734 0.17775704 0.43079753 0.47149994 0.3260751\n",
            "  0.23477993 0.52554385 0.84840454 0.87575123 0.3121473  0.54500722\n",
            "  0.29815996 0.2635219  0.89630871 0.5240794  1.01543845 0.58415536\n",
            "  0.50397282 0.21941886 0.67954115 0.61537443 0.96155856 0.25480364\n",
            "  0.2630676  1.11013027 0.55714257 0.83518842 0.60302105 0.95572388\n",
            "  0.97774778 0.23680487 0.80235403 0.42857868 0.2481973  0.212476\n",
            "  0.56347686 0.80675918 0.55007517 0.76666934 0.39255218 0.41186663\n",
            "  0.28972927 0.53233493 0.87254474 1.09698074 0.79176889 0.43763456\n",
            "  0.82757125 0.9780238  0.48073312 1.01041551]\n",
            " [0.16557576 0.65502853 0.65556022 0.58392805 0.41310707 0.52539995\n",
            "  0.64813796 0.60737698 1.12985477 0.         0.28918475 0.46511035\n",
            "  0.58389164 0.1935538  0.21728383 1.06628507 0.46943998 0.82815978\n",
            "  0.9152711  0.94206805 0.48908846 0.71025581 0.70830721 0.34496813\n",
            "  0.89757406 0.43760717 0.34644345 0.88372481 0.58944116 0.16688249\n",
            "  0.4763339  0.7532902  0.11289116 0.75890599 0.59027292 0.5673074\n",
            "  0.98620952 0.82291927 0.12259262 0.945614   0.07763176 0.84451607\n",
            "  0.48081549 0.83396876 0.70367382 0.42839966 0.47327108 0.6960163\n",
            "  1.07894392 0.64528504 1.0414874  0.70959959 0.84892915 0.85730791\n",
            "  0.98539912 0.62064696 0.7751447  0.47847689 0.81801567 0.89871992\n",
            "  0.92062652 1.03149666 0.42165109 0.97192512 0.12961985 0.80810409\n",
            "  0.99196482 1.04474987 0.66005449 0.70791147 0.19054867 0.90828767\n",
            "  1.03806824 0.05753282 0.80015623 0.29895439 0.75710558 0.18640439\n",
            "  0.22669268 0.9017348  0.7461991  0.86812971 1.03133845 0.96489311\n",
            "  0.94118372 0.47094584 0.88385954 0.90030181 0.83212681 0.75388922\n",
            "  0.84346889 0.62076913 0.9491542  0.03449753 0.40369044 0.75292664\n",
            "  0.41181917 0.28542642 0.87923396 0.33980212]\n",
            " [0.16118496 0.37534915 0.5787475  0.29874123 0.41061819 0.23702712\n",
            "  0.51600778 0.5713143  0.88877817 0.28918475 0.         0.17595568\n",
            "  0.42009996 0.22946167 0.11734232 0.82884888 0.25644013 0.57163315\n",
            "  0.66218858 0.71756467 0.5218366  0.4518572  0.61812366 0.13621371\n",
            "  0.72693739 0.20773097 0.33803241 0.59649871 0.56623758 0.20596784\n",
            "  0.19766039 0.49377682 0.31928022 0.51129251 0.57090697 0.44002532\n",
            "  0.74413956 0.64652669 0.16730632 0.75910016 0.21226234 0.72966439\n",
            "  0.49754279 0.74162534 0.42449298 0.16471237 0.18529838 0.40794335\n",
            "  0.82550086 0.38395992 0.83047014 0.458079   0.706262   0.6609884\n",
            "  0.78329672 0.3636132  0.51148761 0.22115826 0.58018104 0.78272504\n",
            "  0.6501793  0.75814823 0.45051453 0.68290905 0.1598421  0.70319006\n",
            "  0.70325311 0.77605654 0.58446829 0.60763668 0.23763095 0.64954565\n",
            "  0.76455246 0.24739587 0.68467999 0.10704851 0.46793642 0.1105774\n",
            "  0.08897103 0.65306782 0.72393277 0.71246318 0.75974047 0.70481366\n",
            "  0.65202247 0.44334979 0.59470934 0.62243287 0.55607322 0.48902675\n",
            "  0.59922134 0.35865931 0.68329624 0.26666683 0.34187514 0.48026397\n",
            "  0.38738528 0.37215495 0.59201259 0.17941896]\n",
            " [0.32797175 0.21537501 0.59526015 0.13185197 0.49599271 0.06700696\n",
            "  0.50039027 0.61457058 0.75576793 0.46511035 0.17595568 0.\n",
            "  0.39372006 0.37743703 0.27551424 0.70049782 0.22734407 0.43308223\n",
            "  0.52381665 0.60484404 0.60853204 0.32469702 0.62134417 0.20094886\n",
            "  0.66054996 0.18248361 0.43593112 0.42228717 0.61769134 0.36616848\n",
            "  0.08555451 0.36192997 0.48882961 0.38638995 0.62406527 0.44032542\n",
            "  0.6139489  0.5809043  0.34296287 0.67776136 0.38801033 0.70597837\n",
            "  0.5792104  0.7329942  0.26318024 0.12125837 0.03204982 0.23327\n",
            "  0.68259909 0.25278623 0.7252664  0.33273498 0.66346791 0.57698213\n",
            "  0.68760361 0.241613   0.37312892 0.14976963 0.46146564 0.75471177\n",
            "  0.49385769 0.59721778 0.54472835 0.50698886 0.33563233 0.68859035\n",
            "  0.52752976 0.61947934 0.60115955 0.60485029 0.38636284 0.50570059\n",
            "  0.60338577 0.42255455 0.66393513 0.21216929 0.29217006 0.28300212\n",
            "  0.25250841 0.51954779 0.76162229 0.65906414 0.60052346 0.55809849\n",
            "  0.47624779 0.50939167 0.41875631 0.46214965 0.3953134  0.34456703\n",
            "  0.47268438 0.22951624 0.53603648 0.4418898  0.4097623  0.32604066\n",
            "  0.46578602 0.50268937 0.41781678 0.25465041]\n",
            " [0.54995056 0.34482576 0.21842373 0.36021834 0.28097926 0.43331946\n",
            "  0.10694369 0.27126781 0.57838391 0.58389164 0.42009996 0.39372006\n",
            "  0.         0.39435893 0.5263984  0.5127117  0.17185994 0.34591998\n",
            "  0.40648219 0.37901081 0.35199428 0.69005765 0.23212242 0.54069553\n",
            "  0.31634137 0.22290906 0.28756948 0.54812643 0.28757434 0.59895117\n",
            "  0.47921161 0.71859677 0.6716073  0.27058123 0.29566958 0.07277305\n",
            "  0.44550342 0.23946302 0.49314052 0.36172253 0.52316375 0.31515009\n",
            "  0.3204413  0.33927617 0.36365892 0.50267609 0.42547506 0.43893795\n",
            "  0.55315853 0.25838516 0.4633402  0.25226767 0.28618183 0.27602089\n",
            "  0.40407603 0.2367653  0.72016646 0.54220964 0.29072091 0.366311\n",
            "  0.46664013 0.57177976 0.32811605 0.6558294  0.4916088  0.29514912\n",
            "  0.66115849 0.56518522 0.2239507  0.21324421 0.39958767 0.41615839\n",
            "  0.57819459 0.57876905 0.27171605 0.32595261 0.51921384 0.4386257\n",
            "  0.49788475 0.38420436 0.39470528 0.29458813 0.56441201 0.46794259\n",
            "  0.65370711 0.24330834 0.59591308 0.7509532  0.42507464 0.32361673\n",
            "  0.32541566 0.2546756  0.85119344 0.54947819 0.21340327 0.3561414\n",
            "  0.25180545 0.39967932 0.54470313 0.59246054]\n",
            " [0.23102372 0.52523453 0.46584679 0.4690919  0.23436588 0.44431529\n",
            "  0.45469387 0.42556001 0.95481947 0.1935538  0.22946167 0.37743703\n",
            "  0.39435893 0.         0.24692394 0.89012414 0.30228535 0.66732161\n",
            "  0.75012302 0.76190278 0.32951347 0.67988189 0.51730195 0.34915691\n",
            "  0.70553027 0.28359862 0.16101749 0.76446703 0.41095071 0.26976768\n",
            "  0.42213286 0.72128256 0.29486078 0.59382173 0.41303368 0.37403904\n",
            "  0.81332725 0.63206932 0.14317618 0.75543099 0.14997686 0.65188339\n",
            "  0.31337512 0.64373826 0.57093856 0.39413277 0.39738729 0.5858821\n",
            "  0.91160061 0.49475866 0.85592246 0.54871594 0.65539922 0.66979379\n",
            "  0.79801483 0.4678582  0.73768062 0.45060938 0.64585513 0.70620731\n",
            "  0.77021171 0.88247718 0.25676987 0.86235609 0.14729418 0.61617305\n",
            "  0.87883094 0.89036648 0.47059901 0.5157773  0.00898014 0.74738415\n",
            "  0.88915258 0.20351258 0.60729996 0.16757992 0.65832727 0.13705241\n",
            "  0.23214144 0.73397443 0.57143404 0.67500216 0.88027199 0.80401668\n",
            "  0.8388218  0.28716312 0.77851235 0.8390974  0.69059139 0.60213334\n",
            "  0.67423375 0.47222863 0.90740362 0.15926395 0.21101253 0.60940909\n",
            "  0.22613491 0.14748856 0.76005431 0.37362816]\n",
            " [0.0554202  0.48569097 0.66592727 0.40542506 0.46778824 0.32658118\n",
            "  0.6167104  0.64605867 1.00587488 0.21728383 0.11734232 0.27551424\n",
            "  0.5263984  0.24692394 0.         0.94611875 0.36932815 0.68784403\n",
            "  0.77860658 0.83471276 0.57191439 0.49298294 0.70979427 0.12785239\n",
            "  0.83799843 0.32247693 0.39199131 0.6966923  0.63675112 0.09113722\n",
            "  0.26693522 0.53601843 0.21466933 0.62844149 0.64031034 0.53778688\n",
            "  0.86129531 0.75804477 0.11985849 0.87277262 0.15309677 0.82916697\n",
            "  0.55229001 0.83563489 0.534637   0.21433242 0.27503027 0.50782791\n",
            "  0.94157393 0.50022165 0.94698511 0.57509751 0.81182154 0.77554612\n",
            "  0.89892952 0.48047643 0.55802961 0.2619918  0.69752277 0.88301563\n",
            "  0.76293195 0.8693582  0.49876042 0.7764936  0.11223396 0.79995223\n",
            "  0.79852263 0.88895476 0.67141781 0.70183405 0.25240429 0.7652021\n",
            "  0.87566711 0.16354691 0.78383005 0.2008851  0.55942428 0.11320179\n",
            "  0.02909046 0.76992588 0.79756142 0.8207048  0.87166093 0.82008214\n",
            "  0.74193167 0.51089238 0.68731766 0.68581518 0.66695662 0.60409622\n",
            "  0.71641444 0.47494297 0.73201995 0.20680657 0.41522847 0.59310315\n",
            "  0.45083102 0.39315361 0.69224601 0.1323174 ]\n",
            " [0.98707673 0.49539446 0.61563894 0.57807591 0.78865251 0.68775824\n",
            "  0.51311646 0.70524869 0.06567494 1.06628507 0.82884888 0.70049782\n",
            "  0.5127117  0.89012414 0.94611875 0.         0.59710534 0.26910659\n",
            "  0.18198399 0.13520871 0.83694617 0.82871022 0.5768072  0.90054331\n",
            "  0.3185825  0.63345329 0.80019381 0.45228795 0.73200224 1.0340047\n",
            "  0.7647117  0.83141472 1.13478239 0.31801097 0.73959583 0.56547844\n",
            "  0.08663565 0.33183335 0.95697745 0.25224899 0.99554772 0.49738632\n",
            "  0.8091651  0.56289894 0.45659674 0.81755144 0.71974378 0.53862284\n",
            "  0.09905182 0.44980206 0.1363078  0.37183881 0.41525539 0.2629417\n",
            "  0.18326261 0.46666105 0.81491187 0.82472102 0.24978853 0.49446324\n",
            "  0.26481906 0.25553274 0.83101786 0.50912066 0.95296416 0.52762566\n",
            "  0.49159066 0.21334719 0.61735469 0.55402164 0.8967916  0.20911948\n",
            "  0.25675636 1.04746113 0.49958363 0.77265749 0.56552718 0.8934149\n",
            "  0.91779405 0.18144573 0.74449619 0.37251671 0.23953487 0.17718186\n",
            "  0.54488717 0.74155107 0.5248165  0.74309729 0.35181107 0.35895224\n",
            "  0.22996247 0.47451212 0.85111655 1.03325806 0.72609973 0.38834489\n",
            "  0.76196463 0.91235793 0.45316244 0.95487389]\n",
            " [0.4010941  0.25142452 0.36808242 0.22923878 0.30875628 0.27571463\n",
            "  0.27637386 0.39285623 0.66045404 0.46943998 0.25644013 0.22734407\n",
            "  0.17185994 0.30228535 0.36932815 0.59710534 0.         0.36504696\n",
            "  0.44874632 0.47547915 0.41341232 0.5401582  0.3944863  0.37027395\n",
            "  0.47058135 0.05130406 0.27101177 0.48851307 0.39921494 0.44985249\n",
            "  0.31181986 0.57291711 0.540094   0.29211423 0.40619746 0.21300365\n",
            "  0.51679364 0.39010912 0.36086367 0.50345066 0.39854027 0.48700527\n",
            "  0.38164592 0.50895152 0.28940067 0.33148081 0.25939377 0.33419438\n",
            "  0.61134939 0.19819095 0.58184238 0.24645688 0.4545496  0.40649125\n",
            "  0.53112026 0.17036201 0.57867637 0.37311979 0.34858704 0.53804815\n",
            "  0.46966842 0.58192174 0.36132523 0.59338615 0.35732338 0.46604022\n",
            "  0.60547331 0.5884092  0.37397577 0.37874882 0.31004419 0.44515371\n",
            "  0.58860722 0.45106007 0.44342014 0.1778897  0.41552007 0.29872131\n",
            "  0.34025766 0.43367165 0.53651775 0.45778511 0.57907637 0.50181926\n",
            "  0.57910511 0.30446536 0.51811268 0.63430722 0.39592193 0.30236925\n",
            "  0.37467945 0.17866847 0.72546213 0.43675042 0.21775569 0.31507301\n",
            "  0.27545531 0.37027257 0.48435993 0.42296485]\n",
            " [0.73225591 0.22645089 0.52686132 0.30900044 0.62121175 0.41866165\n",
            "  0.40041403 0.60206119 0.32270356 0.82815978 0.57163315 0.43308223\n",
            "  0.34591998 0.66732161 0.68784403 0.26910659 0.36504696 0.\n",
            "  0.09110857 0.20028948 0.69790466 0.57781812 0.51062111 0.63383907\n",
            "  0.35833259 0.39073421 0.610932   0.25841656 0.6231966  0.7775822\n",
            "  0.49562945 0.58695775 0.8856898  0.07712615 0.63140652 0.41599075\n",
            "  0.1826072  0.30773033 0.71237663 0.33348346 0.75376017 0.50020401\n",
            "  0.66634898 0.55757159 0.18995054 0.54887377 0.45121767 0.27865849\n",
            "  0.25388873 0.18767718 0.32222861 0.11895525 0.42154613 0.25401719\n",
            "  0.30790125 0.20919613 0.57466761 0.55571142 0.08619839 0.52561827\n",
            "  0.12143738 0.22668934 0.67089076 0.35438636 0.70743748 0.51073793\n",
            "  0.35045234 0.22561898 0.53086163 0.4857165  0.67503386 0.08028663\n",
            "  0.23321744 0.8025627  0.47831201 0.52937702 0.32241646 0.64730882\n",
            "  0.66029517 0.08782697 0.69306721 0.3910072  0.22058289 0.13701793\n",
            "  0.37042645 0.58868756 0.32708227 0.53477639 0.1212864  0.08984969\n",
            "  0.0633037  0.21297634 0.64534497 0.79681131 0.54152324 0.12294048\n",
            "  0.5896693  0.72028603 0.25686126 0.68773262]\n",
            " [0.82257715 0.31475938 0.56422613 0.39838307 0.68679903 0.50737216\n",
            "  0.44273375 0.64588156 0.23241218 0.9152711  0.66218858 0.52381665\n",
            "  0.40648219 0.75012302 0.77860658 0.18198399 0.44874632 0.09110857\n",
            "  0.         0.1472873  0.75499276 0.65071329 0.53965893 0.7246736\n",
            "  0.34278237 0.47771347 0.683416   0.29424796 0.66926355 0.86815639\n",
            "  0.58478102 0.65592289 0.97515762 0.15669345 0.67738731 0.47216411\n",
            "  0.09761391 0.31129966 0.80075382 0.3015381  0.84158421 0.50477359\n",
            "  0.72434774 0.56669262 0.274783   0.63880705 0.54136302 0.35723127\n",
            "  0.16405213 0.27839169 0.25726641 0.20618367 0.42166613 0.24534294\n",
            "  0.25913568 0.29899573 0.64110946 0.64386738 0.11614336 0.52126085\n",
            "  0.11098951 0.17819983 0.73458606 0.37324967 0.79600563 0.52250874\n",
            "  0.36264653 0.1614126  0.56752081 0.51479613 0.75757655 0.03398171\n",
            "  0.18373088 0.89112778 0.4905343  0.61705635 0.38917842 0.73590376\n",
            "  0.75094883 0.02632187 0.72074078 0.38515337 0.16696631 0.06255411\n",
            "  0.39952931 0.64910752 0.3672182  0.58367296 0.17510433 0.1795071\n",
            "  0.081074   0.30366414 0.69384172 0.88347719 0.61185455 0.20649373\n",
            "  0.65651232 0.79438625 0.29402694 0.77843989]\n",
            " [0.87248575 0.41577588 0.48444864 0.49249318 0.65360924 0.60242591\n",
            "  0.37850204 0.57306673 0.20057246 0.94206805 0.71756467 0.60484404\n",
            "  0.37901081 0.76190278 0.83471276 0.13520871 0.47547915 0.20028948\n",
            "  0.1472873  0.         0.70226827 0.77784016 0.44865687 0.80091844\n",
            "  0.21016494 0.51570474 0.66656217 0.44019977 0.59936424 0.92037335\n",
            "  0.67655133 0.78723602 1.01552419 0.21986408 0.60707639 0.43038014\n",
            "  0.09349798 0.20383761 0.83631318 0.15819641 0.87328555 0.38470288\n",
            "  0.67425609 0.44950689 0.38596561 0.72512898 0.62764119 0.47779431\n",
            "  0.20010328 0.35247713 0.12350267 0.27251518 0.30044624 0.13279963\n",
            "  0.11206385 0.36394568 0.77471491 0.7395907  0.14374118 0.39189829\n",
            "  0.25800848 0.30348    0.69581235 0.52036607 0.83280122 0.40983355\n",
            "  0.50909531 0.27214488 0.48650594 0.42509068 0.76825289 0.1810675\n",
            "  0.30746202 0.92638197 0.37975105 0.65301533 0.52219535 0.77401642\n",
            "  0.80591792 0.12745998 0.62185951 0.2596138  0.28897785 0.18858273\n",
            "  0.54668874 0.60634512 0.51272131 0.72737765 0.31334456 0.28257306\n",
            "  0.14109136 0.37532918 0.83788912 0.90855449 0.59234648 0.32155014\n",
            "  0.62717154 0.77861103 0.43972115 0.8558738 ]\n",
            " [0.56047364 0.65950428 0.24158397 0.64216855 0.11328077 0.67007474\n",
            "  0.32382999 0.15629172 0.90140815 0.48908846 0.5218366  0.60853204\n",
            "  0.35199428 0.32951347 0.57191439 0.83694617 0.41341232 0.69790466\n",
            "  0.75499276 0.70226827 0.         0.93321588 0.29601099 0.65626461\n",
            "  0.56105042 0.43839795 0.18387955 0.88618358 0.12874458 0.59867789\n",
            "  0.67998211 0.97015746 0.60157292 0.62243095 0.12493527 0.28302522\n",
            "  0.78159354 0.51327728 0.47246399 0.62789694 0.472367   0.43490882\n",
            "  0.03245694 0.39898441 0.69074819 0.67271311 0.63772029 0.74659777\n",
            "  0.89221164 0.5878165  0.75548302 0.60008997 0.47747151 0.57639366\n",
            "  0.69021596 0.56147926 0.97988243 0.72691669 0.63887855 0.4822512\n",
            "  0.81858447 0.92345569 0.07316219 0.99364954 0.47679029 0.39228159\n",
            "  1.00206995 0.91532464 0.24279846 0.30978295 0.32621562 0.76693467\n",
            "  0.92982923 0.5194709  0.3998108  0.42094663 0.82831032 0.45879874\n",
            "  0.55295127 0.73144017 0.26322904 0.51290992 0.9157286  0.81718555\n",
            "  0.98500069 0.11236704 0.92478587 1.04688378 0.77199339 0.67033277\n",
            "  0.67438461 0.57576947 1.1348827  0.46057559 0.1998459  0.69790667\n",
            "  0.14278851 0.20376996 0.88238306 0.69060734]\n",
            " [0.54606869 0.37899281 0.90385075 0.33254666 0.82057149 0.26557751\n",
            "  0.79559159 0.93290598 0.86651146 0.71025581 0.4518572  0.32469702\n",
            "  0.69005765 0.67988189 0.49298294 0.82871022 0.5401582  0.57781812\n",
            "  0.65071329 0.77784016 0.93321588 0.         0.92217594 0.36563745\n",
            "  0.89887081 0.50193039 0.75894937 0.4002386  0.93819222 0.56114516\n",
            "  0.25917675 0.04303607 0.68785573 0.57266105 0.94489718 0.74764151\n",
            "  0.74798927 0.82656468 0.60196744 0.89513888 0.64237834 0.98465409\n",
            "  0.90389173 1.02220536 0.39566093 0.28865429 0.29579915 0.30090926\n",
            "  0.77315293 0.46733273 0.90001627 0.53193593 0.92722552 0.79989091\n",
            "  0.88224844 0.47533115 0.06750298 0.23398916 0.64418743 1.02756984\n",
            "  0.5683981  0.63185932 0.86887811 0.41638986 0.59377577 0.97512394\n",
            "  0.44407365 0.67004404 0.9096565  0.90277547 0.68833933 0.62049734\n",
            "  0.63587822 0.65595202 0.94687222 0.5262147  0.2635602  0.55861064\n",
            "  0.48578586 0.65971132 1.075783   0.91229548 0.64260587 0.65453187\n",
            "  0.36853195 0.83339131 0.34355877 0.21722046 0.47698392 0.49781305\n",
            "  0.63743011 0.4566017  0.23972463 0.69775341 0.73437606 0.45663123\n",
            "  0.790481   0.81684667 0.39748009 0.38230175]\n",
            " [0.72062119 0.56946601 0.05636371 0.59174529 0.30647158 0.66439987\n",
            "  0.12793202 0.14174664 0.63772961 0.70830721 0.61812366 0.62134417\n",
            "  0.23212242 0.51730195 0.70979427 0.5768072  0.3944863  0.51062111\n",
            "  0.53965893 0.44865687 0.29601099 0.92217594 0.         0.74878954\n",
            "  0.27413624 0.44276193 0.36295379 0.74877032 0.17039609 0.76749009\n",
            "  0.70622114 0.95047608 0.81213043 0.44820562 0.17639812 0.18236947\n",
            "  0.5382297  0.2453345  0.64691484 0.34397128 0.66520486 0.14222223\n",
            "  0.2780612  0.1270256  0.58105263 0.7240832  0.65335716 0.66381723\n",
            "  0.64820758 0.47902848 0.4764695  0.45097255 0.18362048 0.31589471\n",
            "  0.41131634 0.46119937 0.95153608 0.76748244 0.43191282 0.19401991\n",
            "  0.62861618 0.71769736 0.3239708  0.85398622 0.64788891 0.10165356\n",
            "  0.85473919 0.69878418 0.05385418 0.02497377 0.51892165 0.56107574\n",
            "  0.72333481 0.72013979 0.10394849 0.51347997 0.74189152 0.60608108\n",
            "  0.68342488 0.51359037 0.18247739 0.22217981 0.70660676 0.60100744\n",
            "  0.85927113 0.24541345 0.80496246 0.97525172 0.61486994 0.51957739\n",
            "  0.46683774 0.47993622 1.07811877 0.67483257 0.30690041 0.55922976\n",
            "  0.29897214 0.45207131 0.74593004 0.79688264]\n",
            " [0.18043959 0.41513133 0.71156385 0.33058161 0.54589394 0.23238981\n",
            "  0.6412798  0.70707874 0.95644213 0.34496813 0.13621371 0.20094886\n",
            "  0.54069553 0.34915691 0.12785239 0.90054331 0.37027395 0.63383907\n",
            "  0.7246736  0.80091844 0.65626461 0.36563745 0.74878954 0.\n",
            "  0.83622357 0.31902487 0.47241203 0.6020487  0.70235984 0.19955401\n",
            "  0.15968947 0.40866475 0.32854069 0.58461528 0.70707466 0.56832346\n",
            "  0.81411543 0.75552441 0.2427621  0.86143519 0.27987867 0.85450031\n",
            "  0.6327136  0.87043455 0.46186672 0.10036836 0.18715153 0.41691606\n",
            "  0.8834613  0.45125547 0.9193504  0.53061754 0.82482262 0.76126814\n",
            "  0.87786552 0.43715903 0.43119825 0.13814181 0.65854856 0.90659775\n",
            "  0.6926234  0.79326022 0.58430198 0.67278048 0.2346703  0.83032645\n",
            "  0.6964309  0.81760183 0.71734688 0.73695715 0.35625855 0.70661986\n",
            "  0.79924933 0.29031743 0.81005702 0.24281072 0.45679103 0.21356217\n",
            "  0.12529958 0.71996872 0.85964752 0.82709826 0.79751069 0.75877041\n",
            "  0.63490767 0.57955241 0.58363451 0.56278383 0.59284777 0.54550524\n",
            "  0.6717821  0.42707286 0.60505095 0.33433491 0.47806043 0.52626203\n",
            "  0.52331577 0.49615736 0.59772582 0.05504237]\n",
            " [0.86470034 0.51991668 0.32236783 0.57789318 0.54199205 0.67899689\n",
            "  0.25725447 0.41329717 0.37403094 0.89757406 0.72693739 0.66054996\n",
            "  0.31634137 0.70553027 0.83799843 0.3185825  0.47058135 0.35833259\n",
            "  0.34278237 0.21016494 0.56105042 0.89887081 0.27413624 0.83622357\n",
            "  0.         0.52039309 0.57676411 0.61654809 0.44170076 0.91377948\n",
            "  0.74288187 0.91644946 0.98770608 0.33217816 0.44839048 0.33367226\n",
            "  0.30316132 0.08072024 0.80947676 0.07053977 0.83897244 0.17881772\n",
            "  0.53813724 0.24433404 0.50735583 0.78009398 0.6891948  0.60278679\n",
            "  0.4038453  0.43403304 0.20411457 0.3672791  0.09758229 0.10452812\n",
            "  0.14038706 0.43177551 0.90916781 0.80832074 0.27349693 0.18173456\n",
            "  0.45109614 0.51172846 0.57358298 0.70862741 0.80794228 0.21019805\n",
            "  0.70122787 0.48203836 0.32248046 0.2549248  0.70991249 0.37345454\n",
            "  0.51606628 0.89471184 0.18417785 0.63948491 0.6649654  0.75451318\n",
            "  0.8090959  0.31783243 0.42898406 0.0546958  0.49772171 0.39423944\n",
            "  0.72805449 0.48520588 0.68530426 0.88892285 0.47948214 0.41260245\n",
            "  0.29690715 0.44903854 0.99888455 0.86307878 0.50552946 0.45714898\n",
            "  0.52309113 0.68276329 0.6151001  0.89027957]\n",
            " [0.35715586 0.24673261 0.41389301 0.2077667  0.32915471 0.23635289\n",
            "  0.32665513 0.43248262 0.695714   0.43760717 0.20773097 0.18248361\n",
            "  0.22290906 0.28359862 0.32247693 0.63345329 0.05130406 0.39073421\n",
            "  0.47771347 0.51570474 0.43839795 0.50193039 0.44276193 0.31902487\n",
            "  0.52039309 0.         0.2811035  0.48712017 0.43653785 0.40544527\n",
            "  0.26527054 0.53644462 0.50133614 0.32157294 0.44313224 0.26053999\n",
            "  0.551205   0.43977635 0.32404172 0.55137413 0.36404731 0.53797754\n",
            "  0.40754232 0.55887682 0.28994291 0.28166272 0.21431986 0.32021247\n",
            "  0.64151635 0.21171996 0.62530951 0.2720216  0.50580488 0.45336494\n",
            "  0.57647336 0.18541154 0.54406164 0.3250242  0.38373248 0.58919311\n",
            "  0.48803185 0.60010048 0.38069448 0.58912588 0.31975361 0.51643971\n",
            "  0.60330489 0.61003184 0.41979882 0.42780256 0.29198374 0.47095722\n",
            "  0.60675818 0.4145924  0.49422824 0.13968545 0.39945415 0.26001507\n",
            "  0.29339648 0.46466967 0.57914115 0.50863842 0.59853794 0.52763805\n",
            "  0.57085418 0.33346666 0.50974092 0.60965939 0.40700137 0.31992076\n",
            "  0.40717172 0.18873578 0.69649639 0.40608464 0.2388869  0.32581058\n",
            "  0.29680693 0.37077899 0.48281003 0.37186268]\n",
            " [0.38619256 0.52193221 0.30939639 0.48880186 0.07584236 0.5002554\n",
            "  0.31968179 0.26455482 0.86585568 0.34644345 0.33803241 0.43593112\n",
            "  0.28756948 0.16101749 0.39199131 0.80019381 0.27101177 0.610932\n",
            "  0.683416   0.66656217 0.18387955 0.75894937 0.36295379 0.47241203\n",
            "  0.57676411 0.2811035  0.         0.75946499 0.25025342 0.42810269\n",
            "  0.50227294 0.79735736 0.45331499 0.53393016 0.25263406 0.24494369\n",
            "  0.73123033 0.50992154 0.30175678 0.63365015 0.31089122 0.50158873\n",
            "  0.16108405 0.48783996 0.56035847 0.4911179  0.46340276 0.60072701\n",
            "  0.83691834 0.46563952 0.74619712 0.49880402 0.51508494 0.55828016\n",
            "  0.6843544  0.43778204 0.80905996 0.54607732 0.57050687 0.55528101\n",
            "  0.72548807 0.83615156 0.11278302 0.86435922 0.30479768 0.46370935\n",
            "  0.8764428  0.83623507 0.31378379 0.36432701 0.16065976 0.68769923\n",
            "  0.8427869  0.36359305 0.45818851 0.23867369 0.68048179 0.27895209\n",
            "  0.37147093 0.66335007 0.41115727 0.53985152 0.83114903 0.7425222\n",
            "  0.8492032  0.12621158 0.7881049  0.8877795  0.66147434 0.56328726\n",
            "  0.60317843 0.44823082 0.96968881 0.31359567 0.07427986 0.58197254\n",
            "  0.06560397 0.11220504 0.75532696 0.50749763]\n",
            " [0.74997073 0.24043537 0.75522181 0.30025278 0.7911708  0.37183204\n",
            "  0.62781502 0.81887879 0.47930252 0.88372481 0.59649871 0.42228717\n",
            "  0.54812643 0.76446703 0.6966923  0.45228795 0.48851307 0.25841656\n",
            "  0.29424796 0.44019977 0.88618358 0.4002386  0.74877032 0.6020487\n",
            "  0.61654809 0.48712017 0.75946499 0.         0.83569312 0.78639878\n",
            "  0.44252828 0.39330388 0.91083635 0.30311011 0.84377785 0.62073666\n",
            "  0.38248515 0.56481151 0.76114524 0.58760612 0.80611042 0.75500717\n",
            "  0.85372708 0.80975442 0.19911327 0.50227558 0.42215625 0.18903266\n",
            "  0.38207699 0.29849958 0.55044828 0.29935398 0.67839764 0.51237739\n",
            "  0.55222926 0.32532509 0.37273884 0.48206982 0.34426851 0.78294748\n",
            "  0.18902572 0.23200401 0.84373905 0.10783207 0.75427248 0.76204131\n",
            "  0.11699124 0.27161513 0.75997158 0.7245064  0.77326232 0.26030372\n",
            "  0.23581606 0.84389131 0.72981479 0.60079754 0.15240251 0.69808161\n",
            "  0.67461471 0.31276393 0.92876775 0.64909007 0.24344516 0.27561205\n",
            "  0.11256868 0.7738206  0.07324605 0.29141838 0.13842427 0.22930257\n",
            "  0.31982338 0.3125082  0.40071163 0.85804185 0.70194695 0.19220525\n",
            "  0.75773239 0.8567476  0.00449085 0.64729181]\n",
            " [0.63522838 0.62510445 0.11938361 0.62442519 0.17726881 0.67271148\n",
            "  0.22664545 0.0286536  0.79506642 0.58944116 0.56623758 0.61769134\n",
            "  0.28757434 0.41095071 0.63675112 0.73200224 0.39921494 0.6231966\n",
            "  0.66926355 0.59936424 0.12874458 0.93819222 0.17039609 0.70235984\n",
            "  0.44170076 0.43653785 0.25025342 0.83569312 0.         0.6780346\n",
            "  0.696985   0.97182286 0.69950786 0.55152627 0.00821276 0.21498963\n",
            "  0.68393229 0.4020067  0.55190858 0.51038344 0.56037016 0.3067705\n",
            "  0.11779569 0.27047856 0.64871718 0.70073767 0.64896117 0.71736441\n",
            "  0.79505306 0.54323921 0.64097923 0.5389731  0.35380238 0.46911637\n",
            "  0.57551832 0.51956145 0.97789071 0.75126647 0.55482059 0.35355161\n",
            "  0.74456029 0.84363825 0.17341007 0.94340374 0.55477287 0.26401792\n",
            "  0.94856332 0.83067231 0.11926973 0.18702165 0.41000006 0.68542177\n",
            "  0.84974071 0.61191466 0.27320599 0.4596318  0.79900041 0.52508553\n",
            "  0.61396855 0.64432905 0.16123753 0.39129509 0.83436196 0.73180209\n",
            "  0.94073115 0.12598278 0.88239456 1.02679076 0.71136374 0.61040246\n",
            "  0.5907533  0.53627912 1.1220782  0.55822997 0.22448214 0.64370463\n",
            "  0.18688478 0.31171743 0.83225816 0.74350641]\n",
            " [0.04908439 0.57682446 0.72029168 0.49646424 0.50304995 0.41525082\n",
            "  0.68326477 0.69055679 1.09436017 0.16688249 0.20596784 0.36616848\n",
            "  0.59895117 0.26976768 0.09113722 1.0340047  0.44985249 0.7775822\n",
            "  0.86815639 0.92037335 0.59867789 0.56114516 0.76749009 0.19955401\n",
            "  0.91377948 0.40544527 0.42810269 0.78639878 0.6780346  0.\n",
            "  0.35171773 0.60394114 0.12908774 0.71686784 0.68065259 0.6026992\n",
            "  0.94964033 0.8346345  0.1266718  0.95180329 0.13249215 0.89300779\n",
            "  0.58314234 0.89436394 0.62577416 0.2957844  0.36427668 0.59778088\n",
            "  1.03143402 0.58990518 1.03071692 0.66384343 0.88168708 0.85605929\n",
            "  0.98095107 0.56951014 0.62774552 0.33769414 0.78479875 0.94731426\n",
            "  0.8539469  0.9604906  0.52627378 0.8642821  0.12330503 0.8614301\n",
            "  0.88678121 0.97996341 0.72552287 0.76180559 0.27254421 0.85533664\n",
            "  0.96680151 0.10967996 0.84762253 0.274561   0.64717343 0.16241301\n",
            "  0.11742309 0.85892209 0.83915598 0.89335122 0.96276342 0.91042923\n",
            "  0.82862161 0.55259694 0.77500277 0.76215967 0.75808981 0.69450012\n",
            "  0.80467855 0.56460588 0.80082638 0.17095776 0.46425445 0.68407906\n",
            "  0.49133859 0.40500144 0.78196725 0.18046562]\n",
            " [0.32231038 0.27014606 0.67906637 0.1866359  0.56676303 0.07799886\n",
            "  0.58581526 0.69518902 0.81710358 0.4763339  0.19766039 0.08555451\n",
            "  0.47921161 0.42213286 0.26693522 0.7647117  0.31181986 0.49562945\n",
            "  0.58478102 0.67655133 0.67998211 0.25917675 0.70622114 0.15968947\n",
            "  0.74288187 0.26527054 0.50227294 0.44252828 0.696985   0.35171773\n",
            "  0.         0.29973511 0.47997909 0.45673713 0.7030964  0.52476375\n",
            "  0.67813715 0.66372686 0.35898272 0.75745212 0.40248711 0.79147638\n",
            "  0.6517618  0.81847283 0.31348233 0.05980597 0.05435804 0.25895166\n",
            "  0.73867971 0.32470543 0.79850289 0.40427681 0.74822718 0.65679793\n",
            "  0.76389034 0.31754983 0.31554883 0.065439   0.53282102 0.84006808\n",
            "  0.54194941 0.63880799 0.6135106  0.51391035 0.35098671 0.77413295\n",
            "  0.53721118 0.66535648 0.68497111 0.69000191 0.43073461 0.56353045\n",
            "  0.64462046 0.42720851 0.74948278 0.26725509 0.29739036 0.30768778\n",
            "  0.25090006 0.58328799 0.84363895 0.74296045 0.6439627  0.61308226\n",
            "  0.47715309 0.58499876 0.42465145 0.4258144  0.4410716  0.40582173\n",
            "  0.54060396 0.30335644 0.48608549 0.45816567 0.48366203 0.38056461\n",
            "  0.53799968 0.55768608 0.43822371 0.20566745]\n",
            " [0.58909205 0.39810456 0.9339768  0.35893332 0.85783916 0.30061546\n",
            "  0.8232857  0.96572996 0.86644418 0.7532902  0.49377682 0.36192997\n",
            "  0.71859677 0.72128256 0.53601843 0.83141472 0.57291711 0.58695775\n",
            "  0.65592289 0.78723602 0.97015746 0.04303607 0.95047608 0.40866475\n",
            "  0.91644946 0.53644462 0.79735736 0.39330388 0.97182286 0.60394114\n",
            "  0.29973511 0.         0.73044083 0.58728642 0.97865769 0.77803136\n",
            "  0.75252203 0.84581711 0.64481453 0.90961344 0.68532948 1.00838674\n",
            "  0.9405098  1.04777967 0.41006335 0.33110337 0.33396507 0.31443564\n",
            "  0.77153196 0.48836003 0.90835547 0.5492009  0.94865984 0.81602199\n",
            "  0.89355265 0.49838412 0.02880235 0.27675552 0.65689283 1.05007836\n",
            "  0.5685682  0.62521927 0.90664659 0.39846684 0.63662429 1.00035285\n",
            "  0.4261871  0.66477395 0.93974318 0.93053336 0.72978883 0.62473265\n",
            "  0.62886911 0.69898101 0.971546   0.56614967 0.26674464 0.60099054\n",
            "  0.5287434  0.66650281 1.10703526 0.93210798 0.63673775 0.65563916\n",
            "  0.35004955 0.8690415  0.33168262 0.18236672 0.48102783 0.51033027\n",
            "  0.64788819 0.47945459 0.19688645 0.74072864 0.77085618 0.46783082\n",
            "  0.82736929 0.8572795  0.39094165 0.42483241]\n",
            " [0.16087655 0.69460008 0.76063516 0.61678472 0.52249969 0.54124882\n",
            "  0.74401366 0.71650104 1.19683335 0.11289116 0.31928022 0.48882961\n",
            "  0.6716073  0.29486078 0.21466933 1.13478239 0.540094   0.8856898\n",
            "  0.97515762 1.01552419 0.60157292 0.68785573 0.81213043 0.32854069\n",
            "  0.98770608 0.50133614 0.45331499 0.91083635 0.69950786 0.12908774\n",
            "  0.47997909 0.73044083 0.         0.82085384 0.70064915 0.66263942\n",
            "  1.05217017 0.91091515 0.1799601  1.03184747 0.14924244 0.94577425\n",
            "  0.59255344 0.93859834 0.74374201 0.42467234 0.48963249 0.7218389\n",
            "  1.13915672 0.69889576 1.12054381 0.76917559 0.94503938 0.93996095\n",
            "  1.06715399 0.67649552 0.75481113 0.46664875 0.88502985 1.00019221\n",
            "  0.96887474 1.07732771 0.53345042 0.99113377 0.18290735 0.91067025\n",
            "  1.01319131 1.09456692 0.76534356 0.81021944 0.29361492 0.96479498\n",
            "  1.08374798 0.09330375 0.90092995 0.36259406 0.77404082 0.24158339\n",
            "  0.23632215 0.96397152 0.85736768 0.96159676 1.07872911 1.02072303\n",
            "  0.95626565 0.57902782 0.90193585 0.89082891 0.87533829 0.8058632\n",
            "  0.90764185 0.6737177  0.92723398 0.14152821 0.50550742 0.79909003\n",
            "  0.51891894 0.39808127 0.90637888 0.30562053]\n",
            " [0.67041758 0.19900101 0.45974916 0.27288714 0.54429492 0.38263474\n",
            "  0.33219336 0.53141739 0.37750186 0.75890599 0.51129251 0.38638995\n",
            "  0.27058123 0.59382173 0.62844149 0.31801097 0.29211423 0.07712615\n",
            "  0.15669345 0.21986408 0.62243095 0.57266105 0.44820562 0.58461528\n",
            "  0.33217816 0.32157294 0.53393016 0.30311011 0.55152627 0.71686784\n",
            "  0.45673713 0.58728642 0.82085384 0.         0.55973705 0.34161643\n",
            "  0.2328543  0.26895529 0.64523821 0.32254009 0.68561507 0.45390097\n",
            "  0.59070184 0.50709314 0.17728733 0.50597896 0.40826831 0.27285625\n",
            "  0.32003907 0.13362411 0.34241765 0.0540537  0.38048785 0.2295179\n",
            "  0.31347977 0.14869736 0.57854819 0.51973501 0.07629029 0.48535351\n",
            "  0.19620304 0.30363002 0.59416795 0.4064665  0.6406774  0.45921105\n",
            "  0.40654889 0.30236518 0.4640738  0.42360111 0.60136111 0.15474315\n",
            "  0.31018486 0.73572819 0.42708278 0.46115504 0.33280003 0.58065879\n",
            "  0.60026353 0.14321374 0.62980608 0.35561505 0.29770334 0.21086418\n",
            "  0.41522084 0.51261685 0.36496227 0.55899757 0.16687435 0.08092134\n",
            "  0.08805481 0.1575427  0.66827156 0.7269686  0.46439934 0.12550669\n",
            "  0.51265566 0.64351693 0.30064649 0.63932103]\n",
            " [0.6381318  0.6328574  0.12625006 0.63174327 0.17892545 0.67937834\n",
            "  0.23473818 0.0351025  0.80258247 0.59027292 0.57090697 0.62406527\n",
            "  0.29566958 0.41303368 0.64031034 0.73959583 0.40619746 0.63140652\n",
            "  0.67738731 0.60707639 0.12493527 0.94489718 0.17639812 0.70707466\n",
            "  0.44839048 0.44313224 0.25263406 0.84377785 0.00821276 0.68065259\n",
            "  0.7030964  0.97865769 0.70064915 0.55973705 0.         0.22305576\n",
            "  0.69180376 0.40939192 0.5543872  0.51722638 0.56221838 0.31165637\n",
            "  0.1159399  0.27405392 0.6566346  0.70636063 0.65527645 0.72503231\n",
            "  0.80291991 0.55116649 0.64803221 0.54712901 0.35995605 0.47668472\n",
            "  0.58257775 0.52742655 0.98485369 0.75709258 0.56297919 0.35785498\n",
            "  0.75276871 0.85181088 0.17261546 0.95149649 0.55735935 0.2688481\n",
            "  0.95669285 0.83879406 0.12591151 0.19355983 0.41191033 0.69359059\n",
            "  0.8579107  0.61346025 0.27876251 0.46443762 0.80669494 0.52841505\n",
            "  0.61774132 0.65243681 0.15852358 0.39773847 0.84252108 0.73992335\n",
            "  0.9487417  0.12942202 0.89036747 1.03430926 0.71953697 0.61855899\n",
            "  0.59891155 0.54410252 1.1294135  0.55927372 0.22904156 0.65180694\n",
            "  0.18991049 0.31133882 0.84033786 0.74787433]\n",
            " [0.55444928 0.41356577 0.15627011 0.42212499 0.22326961 0.48618035\n",
            "  0.08140311 0.19955848 0.6309487  0.5673074  0.44002532 0.44032542\n",
            "  0.07277305 0.37403904 0.53778688 0.56547844 0.21300365 0.41599075\n",
            "  0.47216411 0.43038014 0.28302522 0.74764151 0.18236947 0.56832346\n",
            "  0.33367226 0.26053999 0.24494369 0.62073666 0.21498963 0.6026992\n",
            "  0.52476375 0.77803136 0.66263942 0.34161643 0.22305576 0.\n",
            "  0.50364548 0.26500125 0.48852716 0.38882551 0.51342479 0.29138567\n",
            "  0.25219059 0.30213177 0.43470083 0.54171867 0.47237455 0.50707083\n",
            "  0.61317577 0.32921147 0.50242657 0.32496575 0.28240548 0.3150253\n",
            "  0.43989166 0.3064524  0.78116677 0.58547391 0.35602142 0.34533328\n",
            "  0.53716687 0.64075882 0.26628067 0.72847492 0.48820175 0.26321432\n",
            "  0.73391699 0.63230957 0.16210364 0.16877529 0.3778714  0.4839436\n",
            "  0.64709678 0.56934883 0.24604323 0.33800821 0.58804645 0.44031506\n",
            "  0.51034432 0.44888804 0.32965979 0.30099262 0.63283011 0.53425511\n",
            "  0.7258713  0.17806646 0.6677684  0.81850296 0.497735   0.39634324\n",
            "  0.39143245 0.32380358 0.9170494  0.53286632 0.1722853  0.42883775\n",
            "  0.19789279 0.35432346 0.61728827 0.61754542]\n",
            " [0.90302555 0.40901386 0.57132767 0.49150294 0.72521463 0.60126134\n",
            "  0.45958989 0.65839399 0.14479102 0.98620952 0.74413956 0.6139489\n",
            "  0.44550342 0.81332725 0.86129531 0.08663565 0.51679364 0.1826072\n",
            "  0.09761391 0.09349798 0.78159354 0.74798927 0.5382297  0.81411543\n",
            "  0.30316132 0.551205   0.73123033 0.38248515 0.68393229 0.94964033\n",
            "  0.67813715 0.75252203 1.05217017 0.2328543  0.69180376 0.50364548\n",
            "  0.         0.29505995 0.87519075 0.24731285 0.91448011 0.47819513\n",
            "  0.75251345 0.54295609 0.37090642 0.73091579 0.63310979 0.45475441\n",
            "  0.11112809 0.36369887 0.1707008  0.28636456 0.39392539 0.22384388\n",
            "  0.18982113 0.38119123 0.73715294 0.7383106  0.16821261 0.48478938\n",
            "  0.1935795  0.21594444 0.76987901 0.45070649 0.87095831 0.50295278\n",
            "  0.43632082 0.18125074 0.57373857 0.51422806 0.82027142 0.12779155\n",
            "  0.21923268 0.9657389  0.47261092 0.69077433 0.48586709 0.81117737\n",
            "  0.8331104  0.09484933 0.71356092 0.35309128 0.20069483 0.11042198\n",
            "  0.482109   0.68149127 0.45570792 0.67376759 0.27150922 0.27245327\n",
            "  0.14496524 0.38853364 0.78318757 0.9535314  0.65771288 0.3027806\n",
            "  0.6970242  0.84335862 0.38281497 0.86838942]\n",
            " [0.78555052 0.447903   0.28432951 0.50190041 0.48163918 0.60110258\n",
            "  0.19493546 0.37468208 0.39371842 0.82291927 0.64652669 0.5809043\n",
            "  0.23946302 0.63206932 0.75804477 0.33183335 0.39010912 0.30773033\n",
            "  0.31129966 0.20383761 0.51327728 0.82656468 0.2453345  0.75552441\n",
            "  0.08072024 0.43977635 0.50992154 0.56481151 0.4020067  0.8346345\n",
            "  0.66372686 0.84581711 0.91091515 0.26895529 0.40939192 0.26500125\n",
            "  0.29505995 0.         0.73205994 0.12400124 0.76260597 0.19432102\n",
            "  0.48773145 0.25540415 0.4393684  0.70007354 0.60985993 0.53393814\n",
            "  0.40387244 0.35971816 0.24274095 0.29772749 0.11381785 0.07124044\n",
            "  0.17801975 0.35542539 0.83981991 0.72915343 0.22160261 0.21813599\n",
            "  0.41290213 0.48786063 0.51751562 0.66206629 0.73029113 0.21156109\n",
            "  0.65731943 0.46376525 0.28582301 0.22225099 0.6368421  0.33812216\n",
            "  0.49292743 0.81817033 0.17994689 0.56014488 0.59995338 0.67611437\n",
            "  0.72909891 0.28507864 0.41850097 0.08698195 0.47523767 0.36914983\n",
            "  0.67728754 0.42778793 0.63078056 0.8279128  0.42641858 0.34981517\n",
            "  0.25099209 0.37318635 0.93699382 0.78846136 0.43712296 0.39430997\n",
            "  0.45997331 0.61850292 0.56292644 0.80956351]\n",
            " [0.08963031 0.53336523 0.5981441  0.46143916 0.37648289 0.40420296\n",
            "  0.56983677 0.56502597 1.01959605 0.12259262 0.16730632 0.34296287\n",
            "  0.49314052 0.14317618 0.11985849 0.95697745 0.36086367 0.71237663\n",
            "  0.80075382 0.83631318 0.47246399 0.60196744 0.64691484 0.2427621\n",
            "  0.80947676 0.32404172 0.30175678 0.76114524 0.55190858 0.1266718\n",
            "  0.35898272 0.64481453 0.1799601  0.64523821 0.5543872  0.48852716\n",
            "  0.87519075 0.73205994 0.         0.85243733 0.04508122 0.77604794\n",
            "  0.45653083 0.77394016 0.58217284 0.31508915 0.3522761  0.57344029\n",
            "  0.96477076 0.52744749 0.94063498 0.59458677 0.77024818 0.76009461\n",
            "  0.88721155 0.50366705 0.665128   0.36809621 0.70748182 0.83051013\n",
            "  0.80141809 0.91170479 0.39987111 0.84953253 0.00819396 0.74286744\n",
            "  0.86945248 0.92618494 0.60323019 0.6426566  0.14626213 0.79215852\n",
            "  0.91824117 0.09055172 0.73081407 0.18441693 0.63510734 0.06536906\n",
            "  0.11762718 0.78843994 0.71291068 0.78500669 0.91199293 0.8485393\n",
            "  0.81919541 0.42679323 0.76160909 0.78462205 0.71144827 0.63567524\n",
            "  0.73120208 0.50260916 0.83879445 0.09962067 0.34124233 0.63286579\n",
            "  0.36548986 0.28213508 0.75665439 0.25215729]\n",
            " [0.90278231 0.51876516 0.39100611 0.58417809 0.60334323 0.68953642\n",
            "  0.31662229 0.48212578 0.30530984 0.945614   0.75910016 0.67776136\n",
            "  0.36172253 0.75543099 0.87277262 0.25224899 0.50345066 0.33348346\n",
            "  0.3015381  0.15819641 0.62789694 0.89513888 0.34397128 0.86143519\n",
            "  0.07053977 0.55137413 0.63365015 0.58760612 0.51038344 0.95180329\n",
            "  0.75745212 0.90961344 1.03184747 0.32254009 0.51722638 0.38882551\n",
            "  0.24731285 0.12400124 0.85243733 0.         0.88409007 0.24673114\n",
            "  0.60406206 0.31202736 0.49979782 0.79868399 0.7048193  0.59527446\n",
            "  0.34163151 0.43868672 0.13358854 0.36522016 0.16765488 0.10077978\n",
            "  0.0706165  0.44092193 0.90020578 0.82262434 0.25410297 0.2424564\n",
            "  0.41230124 0.46128664 0.63722673 0.67378065 0.85036197 0.27995619\n",
            "  0.66405137 0.42844732 0.39137955 0.32414275 0.76033366 0.33426262\n",
            "  0.46509185 0.93943628 0.25457901 0.67738154 0.65115065 0.79510618\n",
            "  0.84370619 0.2785897  0.49905945 0.12498946 0.44656192 0.34671328\n",
            "  0.69707943 0.54804617 0.65857544 0.8682557  0.45394415 0.39979449\n",
            "  0.27021628 0.45671481 0.97881037 0.91119745 0.56103623 0.44336782\n",
            "  0.58269754 0.7417066  0.58662131 0.91611733]\n",
            " [0.11010955 0.57766017 0.61467835 0.50629665 0.38330234 0.4490198\n",
            "  0.59480885 0.57544002 1.0586017  0.07763176 0.21226234 0.38801033\n",
            "  0.52316375 0.14997686 0.15309677 0.99554772 0.39854027 0.75376017\n",
            "  0.84158421 0.87328555 0.472367   0.64237834 0.66520486 0.27987867\n",
            "  0.83897244 0.36404731 0.31089122 0.80611042 0.56037016 0.13249215\n",
            "  0.40248711 0.68532948 0.14924244 0.68561507 0.56221838 0.51342479\n",
            "  0.91448011 0.76260597 0.04508122 0.88409007 0.         0.79748848\n",
            "  0.45924512 0.79200413 0.62637697 0.35701072 0.39702292 0.61848807\n",
            "  1.005491   0.56974118 0.97557633 0.63556041 0.79581624 0.79335179\n",
            "  0.92099308 0.54553007 0.70621444 0.40898565 0.74647493 0.85194412\n",
            "  0.84445096 0.95503767 0.40110674 0.89461356 0.05242287 0.76294334\n",
            "  0.91452557 0.96892283 0.61954547 0.66249071 0.15039049 0.8337269\n",
            "  0.96159209 0.05593894 0.75251616 0.22452788 0.6801371  0.10901266\n",
            "  0.15659594 0.82871171 0.7203627  0.81241771 0.9551062  0.89022561\n",
            "  0.86422667 0.43708773 0.80667965 0.8277428  0.75521406 0.67818986\n",
            "  0.77098553 0.54505158 0.88009264 0.05578687 0.35830571 0.6763008\n",
            "  0.37610749 0.27449948 0.80161958 0.28320571]\n",
            " [0.8450761  0.61310737 0.19857184 0.6525902  0.44806966 0.73956326\n",
            "  0.21367933 0.27869884 0.55201276 0.84451607 0.72966439 0.70597837\n",
            "  0.31515009 0.65188339 0.82916697 0.49738632 0.48700527 0.50020401\n",
            "  0.50477359 0.38470288 0.43490882 0.98465409 0.14222223 0.85450031\n",
            "  0.17881772 0.53797754 0.50158873 0.75500717 0.3067705  0.89300779\n",
            "  0.79147638 1.00838674 0.94577425 0.45390097 0.31165637 0.29138567\n",
            "  0.47819513 0.19432102 0.77604794 0.24673114 0.79748848 0.\n",
            "  0.41893999 0.06551637 0.6134402  0.81745221 0.73727571 0.70454359\n",
            "  0.58169382 0.5213379  0.37845479 0.4730718  0.08433433 0.26006858\n",
            "  0.31733301 0.51000264 1.00560063 0.85542015 0.41455197 0.05447527\n",
            "  0.60722104 0.67991014 0.46609481 0.85439495 0.77632658 0.04285132\n",
            "  0.85053361 0.65351685 0.19577861 0.13728429 0.65418068 0.53225858\n",
            "  0.68474101 0.85301428 0.04539962 0.62913904 0.77648643 0.73062696\n",
            "  0.80166678 0.47868424 0.25614167 0.12562714 0.6667666  0.56119356\n",
            "  0.86756241 0.38708025 0.81876909 1.00829077 0.61673603 0.53323392\n",
            "  0.44500403 0.52893847 1.1156282  0.81063373 0.44093719 0.57680186\n",
            "  0.43883848 0.59378709 0.75287318 0.90531837]\n",
            " [0.5434693  0.62721699 0.22241399 0.61059015 0.08694577 0.64017493\n",
            "  0.29632163 0.14292683 0.87386393 0.48081549 0.49754279 0.5792104\n",
            "  0.3204413  0.31337512 0.55229001 0.8091651  0.38164592 0.66634898\n",
            "  0.72434774 0.67425609 0.03245694 0.90389173 0.2780612  0.6327136\n",
            "  0.53813724 0.40754232 0.16108405 0.85372708 0.11779569 0.58314234\n",
            "  0.6517618  0.9405098  0.59255344 0.59070184 0.1159399  0.25219059\n",
            "  0.75251345 0.48773145 0.45653083 0.60406206 0.45924512 0.41893999\n",
            "  0.         0.38702234 0.65832352 0.64604386 0.60870031 0.71453052\n",
            "  0.86293075 0.55536044 0.73033895 0.5679052  0.45705246 0.54961214\n",
            "  0.66524731 0.52903169 0.94987277 0.69980357 0.608207   0.46790279\n",
            "  0.78688941 0.89211976 0.05917304 0.96119291 0.46042944 0.37672366\n",
            "  0.96962125 0.88443081 0.22427624 0.28990594 0.31083036 0.73586027\n",
            "  0.89851185 0.50811325 0.38197068 0.39513801 0.79628253 0.43909693\n",
            "  0.53233006 0.70097456 0.26593984 0.49121021 0.88452795 0.7864427\n",
            "  0.9525901  0.07991402 0.89239698 1.01545042 0.73970498 0.63806579\n",
            "  0.643618   0.54334798 1.10401159 0.45107681 0.16967579 0.66549993\n",
            "  0.11376356 0.19776238 0.84992622 0.66853537]\n",
            " [0.847364   0.65626465 0.17844679 0.68968167 0.4275298  0.77107976\n",
            "  0.23278215 0.24412338 0.61733713 0.83396876 0.74162534 0.7329942\n",
            "  0.33927617 0.64373826 0.83563489 0.56289894 0.50895152 0.55757159\n",
            "  0.56669262 0.44950689 0.39898441 1.02220536 0.1270256  0.87043455\n",
            "  0.24433404 0.55887682 0.48783996 0.80975442 0.27047856 0.89436394\n",
            "  0.81847283 1.04777967 0.93859834 0.50709314 0.27405392 0.30213177\n",
            "  0.54295609 0.25540415 0.77394016 0.31202736 0.79200413 0.06551637\n",
            "  0.38702234 0.         0.66027474 0.84038519 0.76474796 0.74915226\n",
            "  0.64699605 0.5643024  0.44321156 0.52195724 0.14913169 0.32316519\n",
            "  0.38259204 0.5506185  1.04644261 0.88125524 0.47271351 0.0891728\n",
            "  0.66731591 0.74279949 0.43861581 0.91080136 0.77490895 0.04831823\n",
            "  0.90795443 0.71726264 0.17409951 0.13406877 0.64515594 0.59333192\n",
            "  0.74774652 0.84681652 0.08002673 0.63806891 0.82337153 0.73277731\n",
            "  0.80897608 0.54048117 0.19556396 0.19099298 0.72989311 0.62403601\n",
            "  0.92212954 0.36680412 0.87179817 1.05629704 0.67198391 0.58499061\n",
            "  0.50431206 0.56964332 1.16242315 0.80070138 0.43372286 0.62777891\n",
            "  0.4230497  0.57190748 0.80743995 0.91960265]\n",
            " [0.58436654 0.04914384 0.57897026 0.13150811 0.59328099 0.23549181\n",
            "  0.45471925 0.6342593  0.50579498 0.70367382 0.42449298 0.26318024\n",
            "  0.36365892 0.57093856 0.534637   0.45659674 0.28940067 0.18995054\n",
            "  0.274783   0.38596561 0.69074819 0.39566093 0.58105263 0.46186672\n",
            "  0.50735583 0.28994291 0.56035847 0.19911327 0.64871718 0.62577416\n",
            "  0.31348233 0.41006335 0.74374201 0.17728733 0.6566346  0.43470083\n",
            "  0.37090642 0.4393684  0.58217284 0.49979782 0.62637697 0.6134402\n",
            "  0.65832352 0.66027474 0.         0.37000472 0.27492146 0.09564965\n",
            "  0.42526234 0.10550836 0.50930996 0.14181722 0.54664458 0.40608666\n",
            "  0.48741671 0.12988048 0.401879   0.37027317 0.248786   0.65041713\n",
            "  0.23084555 0.33478516 0.64594575 0.30463998 0.57595158 0.6119748\n",
            "  0.31608442 0.35630792 0.58416422 0.55811374 0.57958561 0.2511424\n",
            "  0.34106434 0.66896419 0.58108629 0.41139734 0.16315746 0.51736559\n",
            "  0.50938082 0.27701099 0.75521366 0.52628228 0.3375576  0.29962433\n",
            "  0.29434659 0.57859631 0.23458736 0.3961477  0.13242416 0.10342302\n",
            "  0.24488707 0.1149848  0.50235079 0.6756879  0.50354253 0.06829396\n",
            "  0.55979886 0.65813664 0.19496853 0.51370236]\n",
            " [0.26962969 0.32520268 0.69295789 0.24069059 0.55965876 0.13573564\n",
            "  0.60785325 0.70138578 0.87121211 0.42839966 0.16471237 0.12125837\n",
            "  0.50267609 0.39413277 0.21433242 0.81755144 0.33148081 0.54887377\n",
            "  0.63880705 0.72512898 0.67271311 0.28865429 0.7240832  0.10036836\n",
            "  0.78009398 0.28166272 0.4911179  0.50227558 0.70073767 0.2957844\n",
            "  0.05980597 0.33110337 0.42467234 0.50597896 0.70636063 0.54171867\n",
            "  0.73091579 0.70007354 0.31508915 0.79868399 0.35701072 0.81745221\n",
            "  0.64604386 0.84038519 0.37000472 0.         0.09790664 0.3185776\n",
            "  0.79456536 0.37267586 0.84603114 0.45267934 0.7791559  0.69790911\n",
            "  0.80883779 0.36261784 0.35042183 0.0565249  0.58152341 0.86753177\n",
            "  0.59961533 0.69767029 0.60370745 0.57245999 0.30693465 0.79746554\n",
            "  0.59606568 0.72358767 0.6988516  0.70944064 0.40233462 0.61865231\n",
            "  0.7035335  0.37703118 0.77436671 0.25246281 0.3564312  0.26996169\n",
            "  0.20170884 0.63616123 0.85212854 0.77671264 0.7025699  0.6691605\n",
            "  0.53487324 0.58384792 0.48329083 0.47204492 0.49900233 0.45936656\n",
            "  0.59136671 0.34997938 0.52381789 0.41276632 0.48135706 0.43627415\n",
            "  0.53292021 0.53545974 0.49797807 0.14604663]\n",
            " [0.32909241 0.22883495 0.6272934  0.14410011 0.52490273 0.05224259\n",
            "  0.53220905 0.64612558 0.77372313 0.47327108 0.18529838 0.03204982\n",
            "  0.42547506 0.39738729 0.27503027 0.71974378 0.25939377 0.45121767\n",
            "  0.54136302 0.62764119 0.63772029 0.29579915 0.65335716 0.18715153\n",
            "  0.6891948  0.21431986 0.46340276 0.42215625 0.64896117 0.36427668\n",
            "  0.05435804 0.33396507 0.48963249 0.40826831 0.65527645 0.47237455\n",
            "  0.63310979 0.60985993 0.3522761  0.7048193  0.39702292 0.73727571\n",
            "  0.60870031 0.76474796 0.27492146 0.09790664 0.         0.23387699\n",
            "  0.69811579 0.27517428 0.7488974  0.35512971 0.69388165 0.60408527\n",
            "  0.71279668 0.26619377 0.34640356 0.11946608 0.48396057 0.78576439\n",
            "  0.50555131 0.60632808 0.5730793  0.50203832 0.34464812 0.72022019\n",
            "  0.52368854 0.63045166 0.63319326 0.63680335 0.40623155 0.52177229\n",
            "  0.61235697 0.42810805 0.69539374 0.23491451 0.28534822 0.29506673\n",
            "  0.2543497  0.53839018 0.79344837 0.68877982 0.61042343 0.57296687\n",
            "  0.46894455 0.53969747 0.41306749 0.44198514 0.40569638 0.36186239\n",
            "  0.49347807 0.25287987 0.5118846  0.45181513 0.43951662 0.34009347\n",
            "  0.49509862 0.52653737 0.41773153 0.23883365]\n",
            " [0.56096617 0.09441923 0.65704531 0.11679813 0.6429277  0.18478004\n",
            "  0.53619574 0.70536292 0.58314765 0.6960163  0.40794335 0.23327\n",
            "  0.43893795 0.5858821  0.50782791 0.53862284 0.33419438 0.27865849\n",
            "  0.35723127 0.47779431 0.74659777 0.30090926 0.66381723 0.41691606\n",
            "  0.60278679 0.32021247 0.60072701 0.18903266 0.71736441 0.59778088\n",
            "  0.25895166 0.31443564 0.7218389  0.27285625 0.72503231 0.50707083\n",
            "  0.45475441 0.53393814 0.57344029 0.59527446 0.61848807 0.70454359\n",
            "  0.71453052 0.74915226 0.09564965 0.3185776  0.23387699 0.\n",
            "  0.49633488 0.18538047 0.60058477 0.23624461 0.63988734 0.50172555\n",
            "  0.58136297 0.20290444 0.30638172 0.30626498 0.34334508 0.74305873\n",
            "  0.29238353 0.38202049 0.69544898 0.27771695 0.56642369 0.70098607\n",
            "  0.29636676 0.41138644 0.6624685  0.64171125 0.59480703 0.32976595\n",
            "  0.38760452 0.65525368 0.67067092 0.41944663 0.08194651 0.51111505\n",
            "  0.48559129 0.36317486 0.83351816 0.62072141 0.3882962  0.37182467\n",
            "  0.25310271 0.63602084 0.19263065 0.31208768 0.19212456 0.19690461\n",
            "  0.33696934 0.18448801 0.41448642 0.67109885 0.55188565 0.15624629\n",
            "  0.60964804 0.68974306 0.1845669  0.46459664]\n",
            " [0.98614197 0.46941056 0.68218833 0.55408789 0.83373438 0.66071533\n",
            "  0.57062695 0.76947418 0.09869228 1.07894392 0.82550086 0.68259909\n",
            "  0.55315853 0.91160061 0.94157393 0.09905182 0.61134939 0.25388873\n",
            "  0.16405213 0.20010328 0.89221164 0.77315293 0.64820758 0.8834613\n",
            "  0.4038453  0.64151635 0.83691834 0.38207699 0.79505306 1.03143402\n",
            "  0.73867971 0.77153196 1.13915672 0.32003907 0.80291991 0.61317577\n",
            "  0.11112809 0.40387244 0.96477076 0.34163151 1.005491   0.58169382\n",
            "  0.86293075 0.64699605 0.42526234 0.79456536 0.69811579 0.49633488\n",
            "  0.         0.44154261 0.23458862 0.37022945 0.49798004 0.33271046\n",
            "  0.27573463 0.46281135 0.75278634 0.79506938 0.26738302 0.58360019\n",
            "  0.2058231  0.16541806 0.87915428 0.42549487 0.96004372 0.60879848\n",
            "  0.40566582 0.121453   0.68452849 0.62439629 0.9188719  0.17706648\n",
            "  0.16535852 1.05516213 0.57920634 0.78097204 0.5102717  0.89994619\n",
            "  0.91411443 0.17771834 0.82193425 0.45606691 0.14988756 0.12567897\n",
            "  0.46479055 0.79120204 0.45220685 0.66828722 0.30425132 0.3387791\n",
            "  0.2374006  0.4668435  0.77391976 1.04698472 0.76395218 0.35829878\n",
            "  0.80496263 0.94877752 0.38367945 0.93655105]\n",
            " [0.54466473 0.09197586 0.47465699 0.14549932 0.49325611 0.25261567\n",
            "  0.35178457 0.52876839 0.50732734 0.64528504 0.38395992 0.25278623\n",
            "  0.25838516 0.49475866 0.50022165 0.44980206 0.19819095 0.18767718\n",
            "  0.27839169 0.35247713 0.5878165  0.46733273 0.47902848 0.45125547\n",
            "  0.43403304 0.21171996 0.46563952 0.29849958 0.54323921 0.58990518\n",
            "  0.32470543 0.48836003 0.69889576 0.13362411 0.55116649 0.32921147\n",
            "  0.36369887 0.35971816 0.52744749 0.43868672 0.56974118 0.5213379\n",
            "  0.55536044 0.5643024  0.10550836 0.37267586 0.27517428 0.18538047\n",
            "  0.44154261 0.         0.47389051 0.08001016 0.46033382 0.33944769\n",
            "  0.43996888 0.02792496 0.48449818 0.38858878 0.20884905 0.56187601\n",
            "  0.2764765  0.38842528 0.54569991 0.40583893 0.52218249 0.51623925\n",
            "  0.41486514 0.39955312 0.47993444 0.45665726 0.50299745 0.26598591\n",
            "  0.39507741 0.61715785 0.48627502 0.34659172 0.26292058 0.46213613\n",
            "  0.47262394 0.27058762 0.65110326 0.44504564 0.38712245 0.32182921\n",
            "  0.39868304 0.47547799 0.33952959 0.49622388 0.19775516 0.10869278\n",
            "  0.22053529 0.0253009  0.59981002 0.61488451 0.40486412 0.11692016\n",
            "  0.45989432 0.56800457 0.29464796 0.5058703 ]\n",
            " [0.98227743 0.53920468 0.52184346 0.61529807 0.72283059 0.72500297\n",
            "  0.43705354 0.61298975 0.17775704 1.0414874  0.83047014 0.7252664\n",
            "  0.4633402  0.85592246 0.94698511 0.1363078  0.58184238 0.32222861\n",
            "  0.25726641 0.12350267 0.75548302 0.90001627 0.4764695  0.9193504\n",
            "  0.20411457 0.62530951 0.74619712 0.55044828 0.64097923 1.03071692\n",
            "  0.79850289 0.90835547 1.12054381 0.34241765 0.64803221 0.50242657\n",
            "  0.1707008  0.24274095 0.94063498 0.13358854 0.97557633 0.37845479\n",
            "  0.73033895 0.44321156 0.50930996 0.84603114 0.7488974  0.60058477\n",
            "  0.23458862 0.47389051 0.         0.39423495 0.30109438 0.18798503\n",
            "  0.06546478 0.48371374 0.8950368  0.86194103 0.26612759 0.36811799\n",
            "  0.3626308  0.38068217 0.75994682 0.62139504 0.93768137 0.41305055\n",
            "  0.60692633 0.34136619 0.52255677 0.45591507 0.8616117  0.29082106\n",
            "  0.38299252 1.0298018  0.38813093 0.75959109 0.64237059 0.88001434\n",
            "  0.91799622 0.2428223  0.63229379 0.25854737 0.36484165 0.28112277\n",
            "  0.65225997 0.67009127 0.62364552 0.84077792 0.43054932 0.40596581\n",
            "  0.26443766 0.4960767  0.9507876  1.00745144 0.67228727 0.44438266\n",
            "  0.69976183 0.85662684 0.55047237 0.97438499]\n",
            " [0.617665   0.15369667 0.4558731  0.22222352 0.51537685 0.33114484\n",
            "  0.32855683 0.52097239 0.43079753 0.70959959 0.458079   0.33273498\n",
            "  0.25226767 0.54871594 0.57509751 0.37183881 0.24645688 0.11895525\n",
            "  0.20618367 0.27251518 0.60008997 0.53193593 0.45097255 0.53061754\n",
            "  0.3672791  0.2720216  0.49880402 0.29935398 0.5389731  0.66384343\n",
            "  0.40427681 0.5492009  0.76917559 0.0540537  0.54712901 0.32496575\n",
            "  0.28636456 0.29772749 0.59458677 0.36522016 0.63556041 0.4730718\n",
            "  0.5679052  0.52195724 0.14181722 0.45267934 0.35512971 0.23624461\n",
            "  0.37022945 0.08001016 0.39423495 0.         0.40495543 0.2681747\n",
            "  0.36207207 0.09484177 0.54239408 0.46778333 0.12884475 0.50895019\n",
            "  0.22678828 0.33814354 0.56649429 0.40621122 0.58982289 0.47365822\n",
            "  0.40996398 0.3422526  0.46063869 0.42708238 0.55649941 0.19923969\n",
            "  0.34481312 0.68494651 0.44225185 0.41105259 0.30391656 0.5297201\n",
            "  0.54703461 0.19517122 0.62982444 0.38457651 0.33416822 0.25597209\n",
            "  0.40861162 0.48860313 0.35402323 0.53522351 0.17283046 0.07143066\n",
            "  0.14190928 0.10356068 0.64275655 0.67808889 0.43182837 0.10826894\n",
            "  0.48289097 0.60641061 0.2962579  0.58535115]\n",
            " [0.83295753 0.55090499 0.23598462 0.5977206  0.47145666 0.69100538\n",
            "  0.20107522 0.32515539 0.47149994 0.84892915 0.706262   0.66346791\n",
            "  0.28618183 0.65539922 0.81182154 0.41525539 0.4545496  0.42154613\n",
            "  0.42166613 0.30044624 0.47747151 0.92722552 0.18362048 0.82482262\n",
            "  0.09758229 0.50580488 0.51508494 0.67839764 0.35380238 0.88168708\n",
            "  0.74822718 0.94865984 0.94503938 0.38048785 0.35995605 0.28240548\n",
            "  0.39392539 0.11381785 0.77024818 0.16765488 0.79581624 0.08433433\n",
            "  0.45705246 0.14913169 0.54664458 0.7791559  0.69388165 0.63988734\n",
            "  0.49798004 0.46033382 0.30109438 0.40495543 0.         0.17644846\n",
            "  0.23790684 0.45222818 0.94415698 0.81316849 0.33541894 0.10488875\n",
            "  0.52552849 0.59605449 0.49758754 0.77588225 0.76963556 0.11265603\n",
            "  0.77102712 0.56928831 0.23514622 0.16770391 0.65879157 0.44980987\n",
            "  0.60082222 0.85174483 0.08721428 0.61099075 0.70873306 0.71985172\n",
            "  0.78349644 0.3957053  0.33144861 0.04292437 0.58279072 0.47740743\n",
            "  0.79091468 0.41210771 0.74386623 0.93852832 0.53997734 0.46096506\n",
            "  0.36446371 0.47078618 1.04700703 0.81456374 0.44785019 0.50519064\n",
            "  0.45659437 0.61574763 0.67646237 0.87736295]\n",
            " [0.80716005 0.42181518 0.35282132 0.48477831 0.53671708 0.58934098\n",
            "  0.2535594  0.44230802 0.3260751  0.85730791 0.6609884  0.57698213\n",
            "  0.27602089 0.66979379 0.77554612 0.2629417  0.40649125 0.25401719\n",
            "  0.24534294 0.13279963 0.57639366 0.79989091 0.31589471 0.76126814\n",
            "  0.10452812 0.45336494 0.55828016 0.51237739 0.46911637 0.85605929\n",
            "  0.65679793 0.81602199 0.93996095 0.2295179  0.47668472 0.3150253\n",
            "  0.22384388 0.07124044 0.76009461 0.10077978 0.79335179 0.26006858\n",
            "  0.54961214 0.32316519 0.40608666 0.69790911 0.60408527 0.50172555\n",
            "  0.33271046 0.33944769 0.18798503 0.2681747  0.17644846 0.\n",
            "  0.1282306  0.34067626 0.80785823 0.72201176 0.16897087 0.27648565\n",
            "  0.35073721 0.41985297 0.5756383  0.60566958 0.75762832 0.28090731\n",
            "  0.59910072 0.39423497 0.35465362 0.29243683 0.6752468  0.27412248\n",
            "  0.42471432 0.84822131 0.24984042 0.58226742 0.56184258 0.7012724\n",
            "  0.74645656 0.21950354 0.48972562 0.14023181 0.40679139 0.3011259\n",
            "  0.62411675 0.48567537 0.58085849 0.78464244 0.37505993 0.30930439\n",
            "  0.19319357 0.35677536 0.89470776 0.82307408 0.48432369 0.35371488\n",
            "  0.5127574  0.6689208  0.51086713 0.81603119]\n",
            " [0.93221436 0.5124767  0.45639952 0.58425839 0.65911769 0.6925722\n",
            "  0.37278761 0.54753976 0.23477993 0.98539912 0.78329672 0.68760361\n",
            "  0.40407603 0.79801483 0.89892952 0.18326261 0.53112026 0.30790125\n",
            "  0.25913568 0.11206385 0.69021596 0.88224844 0.41131634 0.87786552\n",
            "  0.14038706 0.57647336 0.6843544  0.55222926 0.57551832 0.98095107\n",
            "  0.76389034 0.89355265 1.06715399 0.31347977 0.58257775 0.43989166\n",
            "  0.18982113 0.17801975 0.88721155 0.0706165  0.92099308 0.31733301\n",
            "  0.66524731 0.38259204 0.48741671 0.80883779 0.71279668 0.58136297\n",
            "  0.27573463 0.43996888 0.06546478 0.36207207 0.23790684 0.1282306\n",
            "  0.         0.44660775 0.88209299 0.82828206 0.23884218 0.31142769\n",
            "  0.36949246 0.40576451 0.69552257 0.63173187 0.88457937 0.35039262\n",
            "  0.6197972  0.37013241 0.45713737 0.39058889 0.80344654 0.29300814\n",
            "  0.4090039  0.97569489 0.3245272  0.70805158 0.63022075 0.82771819\n",
            "  0.86985655 0.23946573 0.56935128 0.1950734  0.39047789 0.29597556\n",
            "  0.6586513  0.60575893 0.62467311 0.8387965  0.42411626 0.38451335\n",
            "  0.24581432 0.46055638 0.94937004 0.95119272 0.61072238 0.4258965\n",
            "  0.63663471 0.79421064 0.55172091 0.93286837]\n",
            " [0.52365417 0.10849258 0.45438098 0.1464872  0.46601179 0.24866489\n",
            "  0.33343201 0.50582164 0.52554385 0.62064696 0.3636132  0.241613\n",
            "  0.2367653  0.4678582  0.48047643 0.46666105 0.17036201 0.20919613\n",
            "  0.29899573 0.36394568 0.56147926 0.47533115 0.46119937 0.43715903\n",
            "  0.43177551 0.18541154 0.43778204 0.32532509 0.51956145 0.56951014\n",
            "  0.31754983 0.49838412 0.67649552 0.14869736 0.52742655 0.3064524\n",
            "  0.38119123 0.35542539 0.50366705 0.44092193 0.54553007 0.51000264\n",
            "  0.52903169 0.5506185  0.12988048 0.36261784 0.26619377 0.20290444\n",
            "  0.46281135 0.02792496 0.48371374 0.09484177 0.45222818 0.34067626\n",
            "  0.44660775 0.         0.49602217 0.38233563 0.22142707 0.55225027\n",
            "  0.30266655 0.4148155  0.51851737 0.43240366 0.49858524 0.50283296\n",
            "  0.4419104  0.42483687 0.45976323 0.43937843 0.47604158 0.28858841\n",
            "  0.42148105 0.59367353 0.4735246  0.32172057 0.2825265  0.43847019\n",
            "  0.45252409 0.28946592 0.63089626 0.4393831  0.41312871 0.3448829\n",
            "  0.42407915 0.44920539 0.364465   0.51492039 0.22556029 0.13452185\n",
            "  0.23670629 0.01902484 0.61692888 0.5899143  0.37735033 0.1448226\n",
            "  0.43261435 0.54008669 0.32141612 0.49205346]\n",
            " [0.61158534 0.39328424 0.93668662 0.35994833 0.86804693 0.30984114\n",
            "  0.8239656  0.97098668 0.84840454 0.7751447  0.51148761 0.37312892\n",
            "  0.72016646 0.73768062 0.55802961 0.81491187 0.57867637 0.57466761\n",
            "  0.64110946 0.77471491 0.97988243 0.06750298 0.95153608 0.43119825\n",
            "  0.90916781 0.54406164 0.80905996 0.37273884 0.97789071 0.62774552\n",
            "  0.31554883 0.02880235 0.75481113 0.57854819 0.98485369 0.78116677\n",
            "  0.73715294 0.83981991 0.665128   0.90020578 0.70621444 1.00560063\n",
            "  0.94987277 1.04644261 0.401879   0.35042183 0.34640356 0.30638172\n",
            "  0.75278634 0.48449818 0.8950368  0.54239408 0.94415698 0.80785823\n",
            "  0.88209299 0.49602217 0.         0.29722879 0.64670898 1.04629961\n",
            "  0.5511142  0.6041952  0.91743389 0.37310952 0.65694953 0.99877481\n",
            "  0.40078306 0.64434583 0.9424113  0.93114276 0.74627524 0.60941936\n",
            "  0.6076652  0.72132858 0.96954562 0.58026526 0.2526707  0.61970446\n",
            "  0.54976656 0.65260168 1.11065434 0.92641565 0.61606371 0.63851276\n",
            "  0.32461273 0.87735822 0.30905805 0.15357124 0.46600685 0.50043312\n",
            "  0.63627867 0.47701353 0.17401103 0.76177228 0.78021775 0.45724458\n",
            "  0.83714947 0.87186966 0.37058266 0.44938426]\n",
            " [0.31647064 0.32932794 0.73862958 0.24770534 0.6137169  0.13744759\n",
            "  0.64847869 0.75087494 0.87575123 0.47847689 0.22115826 0.14976963\n",
            "  0.54220964 0.45060938 0.2619918  0.82472102 0.37311979 0.55571142\n",
            "  0.64386738 0.7395907  0.72691669 0.23398916 0.76748244 0.13814181\n",
            "  0.80832074 0.3250242  0.54607732 0.48206982 0.75126647 0.33769414\n",
            "  0.065439   0.27675552 0.46664875 0.51973501 0.75709258 0.58547391\n",
            "  0.7383106  0.72915343 0.36809621 0.82262434 0.40898565 0.85542015\n",
            "  0.69980357 0.88125524 0.37027317 0.0565249  0.11946608 0.30626498\n",
            "  0.79506938 0.38858878 0.86194103 0.46778333 0.81316849 0.72201176\n",
            "  0.82828206 0.38233563 0.29722879 0.         0.59596342 0.9043839\n",
            "  0.59536729 0.68828153 0.65847796 0.54396814 0.35990871 0.83733667\n",
            "  0.56874044 0.71694248 0.74453455 0.75184951 0.45878891 0.62134895\n",
            "  0.69386886 0.4255363  0.81311964 0.30765526 0.33181845 0.32533476\n",
            "  0.25257632 0.64352639 0.90067981 0.80824561 0.69438741 0.66939866\n",
            "  0.50379665 0.63610679 0.45566793 0.42480953 0.49421693 0.4658871\n",
            "  0.60255839 0.36776256 0.47113544 0.46455501 0.53386229 0.43820167\n",
            "  0.58637612 0.59192658 0.47793762 0.1707207 ]\n",
            " [0.73763051 0.27429911 0.4525425  0.34917344 0.57142624 0.45891068\n",
            "  0.32882948 0.53204724 0.3121473  0.81801567 0.58018104 0.46146564\n",
            "  0.29072091 0.64585513 0.69752277 0.24978853 0.34858704 0.08619839\n",
            "  0.11614336 0.14374118 0.63887855 0.64418743 0.43191282 0.65854856\n",
            "  0.27349693 0.38373248 0.57050687 0.34426851 0.55482059 0.78479875\n",
            "  0.53282102 0.65689283 0.88502985 0.07629029 0.56297919 0.35602142\n",
            "  0.16821261 0.22160261 0.70748182 0.25410297 0.74647493 0.41455197\n",
            "  0.608207   0.47271351 0.248786   0.58152341 0.48396057 0.34334508\n",
            "  0.26738302 0.20884905 0.26612759 0.12884475 0.33541894 0.16897087\n",
            "  0.23884218 0.22142707 0.64670898 0.59596342 0.         0.4394236\n",
            "  0.19710631 0.28903502 0.61881772 0.44046368 0.70337305 0.42629988\n",
            "  0.4360018  0.27681507 0.45614354 0.40693911 0.65292584 0.13079845\n",
            "  0.29505842 0.79800669 0.39388155 0.5230909  0.39704944 0.64373585\n",
            "  0.66901572 0.09352258 0.61420817 0.30488886 0.27954194 0.17834072\n",
            "  0.4564663  0.53304173 0.41203461 0.61638225 0.20637198 0.1465865\n",
            "  0.03593319 0.23201226 0.72666881 0.78531928 0.49814981 0.1894984\n",
            "  0.54149311 0.68207507 0.34259592 0.71340575]\n",
            " [0.89932885 0.65307898 0.2500259  0.6964868  0.50048324 0.78623708\n",
            "  0.26681292 0.32608508 0.54500722 0.89871992 0.78272504 0.75471177\n",
            "  0.366311   0.70620731 0.88301563 0.49446324 0.53804815 0.52561827\n",
            "  0.52126085 0.39189829 0.4822512  1.02756984 0.19401991 0.90659775\n",
            "  0.18173456 0.58919311 0.55528101 0.78294748 0.35355161 0.94731426\n",
            "  0.84006808 1.05007836 1.00019221 0.48535351 0.35785498 0.34533328\n",
            "  0.48478938 0.21813599 0.83051013 0.2424564  0.85194412 0.05447527\n",
            "  0.46790279 0.0891728  0.65041713 0.86753177 0.78576439 0.74305873\n",
            "  0.58360019 0.56187601 0.36811799 0.50895019 0.10488875 0.27648565\n",
            "  0.31142769 0.55225027 1.04629961 0.9043839  0.4394236  0.\n",
            "  0.6271737  0.69280735 0.51669496 0.87973371 0.83077377 0.09238505\n",
            "  0.8743348  0.66370018 0.24680829 0.19102546 0.70844829 0.55056922\n",
            "  0.69726866 0.90745642 0.09973683 0.68278234 0.81285741 0.78491871\n",
            "  0.85542064 0.49567337 0.28347305 0.13625581 0.67899173 0.57479812\n",
            "  0.89541974 0.43942847 0.84868087 1.04312707 0.64455143 0.56577143\n",
            "  0.46757092 0.57103017 1.15141613 0.86487787 0.49522703 0.60994299\n",
            "  0.49214978 0.64608964 0.78105761 0.95776641]\n",
            " [0.81115092 0.27858741 0.64701769 0.36234388 0.73954039 0.46415821\n",
            "  0.52116384 0.72325337 0.29815996 0.92062652 0.6501793  0.49385769\n",
            "  0.46664013 0.77021171 0.76293195 0.26481906 0.46966842 0.12143738\n",
            "  0.11098951 0.25800848 0.81858447 0.5683981  0.62861618 0.6926234\n",
            "  0.45109614 0.48803185 0.72548807 0.18902572 0.74456029 0.8539469\n",
            "  0.54194941 0.5685682  0.96887474 0.19620304 0.75276871 0.53716687\n",
            "  0.1935795  0.41290213 0.80141809 0.41230124 0.84445096 0.60722104\n",
            "  0.78688941 0.66731591 0.23084555 0.59961533 0.50555131 0.29238353\n",
            "  0.2058231  0.2764765  0.3626308  0.22678828 0.52552849 0.35073721\n",
            "  0.36949246 0.30266655 0.5511142  0.59536729 0.19710631 0.6271737\n",
            "  0.         0.11229374 0.78983509 0.26235797 0.79578978 0.6216839\n",
            "  0.25175204 0.12602534 0.65088229 0.60364866 0.77830268 0.07810621\n",
            "  0.1189757  0.89026836 0.58935099 0.62255245 0.30501312 0.73606031\n",
            "  0.73687232 0.1339668  0.81103369 0.49094589 0.11074488 0.08766955\n",
            "  0.29005749 0.70880082 0.262198   0.48043088 0.10115036 0.16815769\n",
            "  0.16344661 0.30034331 0.58965843 0.8907132  0.65778482 0.16993911\n",
            "  0.70754616 0.83316162 0.18949558 0.74413524]\n",
            " [0.91864958 0.38366773 0.74107975 0.46539798 0.84789044 0.56200202\n",
            "  0.61786013 0.82105882 0.2635219  1.03149666 0.75814823 0.59721778\n",
            "  0.57177976 0.88247718 0.8693582  0.25553274 0.58192174 0.22668934\n",
            "  0.17819983 0.30348    0.92345569 0.63185932 0.71769736 0.79326022\n",
            "  0.51172846 0.60010048 0.83615156 0.23200401 0.84363825 0.9604906\n",
            "  0.63880799 0.62521927 1.07732771 0.30363002 0.85181088 0.64075882\n",
            "  0.21594444 0.48786063 0.91170479 0.46128664 0.95503767 0.67991014\n",
            "  0.89211976 0.74279949 0.33478516 0.69767029 0.60632808 0.38202049\n",
            "  0.16541806 0.38842528 0.38068217 0.33814354 0.59605449 0.41985297\n",
            "  0.40576451 0.4148155  0.6041952  0.68828153 0.28903502 0.69280735\n",
            "  0.11229374 0.         0.8975585  0.26107848 0.90592789 0.69940947\n",
            "  0.24046519 0.044112   0.74453294 0.69280617 0.89057873 0.15825748\n",
            "  0.00668589 1.00009444 0.66764384 0.73393433 0.37564895 0.84639941\n",
            "  0.84388666 0.20443625 0.89892859 0.55777811 0.01600673 0.11876348\n",
            "  0.3022473  0.81492699 0.29682228 0.50828182 0.20240248 0.28036326\n",
            "  0.25315988 0.41202808 0.61178846 1.00188907 0.76760271 0.27887258\n",
            "  0.8162853  0.94444935 0.23454558 0.84336182]\n",
            " [0.48759285 0.61152859 0.26761831 0.58735789 0.05271169 0.60777678\n",
            "  0.32291256 0.19622464 0.89630871 0.42165109 0.45051453 0.54472835\n",
            "  0.32811605 0.25676987 0.49876042 0.83101786 0.36132523 0.67089076\n",
            "  0.73458606 0.69581235 0.07316219 0.86887811 0.3239708  0.58430198\n",
            "  0.57358298 0.38069448 0.11278302 0.84373905 0.17341007 0.52627378\n",
            "  0.6135106  0.90664659 0.53345042 0.59416795 0.17261546 0.26628067\n",
            "  0.76987901 0.51751562 0.39987111 0.63722673 0.40110674 0.46609481\n",
            "  0.05917304 0.43861581 0.64594575 0.60370745 0.5730793  0.69544898\n",
            "  0.87915428 0.54569991 0.75994682 0.56649429 0.49758754 0.5756383\n",
            "  0.69552257 0.51851737 0.91743389 0.65847796 0.61881772 0.51669496\n",
            "  0.78983509 0.8975585  0.         0.95040605 0.40406074 0.42464218\n",
            "  0.96042275 0.89274759 0.27031764 0.33291559 0.25372967 0.74351815\n",
            "  0.90406536 0.44940976 0.42695541 0.3513366  0.77654721 0.38565881\n",
            "  0.47990849 0.7122699  0.3250119  0.52927904 0.89091365 0.79591726\n",
            "  0.93891331 0.08996737 0.87816831 0.99033022 0.73585619 0.63499707\n",
            "  0.65351427 0.53137776 1.07543534 0.3920014  0.14357159 0.6591255\n",
            "  0.08619858 0.13903767 0.83978258 0.61791371]\n",
            " [0.83097233 0.34295463 0.86182517 0.39386978 0.89777509 0.45007085\n",
            "  0.73423717 0.92641751 0.5240794  0.97192512 0.68290905 0.50698886\n",
            "  0.6558294  0.86235609 0.7764936  0.50912066 0.59338615 0.35438636\n",
            "  0.37324967 0.52036607 0.99364954 0.41638986 0.85398622 0.67278048\n",
            "  0.70862741 0.58912588 0.86435922 0.10783207 0.94340374 0.8642821\n",
            "  0.51391035 0.39846684 0.99113377 0.4064665  0.95149649 0.72847492\n",
            "  0.45070649 0.66206629 0.84953253 0.67378065 0.89461356 0.85439495\n",
            "  0.96119291 0.91080136 0.30463998 0.57245999 0.50203832 0.27771695\n",
            "  0.42549487 0.40583893 0.62139504 0.40621122 0.77588225 0.60566958\n",
            "  0.63173187 0.43240366 0.37310952 0.54396814 0.44046368 0.87973371\n",
            "  0.26235797 0.26107848 0.95040605 0.         0.84233512 0.86347438\n",
            "  0.02773478 0.30509604 0.86650253 0.82955353 0.87123811 0.33985648\n",
            "  0.26229113 0.92926134 0.83111509 0.6966881  0.2171251  0.78801337\n",
            "  0.75638721 0.39525415 1.03467179 0.7445163  0.27604494 0.34029777\n",
            "  0.04851153 0.88130169 0.08929785 0.25350109 0.23965726 0.33551623\n",
            "  0.41262901 0.41903503 0.352321   0.94783199 0.80817374 0.29974431\n",
            "  0.86430597 0.95972894 0.11144616 0.71370388]\n",
            " [0.08421706 0.5270913  0.59949038 0.45471603 0.37979435 0.39662005\n",
            "  0.56944103 0.56753676 1.01543845 0.12961985 0.1598421  0.33563233\n",
            "  0.4916088  0.14729418 0.11223396 0.95296416 0.35732338 0.70743748\n",
            "  0.79600563 0.83280122 0.47679029 0.59377577 0.64788891 0.2346703\n",
            "  0.80794228 0.31975361 0.30479768 0.75427248 0.55477287 0.12330503\n",
            "  0.35098671 0.63662429 0.18290735 0.6406774  0.55735935 0.48820175\n",
            "  0.87095831 0.73029113 0.00819396 0.85036197 0.05242287 0.77632658\n",
            "  0.46042944 0.77490895 0.57595158 0.30693465 0.34464812 0.56642369\n",
            "  0.96004372 0.52218249 0.93768137 0.58982289 0.76963556 0.75762832\n",
            "  0.88457937 0.49858524 0.65694953 0.35990871 0.70337305 0.83077377\n",
            "  0.79578978 0.90592789 0.40406074 0.84233512 0.         0.74344016\n",
            "  0.86234498 0.92067794 0.60461634 0.64332006 0.15077646 0.78713825\n",
            "  0.91245518 0.09513231 0.73105324 0.18030723 0.62773761 0.06012866\n",
            "  0.10949383 0.78389032 0.71586914 0.78397046 0.90631922 0.84346743\n",
            "  0.81182732 0.42943927 0.75433772 0.7765846  0.70546737 0.63029535\n",
            "  0.72682831 0.49728721 0.83062423 0.10742064 0.34273384 0.62706391\n",
            "  0.36815567 0.28777437 0.74978176 0.24455129]\n",
            " [0.81388819 0.60821168 0.15765567 0.64257765 0.40812506 0.72535338\n",
            "  0.1897967  0.23602025 0.58415536 0.80810409 0.70319006 0.68859035\n",
            "  0.29514912 0.61617305 0.79995223 0.52762566 0.46604022 0.51073793\n",
            "  0.52250874 0.40983355 0.39228159 0.97512394 0.10165356 0.83032645\n",
            "  0.21019805 0.51643971 0.46370935 0.76204131 0.26401792 0.8614301\n",
            "  0.77413295 1.00035285 0.91067025 0.45921105 0.2688481  0.26321432\n",
            "  0.50295278 0.21156109 0.74286744 0.27995619 0.76294334 0.04285132\n",
            "  0.37672366 0.04831823 0.6119748  0.79746554 0.72022019 0.70098607\n",
            "  0.60879848 0.51623925 0.41305055 0.47365822 0.11265603 0.28090731\n",
            "  0.35039262 0.50283296 0.99877481 0.83733667 0.42629988 0.09238505\n",
            "  0.6216839  0.69940947 0.42464218 0.86347438 0.74344016 0.\n",
            "  0.86095397 0.6750212  0.15450936 0.10046099 0.6181483  0.54842508\n",
            "  0.70448735 0.81823038 0.03242875 0.60095985 0.77508044 0.69927763\n",
            "  0.77284688 0.49622658 0.21926542 0.15557946 0.68679458 0.58070953\n",
            "  0.87435373 0.34706651 0.82377414 1.00798417 0.62443222 0.53687465\n",
            "  0.45840865 0.52185571 1.114151   0.7744175  0.40520555 0.57957759\n",
            "  0.40019617 0.55371135 0.75969012 0.88024789]\n",
            " [0.85277718 0.35659973 0.86437337 0.41154309 0.90789331 0.47194294\n",
            "  0.73663561 0.93091196 0.50397282 0.99196482 0.70325311 0.52752976\n",
            "  0.66115849 0.87883094 0.79852263 0.49159066 0.60547331 0.35045234\n",
            "  0.36264653 0.50909531 1.00206995 0.44407365 0.85473919 0.6964309\n",
            "  0.70122787 0.60330489 0.8764428  0.11699124 0.94856332 0.88678121\n",
            "  0.53721118 0.4261871  1.01319131 0.40654889 0.95669285 0.73391699\n",
            "  0.43632082 0.65731943 0.86945248 0.66405137 0.91452557 0.85053361\n",
            "  0.96962125 0.90795443 0.31608442 0.59606568 0.52368854 0.29636676\n",
            "  0.40566582 0.41486514 0.60692633 0.40996398 0.77102712 0.59910072\n",
            "  0.6197972  0.4419104  0.40078306 0.56874044 0.4360018  0.8743348\n",
            "  0.25175204 0.24046519 0.96042275 0.02773478 0.86234498 0.86095397\n",
            "  0.         0.28457698 0.86893326 0.83014952 0.8876763  0.32980467\n",
            "  0.2411961  0.95006312 0.82854267 0.71393759 0.23987545 0.80742855\n",
            "  0.77795742 0.38558331 1.03609789 0.73862879 0.25580449 0.32601714\n",
            "  0.07617183 0.88970812 0.11309383 0.27941516 0.23998415 0.33870545\n",
            "  0.40676397 0.42937966 0.37624469 0.96738193 0.81882219 0.30534862\n",
            "  0.87447402 0.97336179 0.12111589 0.73807076]\n",
            " [0.93708207 0.40439047 0.72501073 0.48778304 0.84403295 0.58789233\n",
            "  0.6041203  0.80722436 0.21941886 1.04474987 0.77605654 0.61947934\n",
            "  0.56518522 0.89036648 0.88895476 0.21334719 0.5884092  0.22561898\n",
            "  0.1614126  0.27214488 0.91532464 0.67004404 0.69878418 0.81760183\n",
            "  0.48203836 0.61003184 0.83623507 0.27161513 0.83067231 0.97996341\n",
            "  0.66535648 0.66477395 1.09456692 0.30236518 0.83879406 0.63230957\n",
            "  0.18125074 0.46376525 0.92618494 0.42844732 0.96892283 0.65351685\n",
            "  0.88443081 0.71726264 0.35630792 0.72358767 0.63045166 0.41138644\n",
            "  0.121453   0.39955312 0.34136619 0.3422526  0.56928831 0.39423497\n",
            "  0.37013241 0.42483687 0.64434583 0.71694248 0.27681507 0.66370018\n",
            "  0.12602534 0.044112   0.89274759 0.30509604 0.92067794 0.6750212\n",
            "  0.28457698 0.         0.72819107 0.67405021 0.89826954 0.14927573\n",
            "  0.04395726 1.015341   0.64366206 0.74614483 0.41117449 0.86081616\n",
            "  0.86286648 0.1865281  0.87872965 0.52988963 0.02922352 0.09887099\n",
            "  0.34585405 0.8083993  0.33838399 0.55136922 0.2247749  0.29088166\n",
            "  0.24107506 0.42398084 0.65540707 1.01443755 0.76621497 0.29591055\n",
            "  0.81305884 0.94585537 0.27385984 0.86865598]\n",
            " [0.67939643 0.56816599 0.00590593 0.58277469 0.25443554 0.64818286\n",
            "  0.13230459 0.09081676 0.67954115 0.66005449 0.58446829 0.60115955\n",
            "  0.2239507  0.47059901 0.67141781 0.61735469 0.37397577 0.53086163\n",
            "  0.56752081 0.48650594 0.24279846 0.9096565  0.05385418 0.71734688\n",
            "  0.32248046 0.41979882 0.31378379 0.75997158 0.11926973 0.72552287\n",
            "  0.68497111 0.93974318 0.76534356 0.4640738  0.12591151 0.16210364\n",
            "  0.57373857 0.28582301 0.60323019 0.39137955 0.61954547 0.19577861\n",
            "  0.22427624 0.17409951 0.58416422 0.6988516  0.63319326 0.6624685\n",
            "  0.68452849 0.47993444 0.52255677 0.46063869 0.23514622 0.35465362\n",
            "  0.45713737 0.45976323 0.9424113  0.74453455 0.45614354 0.24680829\n",
            "  0.65088229 0.74453294 0.27031764 0.86650253 0.60461634 0.15450936\n",
            "  0.86893326 0.72819107 0.         0.06778574 0.47174469 0.58667703\n",
            "  0.75038728 0.6739876  0.15769574 0.47841374 0.74222227 0.56527275\n",
            "  0.64578201 0.5418562  0.17118041 0.27208552 0.73420387 0.62963961\n",
            "  0.86883063 0.19344002 0.81284838 0.97455538 0.62914121 0.53098795\n",
            "  0.49175703 0.47799964 1.07514192 0.62690497 0.26201274 0.56847023\n",
            "  0.24895357 0.39969183 0.75689491 0.7638354 ]\n",
            " [0.7144843  0.54744722 0.06830686 0.57163238 0.31173288 0.64642572\n",
            "  0.10724833 0.15850167 0.61537443 0.70791147 0.60763668 0.60485029\n",
            "  0.21324421 0.5157773  0.70183405 0.55402164 0.37874882 0.4857165\n",
            "  0.51479613 0.42509068 0.30978295 0.90277547 0.02497377 0.73695715\n",
            "  0.2549248  0.42780256 0.36432701 0.7245064  0.18702165 0.76180559\n",
            "  0.69000191 0.93053336 0.81021944 0.42360111 0.19355983 0.16877529\n",
            "  0.51422806 0.22225099 0.6426566  0.32414275 0.66249071 0.13728429\n",
            "  0.28990594 0.13406877 0.55811374 0.70944064 0.63680335 0.64171125\n",
            "  0.62439629 0.45665726 0.45591507 0.42708238 0.16770391 0.29243683\n",
            "  0.39058889 0.43937843 0.93114276 0.75184951 0.40693911 0.19102546\n",
            "  0.60364866 0.69280617 0.33291559 0.82955353 0.64332006 0.10046099\n",
            "  0.83014952 0.67405021 0.06778574 0.         0.51782071 0.53612743\n",
            "  0.69845421 0.71776947 0.09486107 0.50400575 0.71937119 0.5998556\n",
            "  0.67506128 0.48874517 0.20742258 0.20429987 0.68175249 0.57620148\n",
            "  0.83517329 0.25096658 0.78110531 0.95282645 0.590332   0.49539526\n",
            "  0.44186983 0.45819634 1.05614597 0.67415747 0.30478383 0.53530438\n",
            "  0.30161835 0.4574262  0.72169447 0.78580488]\n",
            " [0.23482332 0.5339566  0.46705992 0.47801445 0.23304086 0.45323055\n",
            "  0.45829322 0.42513416 0.96155856 0.19054867 0.23763095 0.38636284\n",
            "  0.39958767 0.00898014 0.25240429 0.8967916  0.31004419 0.67503386\n",
            "  0.75757655 0.76825289 0.32621562 0.68833933 0.51892165 0.35625855\n",
            "  0.70991249 0.29198374 0.16065976 0.77326232 0.41000006 0.27254421\n",
            "  0.43073461 0.72978883 0.29361492 0.60136111 0.41191033 0.3778714\n",
            "  0.82027142 0.6368421  0.14626213 0.76033366 0.15039049 0.65418068\n",
            "  0.31083036 0.64515594 0.57958561 0.40233462 0.40623155 0.59480703\n",
            "  0.9188719  0.50299745 0.8616117  0.55649941 0.65879157 0.6752468\n",
            "  0.80344654 0.47604158 0.74627524 0.45878891 0.65292584 0.70844829\n",
            "  0.77830268 0.89057873 0.25372967 0.87123811 0.15077646 0.6181483\n",
            "  0.8876763  0.89826954 0.47174469 0.51782071 0.         0.75505557\n",
            "  0.8972557  0.20302211 0.60971927 0.17655934 0.66729628 0.14357296\n",
            "  0.23833257 0.74128585 0.57016942 0.67886336 0.8883029  0.81166681\n",
            "  0.84775858 0.28686572 0.78743764 0.84797892 0.69898502 0.61025609\n",
            "  0.68148353 0.48055004 0.91610968 0.15648419 0.21325143 0.61778676\n",
            "  0.22608036 0.14113799 0.76885159 0.37991965]\n",
            " [0.81047619 0.29353294 0.58314654 0.37796969 0.69475723 0.48574323\n",
            "  0.45960775 0.66280139 0.25480364 0.90828767 0.64954565 0.50570059\n",
            "  0.41615839 0.74738415 0.7652021  0.20911948 0.44515371 0.08028663\n",
            "  0.03398171 0.1810675  0.76693467 0.62049734 0.56107574 0.70661986\n",
            "  0.37345454 0.47095722 0.68769923 0.26030372 0.68542177 0.85533664\n",
            "  0.56353045 0.62473265 0.96479498 0.15474315 0.69359059 0.4839436\n",
            "  0.12779155 0.33812216 0.79215852 0.33426262 0.8337269  0.53225858\n",
            "  0.73586027 0.59333192 0.2511424  0.61865231 0.52177229 0.32976595\n",
            "  0.17706648 0.26598591 0.29082106 0.19923969 0.44980987 0.27412248\n",
            "  0.29300814 0.28858841 0.60941936 0.62134895 0.13079845 0.55056922\n",
            "  0.07810621 0.15825748 0.74351815 0.33985648 0.78713825 0.54842508\n",
            "  0.32980467 0.14927573 0.58667703 0.53612743 0.75505557 0.\n",
            "  0.16432299 0.88224191 0.51624938 0.60943409 0.35809989 0.72701487\n",
            "  0.73794031 0.05587709 0.74292981 0.4143192  0.14916444 0.05673264\n",
            "  0.36564409 0.65944823 0.33331193 0.54997857 0.14374042 0.16172997\n",
            "  0.09497447 0.29123531 0.66007741 0.87701342 0.61726527 0.18316942\n",
            "  0.66380607 0.79779509 0.26011303 0.75989142]\n",
            " [0.92501836 0.38997751 0.74695475 0.47158158 0.85442703 0.56788866\n",
            "  0.62388745 0.82710237 0.2630676  1.03806824 0.76455246 0.60338577\n",
            "  0.57819459 0.88915258 0.87566711 0.25675636 0.58860722 0.23321744\n",
            "  0.18373088 0.30746202 0.92982923 0.63587822 0.72333481 0.79924933\n",
            "  0.51606628 0.60675818 0.8427869  0.23581606 0.84974071 0.96680151\n",
            "  0.64462046 0.62886911 1.08374798 0.31018486 0.8579107  0.64709678\n",
            "  0.21923268 0.49292743 0.91824117 0.46509185 0.96159209 0.68474101\n",
            "  0.89851185 0.74774652 0.34106434 0.7035335  0.61235697 0.38760452\n",
            "  0.16535852 0.39507741 0.38299252 0.34481312 0.60082222 0.42471432\n",
            "  0.4090039  0.42148105 0.6076652  0.69386886 0.29505842 0.69726866\n",
            "  0.1189757  0.00668589 0.90406536 0.26229113 0.91245518 0.70448735\n",
            "  0.2411961  0.04395726 0.75038728 0.69845421 0.8972557  0.16432299\n",
            "  0.         1.00660047 0.67276349 0.74054316 0.38032217 0.85294043\n",
            "  0.85023098 0.2099208  0.90446722 0.56238722 0.01855147 0.12377783\n",
            "  0.30404241 0.82136474 0.29987897 0.51045039 0.20871478 0.28703495\n",
            "  0.25916351 0.41866331 0.61350286 1.00848104 0.77420473 0.285393\n",
            "  0.82284    0.95110807 0.23844293 0.84926576]\n",
            " [0.10995261 0.61995256 0.66918747 0.54564339 0.43464649 0.48034847\n",
            "  0.65072847 0.62782481 1.11013027 0.05753282 0.24739587 0.42255455\n",
            "  0.57876905 0.20351258 0.16354691 1.04746113 0.45106007 0.8025627\n",
            "  0.89112778 0.92638197 0.5194709  0.65595202 0.72013979 0.29031743\n",
            "  0.89471184 0.4145924  0.36359305 0.84389131 0.61191466 0.10967996\n",
            "  0.42720851 0.69898101 0.09330375 0.73572819 0.61346025 0.56934883\n",
            "  0.9657389  0.81817033 0.09055172 0.93943628 0.05593894 0.85301428\n",
            "  0.50811325 0.84681652 0.66896419 0.37703118 0.42810805 0.65525368\n",
            "  1.05516213 0.61715785 1.0298018  0.68494651 0.85174483 0.84822131\n",
            "  0.97569489 0.59367353 0.72132858 0.4255363  0.79800669 0.90745642\n",
            "  0.89026836 1.00009444 0.44940976 0.92926134 0.09513231 0.81823038\n",
            "  0.95006312 1.015341   0.6739876  0.71776947 0.20302211 0.88224191\n",
            "  1.00660047 0.         0.80809433 0.27496469 0.71323157 0.15525774\n",
            "  0.17631056 0.87893656 0.77112891 0.86833414 1.00069968 0.93854954\n",
            "  0.89702936 0.48973889 0.84064925 0.84898905 0.79916985 0.72514983\n",
            "  0.82174831 0.5922165  0.89526848 0.06496181 0.41328558 0.72123324\n",
            "  0.4290836  0.31817633 0.83940556 0.28285714]\n",
            " [0.79968012 0.57824172 0.15975477 0.61440668 0.40659393 0.6990648\n",
            "  0.16886999 0.24467246 0.55714257 0.80015623 0.68467999 0.66393513\n",
            "  0.27171605 0.60729996 0.78383005 0.49958363 0.44342014 0.47831201\n",
            "  0.4905343  0.37975105 0.3998108  0.94687222 0.10394849 0.81005702\n",
            "  0.18417785 0.49422824 0.45818851 0.72981479 0.27320599 0.84762253\n",
            "  0.74948278 0.971546   0.90092995 0.42708278 0.27876251 0.24604323\n",
            "  0.47261092 0.17994689 0.73081407 0.25457901 0.75251616 0.04539962\n",
            "  0.38197068 0.08002673 0.58108629 0.77436671 0.69539374 0.67067092\n",
            "  0.57920634 0.48627502 0.38813093 0.44225185 0.08721428 0.24984042\n",
            "  0.3245272  0.4735246  0.96954562 0.81311964 0.39388155 0.09973683\n",
            "  0.58935099 0.66764384 0.42695541 0.83111509 0.73105324 0.03242875\n",
            "  0.82854267 0.64366206 0.15769574 0.09486107 0.60971927 0.51624938\n",
            "  0.67276349 0.80809433 0.         0.58388352 0.74423487 0.68523751\n",
            "  0.75636184 0.46423797 0.24521147 0.12958999 0.65512791 0.54899221\n",
            "  0.84216168 0.34581292 0.79177162 0.97693389 0.59213459 0.50498566\n",
            "  0.42604449 0.4925321  1.08338836 0.76619979 0.39647696 0.54783503\n",
            "  0.39608241 0.55228373 0.72748263 0.86065744]\n",
            " [0.22549192 0.36404484 0.47273622 0.3028497  0.30833324 0.27915209\n",
            "  0.41617607 0.46433474 0.83518842 0.29895439 0.10704851 0.21216929\n",
            "  0.32595261 0.16757992 0.2008851  0.77265749 0.1778897  0.52937702\n",
            "  0.61705635 0.65301533 0.42094663 0.5262147  0.51347997 0.24281072\n",
            "  0.63948491 0.13968545 0.23867369 0.60079754 0.4596318  0.274561\n",
            "  0.26725509 0.56614967 0.36259406 0.46115504 0.46443762 0.33800821\n",
            "  0.69077433 0.56014488 0.18441693 0.67738154 0.22452788 0.62913904\n",
            "  0.39513801 0.63806891 0.41139734 0.25246281 0.23491451 0.41944663\n",
            "  0.78097204 0.34659172 0.75959109 0.41105259 0.61099075 0.58226742\n",
            "  0.70805158 0.32172057 0.58026526 0.30765526 0.5230909  0.68278234\n",
            "  0.62255245 0.73393433 0.3513366  0.6966881  0.18030723 0.60095985\n",
            "  0.71393759 0.74614483 0.47841374 0.50400575 0.17655934 0.60943409\n",
            "  0.74054316 0.27496469 0.58388352 0.         0.49090267 0.12101787\n",
            "  0.17281527 0.60430319 0.61693869 0.62050136 0.7332964  0.66600291\n",
            "  0.67201364 0.33762757 0.61196202 0.67425593 0.53646557 0.45527221\n",
            "  0.54685086 0.32228737 0.74679692 0.2682929  0.23558243 0.45625535\n",
            "  0.28320461 0.29171988 0.59634674 0.28615975]\n",
            " [0.61399678 0.17450246 0.73686359 0.1925759  0.72410539 0.23322415\n",
            "  0.61470222 0.78670394 0.60302105 0.75710558 0.46793642 0.29217006\n",
            "  0.51921384 0.65832727 0.55942428 0.56552718 0.41552007 0.32241646\n",
            "  0.38917842 0.52219535 0.82831032 0.2635602  0.74189152 0.45679103\n",
            "  0.6649654  0.39945415 0.68048179 0.15240251 0.79900041 0.64717343\n",
            "  0.29739036 0.26674464 0.77404082 0.33280003 0.80669494 0.58804645\n",
            "  0.48586709 0.59995338 0.63510734 0.65115065 0.6801371  0.77648643\n",
            "  0.79628253 0.82337153 0.16315746 0.3564312  0.28534822 0.08194651\n",
            "  0.5102717  0.26292058 0.64237059 0.30391656 0.70873306 0.56184258\n",
            "  0.63022075 0.2825265  0.2526707  0.33181845 0.39704944 0.81285741\n",
            "  0.30501312 0.37564895 0.77654721 0.2171251  0.62773761 0.77508044\n",
            "  0.23987545 0.41117449 0.74222227 0.71937119 0.66729628 0.35809989\n",
            "  0.38032217 0.71323157 0.74423487 0.49090267 0.         0.57486305\n",
            "  0.53959365 0.40003986 0.91338259 0.686929   0.3849108  0.39097167\n",
            "  0.18408975 0.71787433 0.12789514 0.2335275  0.2143607  0.25253866\n",
            "  0.38455277 0.26455121 0.33919962 0.7340469  0.63303313 0.20822072\n",
            "  0.69089213 0.76715613 0.14856818 0.49951011]\n",
            " [0.11462908 0.46866294 0.55993383 0.39797267 0.35478314 0.34627649\n",
            "  0.5209768  0.53537009 0.95572388 0.18640439 0.1105774  0.28300212\n",
            "  0.4386257  0.13705241 0.11320179 0.8934149  0.29872131 0.64730882\n",
            "  0.73590376 0.77401642 0.45879874 0.55861064 0.60608108 0.21356217\n",
            "  0.75451318 0.26001507 0.27895209 0.69808161 0.52508553 0.16241301\n",
            "  0.30768778 0.60099054 0.24158339 0.58065879 0.52841505 0.44031506\n",
            "  0.81117737 0.67611437 0.06536906 0.79510618 0.10901266 0.73062696\n",
            "  0.43909693 0.73277731 0.51736559 0.26996169 0.29506673 0.51111505\n",
            "  0.89994619 0.46213613 0.88001434 0.5297201  0.71985172 0.7012724\n",
            "  0.82771819 0.43847019 0.61970446 0.32533476 0.64373585 0.78491871\n",
            "  0.73606031 0.84639941 0.38565881 0.78801337 0.06012866 0.69927763\n",
            "  0.80742855 0.86081616 0.56527275 0.5998556  0.14357296 0.72701487\n",
            "  0.85294043 0.15525774 0.68523751 0.12101787 0.57486305 0.\n",
            "  0.09540651 0.72387224 0.68617279 0.73243055 0.84664584 0.78335309\n",
            "  0.75879975 0.39910754 0.70058777 0.73293636 0.64630386 0.57032378\n",
            "  0.66693235 0.43727386 0.7923094  0.16000749 0.30576499 0.56758148\n",
            "  0.33861303 0.28453084 0.69359185 0.2366314 ]\n",
            " [0.07549873 0.46032803 0.64024718 0.3810609  0.4470477  0.30637449\n",
            "  0.58893279 0.62251545 0.97774778 0.22669268 0.08897103 0.25250841\n",
            "  0.49788475 0.23214144 0.02909046 0.91779405 0.34025766 0.66029517\n",
            "  0.75094883 0.80591792 0.55295127 0.48578586 0.68342488 0.12529958\n",
            "  0.8090959  0.29339648 0.37147093 0.67461471 0.61396855 0.11742309\n",
            "  0.25090006 0.5287434  0.23632215 0.60026353 0.61774132 0.51034432\n",
            "  0.8331104  0.72909891 0.11762718 0.84370619 0.15659594 0.80166678\n",
            "  0.53233006 0.80897608 0.50938082 0.20170884 0.2543497  0.48559129\n",
            "  0.91411443 0.47262394 0.91799622 0.54703461 0.78349644 0.74645656\n",
            "  0.86985655 0.45252409 0.54976656 0.25257632 0.66901572 0.85542064\n",
            "  0.73687232 0.84388666 0.47990849 0.75638721 0.10949383 0.77284688\n",
            "  0.77795742 0.86286648 0.64578201 0.67506128 0.23833257 0.73794031\n",
            "  0.85023098 0.17631056 0.75636184 0.17281527 0.53959365 0.09540651\n",
            "  0.         0.74198875 0.77442774 0.79207129 0.84593392 0.7930075\n",
            "  0.72281552 0.48835932 0.66738618 0.67364746 0.64153225 0.57707737\n",
            "  0.68819003 0.44732947 0.72370694 0.21202185 0.39132326 0.56695651\n",
            "  0.42883651 0.37946502 0.67015264 0.14162085]\n",
            " [0.81283014 0.31427782 0.53861453 0.39665361 0.6649485  0.50643212\n",
            "  0.41771379 0.62074049 0.23680487 0.9017348  0.65306782 0.51954779\n",
            "  0.38420436 0.73397443 0.76992588 0.18144573 0.43367165 0.08782697\n",
            "  0.02632187 0.12745998 0.73144017 0.65971132 0.51359037 0.71996872\n",
            "  0.31783243 0.46466967 0.66335007 0.31276393 0.64432905 0.85892209\n",
            "  0.58328799 0.66650281 0.96397152 0.14321374 0.65243681 0.44888804\n",
            "  0.09484933 0.28507864 0.78843994 0.2785897  0.82871171 0.47868424\n",
            "  0.70097456 0.54048117 0.27701099 0.63616123 0.53839018 0.36317486\n",
            "  0.17771834 0.27058762 0.2428223  0.19517122 0.3957053  0.21950354\n",
            "  0.23946573 0.28946592 0.65260168 0.64352639 0.09352258 0.49567337\n",
            "  0.1339668  0.20443625 0.7122699  0.39525415 0.78389032 0.49622658\n",
            "  0.38558331 0.1865281  0.5418562  0.48874517 0.74128585 0.05587709\n",
            "  0.2099208  0.87893656 0.46423797 0.60430319 0.40003986 0.72387224\n",
            "  0.74198875 0.         0.69455351 0.35949101 0.19302427 0.08778959\n",
            "  0.41991316 0.62625009 0.38526365 0.60030862 0.18776956 0.17764193\n",
            "  0.06034421 0.29565829 0.71074165 0.86961382 0.59128983 0.20921817\n",
            "  0.63499236 0.77468296 0.31226469 0.77411078]\n",
            " [0.79646387 0.73926023 0.17651906 0.75178154 0.33713244 0.81220312\n",
            "  0.30154943 0.15263    0.80235403 0.7461991  0.72393277 0.76162229\n",
            "  0.39470528 0.57143404 0.79756142 0.74449619 0.53651775 0.69306721\n",
            "  0.72074078 0.62185951 0.26322904 1.075783   0.18247739 0.85964752\n",
            "  0.42898406 0.57914115 0.41115727 0.92876775 0.16123753 0.83915598\n",
            "  0.84363895 1.10703526 0.85736768 0.62980608 0.15852358 0.32965979\n",
            "  0.71356092 0.41850097 0.71291068 0.49905945 0.7203627  0.25614167\n",
            "  0.26593984 0.19556396 0.75521366 0.85212854 0.79344837 0.83351816\n",
            "  0.82193425 0.65110326 0.63229379 0.62982444 0.33144861 0.48972562\n",
            "  0.56935128 0.63089626 1.11065434 0.90067981 0.61420817 0.28347305\n",
            "  0.81103369 0.89892859 0.3250119  1.03467179 0.71586914 0.21926542\n",
            "  1.03609789 0.87872965 0.17118041 0.20742258 0.57016942 0.74292981\n",
            "  0.90446722 0.77112891 0.24521147 0.61693869 0.91338259 0.68617279\n",
            "  0.77442774 0.69455351 0.         0.37428846 0.88751566 0.7815911\n",
            "  1.03841217 0.28715866 0.98300476 1.14559015 0.79611735 0.699481\n",
            "  0.64897418 0.6490836  1.24572802 0.71584924 0.38360332 0.7379707\n",
            "  0.34812163 0.46361782 0.92580256 0.90222453]\n",
            " [0.8443954  0.53403945 0.27240661 0.58577237 0.50041499 0.68270106\n",
            "  0.22116419 0.36273253 0.42857868 0.86812971 0.71246318 0.65906414\n",
            "  0.29458813 0.67500216 0.8207048  0.37251671 0.45778511 0.3910072\n",
            "  0.38515337 0.2596138  0.51290992 0.91229548 0.22217981 0.82709826\n",
            "  0.0546958  0.50863842 0.53985152 0.64909007 0.39129509 0.89335122\n",
            "  0.74296045 0.93210798 0.96159676 0.35561505 0.39773847 0.30099262\n",
            "  0.35309128 0.08698195 0.78500669 0.12498946 0.81241771 0.12562714\n",
            "  0.49121021 0.19099298 0.52628228 0.77671264 0.68877982 0.62072141\n",
            "  0.45606691 0.44504564 0.25854737 0.38457651 0.04292437 0.14023181\n",
            "  0.1950734  0.4393831  0.92641565 0.80824561 0.30488886 0.13625581\n",
            "  0.49094589 0.55777811 0.52927904 0.7445163  0.78397046 0.15557946\n",
            "  0.73862879 0.52988963 0.27208552 0.20429987 0.67886336 0.4143192\n",
            "  0.56238722 0.86833414 0.12958999 0.62050136 0.686929   0.73243055\n",
            "  0.79207129 0.35949101 0.37428846 0.         0.54422102 0.43941987\n",
            "  0.76135207 0.44218699 0.71599999 0.91461152 0.51092245 0.43652285\n",
            "  0.33197674 0.45748996 1.02381342 0.83366241 0.47050001 0.48106355\n",
            "  0.48354265 0.64326529 0.64734927 0.8803969 ]\n",
            " [0.92049517 0.38617104 0.73083079 0.46867523 0.84154978 0.56683783\n",
            "  0.60826344 0.81150933 0.2481973  1.03133845 0.75974047 0.60052346\n",
            "  0.56441201 0.88027199 0.87166093 0.23953487 0.57907637 0.22058289\n",
            "  0.16696631 0.28897785 0.9157286  0.64260587 0.70660676 0.79751069\n",
            "  0.49772171 0.59853794 0.83114903 0.24344516 0.83436196 0.96276342\n",
            "  0.6439627  0.63673775 1.07872911 0.29770334 0.84252108 0.63283011\n",
            "  0.20069483 0.47523767 0.91199293 0.44656192 0.9551062  0.6667666\n",
            "  0.88452795 0.72989311 0.3375576  0.7025699  0.61042343 0.3882962\n",
            "  0.14988756 0.38712245 0.36484165 0.33416822 0.58279072 0.40679139\n",
            "  0.39047789 0.41312871 0.61606371 0.69438741 0.27954194 0.67899173\n",
            "  0.11074488 0.01600673 0.89091365 0.27604494 0.90631922 0.68679458\n",
            "  0.25580449 0.02922352 0.73420387 0.68175249 0.8883029  0.14916444\n",
            "  0.01855147 1.00069968 0.65512791 0.7332964  0.3849108  0.84664584\n",
            "  0.84593392 0.19302427 0.88751566 0.54422102 0.         0.10620894\n",
            "  0.3166385  0.80769146 0.30954493 0.52217465 0.20521546 0.27862123\n",
            "  0.24361002 0.41107055 0.62618925 1.00145577 0.76207091 0.27968535\n",
            "  0.81014671 0.93993687 0.24580904 0.84803069]\n",
            " [0.86587252 0.34414867 0.62640362 0.42887634 0.74774082 0.53510385\n",
            "  0.50525109 0.70836853 0.212476   0.96489311 0.70481366 0.55809849\n",
            "  0.46794259 0.80401668 0.82008214 0.17718186 0.50181926 0.13701793\n",
            "  0.06255411 0.18858273 0.81718555 0.65453187 0.60100744 0.75877041\n",
            "  0.39423944 0.52763805 0.7425222  0.27561205 0.73180209 0.91042923\n",
            "  0.61308226 0.65563916 1.02072303 0.21086418 0.73992335 0.53425511\n",
            "  0.11042198 0.36914983 0.8485393  0.34671328 0.89022561 0.56119356\n",
            "  0.7864427  0.62403601 0.29962433 0.6691605  0.57296687 0.37182467\n",
            "  0.12567897 0.32182921 0.28112277 0.25597209 0.47740743 0.3011259\n",
            "  0.29597556 0.3448829  0.63851276 0.66939866 0.17834072 0.57479812\n",
            "  0.08766955 0.11876348 0.79591726 0.34029777 0.84346743 0.58070953\n",
            "  0.32601714 0.09887099 0.62963961 0.57620148 0.81166681 0.05673264\n",
            "  0.12377783 0.93854954 0.54899221 0.66600291 0.39097167 0.78335309\n",
            "  0.7930075  0.08778959 0.7815911  0.43941987 0.10620894 0.\n",
            "  0.37230293 0.71088042 0.34848839 0.56688696 0.18032182 0.21599444\n",
            "  0.14282616 0.34701059 0.67558293 0.93367203 0.6715671  0.23292086\n",
            "  0.71716074 0.85299092 0.27633306 0.81160075]\n",
            " [0.79680176 0.32771038 0.86395874 0.36985858 0.88620204 0.41671899\n",
            "  0.73700369 0.92496506 0.56347686 0.94118372 0.65202247 0.47624779\n",
            "  0.65370711 0.8388218  0.74193167 0.54488717 0.57910511 0.37042645\n",
            "  0.39952931 0.54668874 0.98500069 0.36853195 0.85927113 0.63490767\n",
            "  0.72805449 0.57085418 0.8492032  0.11256868 0.94073115 0.82862161\n",
            "  0.47715309 0.35004955 0.95626565 0.41522084 0.9487417  0.7258713\n",
            "  0.482109   0.67728754 0.81919541 0.69707943 0.86422667 0.86756241\n",
            "  0.9525901  0.92212954 0.29434659 0.53487324 0.46894455 0.25310271\n",
            "  0.46479055 0.39868304 0.65225997 0.40861162 0.79091468 0.62411675\n",
            "  0.6586513  0.42407915 0.32461273 0.50379665 0.4564663  0.89541974\n",
            "  0.29005749 0.3022473  0.93891331 0.04851153 0.81182732 0.87435373\n",
            "  0.07617183 0.34585405 0.86883063 0.83517329 0.84775858 0.36564409\n",
            "  0.30404241 0.89702936 0.84216168 0.67201364 0.18408975 0.75879975\n",
            "  0.72281552 0.41991316 1.03841217 0.76135207 0.3166385  0.37230293\n",
            "  0.         0.87290693 0.06113292 0.20750482 0.25097205 0.33984973\n",
            "  0.43114857 0.40926663 0.30955643 0.91810137 0.79583195 0.30044707\n",
            "  0.85271561 0.94146928 0.11471645 0.67419415]\n",
            " [0.50942196 0.54799807 0.18973933 0.53370341 0.06106136 0.56842955\n",
            "  0.23303774 0.13843445 0.80675918 0.47094584 0.44334979 0.50939167\n",
            "  0.24330834 0.28716312 0.51089238 0.74155107 0.30446536 0.58868756\n",
            "  0.64910752 0.60634512 0.11236704 0.83339131 0.24541345 0.57955241\n",
            "  0.48520588 0.33346666 0.12621158 0.7738206  0.12598278 0.55259694\n",
            "  0.58499876 0.8690415  0.57902782 0.51261685 0.12942202 0.17806646\n",
            "  0.68149127 0.42778793 0.42679323 0.54804617 0.43708773 0.38708025\n",
            "  0.07991402 0.36680412 0.57859631 0.58384792 0.53969747 0.63602084\n",
            "  0.79120204 0.47547799 0.67009127 0.48860313 0.41210771 0.48567537\n",
            "  0.60575893 0.44920539 0.87735822 0.63610679 0.53304173 0.43942847\n",
            "  0.70880082 0.81492699 0.08996737 0.88130169 0.42943927 0.34706651\n",
            "  0.88970812 0.8083993  0.19344002 0.25096658 0.28686572 0.65944823\n",
            "  0.82136474 0.48973889 0.34581292 0.33762757 0.71787433 0.39910754\n",
            "  0.48835932 0.62625009 0.28715866 0.44218699 0.80769146 0.71088042\n",
            "  0.87290693 0.         0.812795   0.9387708  0.66011996 0.55854252\n",
            "  0.56813849 0.4636413  1.02892683 0.43865096 0.10258915 0.58565337\n",
            "  0.06130475 0.20671284 0.77002332 0.61930286]\n",
            " [0.74186562 0.26677762 0.80788116 0.30942641 0.82545699 0.36101818\n",
            "  0.68145533 0.86713664 0.55007517 0.88385954 0.59470934 0.41875631\n",
            "  0.59591308 0.77851235 0.68731766 0.5248165  0.51811268 0.32708227\n",
            "  0.3672182  0.51272131 0.92478587 0.34355877 0.80496246 0.58363451\n",
            "  0.68530426 0.50974092 0.7881049  0.07324605 0.88239456 0.77500277\n",
            "  0.42465145 0.33168262 0.90193585 0.36496227 0.89036747 0.6677684\n",
            "  0.45570792 0.63078056 0.76160909 0.65857544 0.80667965 0.81876909\n",
            "  0.89239698 0.87179817 0.23458736 0.48329083 0.41306749 0.19263065\n",
            "  0.45220685 0.33952959 0.62364552 0.35402323 0.74386623 0.58085849\n",
            "  0.62467311 0.364465   0.30905805 0.45566793 0.41203461 0.84868087\n",
            "  0.262198   0.29682228 0.87816831 0.08929785 0.75433772 0.82377414\n",
            "  0.11309383 0.33838399 0.81284838 0.78110531 0.78743764 0.33331193\n",
            "  0.29987897 0.84064925 0.79177162 0.61196202 0.12789514 0.70058777\n",
            "  0.66738618 0.38526365 0.98300476 0.71599999 0.30954493 0.34848839\n",
            "  0.06113292 0.812795   0.         0.21839872 0.20583064 0.28715005\n",
            "  0.38947129 0.34926918 0.3274798  0.86020138 0.73499931 0.24584825\n",
            "  0.79197647 0.88038607 0.07320348 0.62499442]\n",
            " [0.74076998 0.40643897 0.96912879 0.40506856 0.93878314 0.39514276\n",
            "  0.84788546 1.01589549 0.76666934 0.90030181 0.62243287 0.46214965\n",
            "  0.7509532  0.8390974  0.68581518 0.74309729 0.63430722 0.53477639\n",
            "  0.58367296 0.72737765 1.04688378 0.21722046 0.97525172 0.56278383\n",
            "  0.88892285 0.60965939 0.8877795  0.29141838 1.02679076 0.76215967\n",
            "  0.4258144  0.18236672 0.89082891 0.55899757 1.03430926 0.81850296\n",
            "  0.67376759 0.8279128  0.78462205 0.8682557  0.8277428  1.00829077\n",
            "  1.01545042 1.05629704 0.3961477  0.47204492 0.44198514 0.31208768\n",
            "  0.66828722 0.49622388 0.84077792 0.53522351 0.93852832 0.78464244\n",
            "  0.8387965  0.51492039 0.15357124 0.42480953 0.61638225 1.04312707\n",
            "  0.48043088 0.50828182 0.99033022 0.25350109 0.7765846  1.00798417\n",
            "  0.27941516 0.55136922 0.97455538 0.95282645 0.84797892 0.54997857\n",
            "  0.51045039 0.84898905 0.97693389 0.67425593 0.2335275  0.73293636\n",
            "  0.67364746 0.60030862 1.14559015 0.91461152 0.52217465 0.56688696\n",
            "  0.20750482 0.9387708  0.21839872 0.         0.41508054 0.47810224\n",
            "  0.59806349 0.49657047 0.1106337  0.88350812 0.84823521 0.43361142\n",
            "  0.90626616 0.96337225 0.29096767 0.58824368]\n",
            " [0.71637138 0.18126567 0.62463378 0.26347075 0.68407733 0.36339654\n",
            "  0.49687869 0.69280454 0.39255218 0.83212681 0.55607322 0.3953134\n",
            "  0.42507464 0.69059139 0.66695662 0.35181107 0.39592193 0.1212864\n",
            "  0.17510433 0.31334456 0.77199339 0.47698392 0.61486994 0.59284777\n",
            "  0.47948214 0.40700137 0.66147434 0.13842427 0.71136374 0.75808981\n",
            "  0.4410716  0.48102783 0.87533829 0.16687435 0.71953697 0.497735\n",
            "  0.27150922 0.42641858 0.71144827 0.45394415 0.75521406 0.61673603\n",
            "  0.73970498 0.67198391 0.13242416 0.49900233 0.40569638 0.19212456\n",
            "  0.30425132 0.19775516 0.43054932 0.17283046 0.53997734 0.37505993\n",
            "  0.42411626 0.22556029 0.46600685 0.49421693 0.20637198 0.64455143\n",
            "  0.10115036 0.20240248 0.73585619 0.23965726 0.70546737 0.62443222\n",
            "  0.23998415 0.2247749  0.62914121 0.590332   0.69898502 0.14374042\n",
            "  0.20871478 0.79916985 0.59213459 0.53646557 0.2143607  0.64630386\n",
            "  0.64153225 0.18776956 0.79611735 0.51092245 0.20521546 0.18032182\n",
            "  0.25097205 0.66011996 0.20583064 0.41508054 0.         0.10174655\n",
            "  0.18401133 0.21876586 0.52571358 0.80326006 0.59797006 0.08125529\n",
            "  0.65111969 0.76532456 0.13650918 0.64390599]\n",
            " [0.65016512 0.13672353 0.52630976 0.21921462 0.58344376 0.32881196\n",
            "  0.39873395 0.59232913 0.41186663 0.75388922 0.48902675 0.34456703\n",
            "  0.32361673 0.60213334 0.60409622 0.35895224 0.30236925 0.08984969\n",
            "  0.1795071  0.28257306 0.67033277 0.49781305 0.51957739 0.54550524\n",
            "  0.41260245 0.31992076 0.56328726 0.22930257 0.61040246 0.69450012\n",
            "  0.40582173 0.51033027 0.8058632  0.08092134 0.61855899 0.39634324\n",
            "  0.27245327 0.34981517 0.63567524 0.39979449 0.67818986 0.53323392\n",
            "  0.63806579 0.58499061 0.10342302 0.45936656 0.36186239 0.19690461\n",
            "  0.3387791  0.10869278 0.40596581 0.07143066 0.46096506 0.30930439\n",
            "  0.38451335 0.13452185 0.50043312 0.4658871  0.1465865  0.56577143\n",
            "  0.16815769 0.28036326 0.63499707 0.33551623 0.63029535 0.53687465\n",
            "  0.33870545 0.29088166 0.53098795 0.49539526 0.61025609 0.16172997\n",
            "  0.28703495 0.72514983 0.50498566 0.45527221 0.25253866 0.57032378\n",
            "  0.57707737 0.17764193 0.699481   0.43652285 0.27862123 0.21599444\n",
            "  0.33984973 0.55854252 0.28715005 0.47810224 0.10174655 0.\n",
            "  0.14152906 0.13314274 0.5873513  0.72356273 0.49826747 0.04461149\n",
            "  0.55064699 0.66893842 0.22639123 0.59909777]\n",
            " [0.75806935 0.27593298 0.48820186 0.35486283 0.60575229 0.46511589\n",
            "  0.3647289  0.56795692 0.28972927 0.84346889 0.59922134 0.47268438\n",
            "  0.32541566 0.67423375 0.71641444 0.22996247 0.37467945 0.0633037\n",
            "  0.081074   0.14109136 0.67438461 0.63743011 0.46683774 0.6717821\n",
            "  0.29690715 0.40717172 0.60317843 0.31982338 0.5907533  0.80467855\n",
            "  0.54060396 0.64788819 0.90764185 0.08805481 0.59891155 0.39143245\n",
            "  0.14496524 0.25099209 0.73120208 0.27021628 0.77098553 0.44500403\n",
            "  0.643618   0.50431206 0.24488707 0.59136671 0.49347807 0.33696934\n",
            "  0.2374006  0.22053529 0.26443766 0.14190928 0.36446371 0.19319357\n",
            "  0.24581432 0.23670629 0.63627867 0.60255839 0.03593319 0.46757092\n",
            "  0.16344661 0.25315988 0.65351427 0.41262901 0.72682831 0.45840865\n",
            "  0.40676397 0.24107506 0.49175703 0.44186983 0.68148353 0.09497447\n",
            "  0.25916351 0.82174831 0.42604449 0.54685086 0.38455277 0.66693235\n",
            "  0.68819003 0.06034421 0.64897418 0.33197674 0.24361002 0.14282616\n",
            "  0.43114857 0.56813849 0.38947129 0.59806349 0.18401133 0.14152906\n",
            "  0.         0.24495534 0.70863958 0.81112836 0.53128733 0.18082049\n",
            "  0.57553467 0.71442941 0.31848938 0.72635704]\n",
            " [0.51937061 0.09017924 0.47258925 0.12886176 0.47876157 0.23296494\n",
            "  0.352118   0.52295974 0.53233493 0.62076913 0.35865931 0.22951624\n",
            "  0.2546756  0.47222863 0.47494297 0.47451212 0.17866847 0.21297634\n",
            "  0.30366414 0.37532918 0.57576947 0.4566017  0.47993622 0.42707286\n",
            "  0.44903854 0.18873578 0.44823082 0.3125082  0.53627912 0.56460588\n",
            "  0.30335644 0.47945459 0.6737177  0.1575427  0.54410252 0.32380358\n",
            "  0.38853364 0.37318635 0.50260916 0.45671481 0.54505158 0.52893847\n",
            "  0.54334798 0.56964332 0.1149848  0.34997938 0.25287987 0.18448801\n",
            "  0.4668435  0.0253009  0.4960767  0.10356068 0.47078618 0.35677536\n",
            "  0.46055638 0.01902484 0.47701353 0.36776256 0.23201226 0.57103017\n",
            "  0.30034331 0.41202808 0.53137776 0.41903503 0.49728721 0.52185571\n",
            "  0.42937966 0.42398084 0.47799964 0.45819634 0.48055004 0.29123531\n",
            "  0.41866331 0.5922165  0.4925321  0.32228737 0.26455121 0.43727386\n",
            "  0.44732947 0.29565829 0.6490836  0.45748996 0.41107055 0.34701059\n",
            "  0.40926663 0.4636413  0.34926918 0.49657047 0.21876586 0.13314274\n",
            "  0.24495534 0.         0.59824339 0.59054405 0.38944565 0.13751752\n",
            "  0.44530234 0.54894095 0.30850529 0.48179226]\n",
            " [0.78547653 0.50869953 1.06961548 0.49767813 1.02478134 0.47009368\n",
            "  0.95035385 1.11256179 0.87254474 0.9491542  0.68329624 0.53603648\n",
            "  0.85119344 0.90740362 0.73201995 0.85111655 0.72546213 0.64534497\n",
            "  0.69384172 0.83788912 1.1348827  0.23972463 1.07811877 0.60505095\n",
            "  0.99888455 0.69649639 0.96968881 0.40071163 1.1220782  0.80082638\n",
            "  0.48608549 0.19688645 0.92723398 0.66827156 1.1294135  0.9170494\n",
            "  0.78318757 0.93699382 0.83879445 0.97881037 0.88009264 1.1156282\n",
            "  1.10401159 1.16242315 0.50235079 0.52381789 0.5118846  0.41448642\n",
            "  0.77391976 0.59981002 0.9507876  0.64275655 1.04700703 0.89470776\n",
            "  0.94937004 0.61692888 0.17401103 0.47113544 0.72666881 1.15141613\n",
            "  0.58965843 0.61178846 1.07543534 0.352321   0.83062423 1.114151\n",
            "  0.37624469 0.65540707 1.07514192 1.05614597 0.91610968 0.66007741\n",
            "  0.61350286 0.89526848 1.08338836 0.74679692 0.33919962 0.7923094\n",
            "  0.72370694 0.71074165 1.24572802 1.02381342 0.62618925 0.67558293\n",
            "  0.30955643 1.02892683 0.3274798  0.1106337  0.52571358 0.5873513\n",
            "  0.70863958 0.59824339 0.         0.93568772 0.93520291 0.54277308\n",
            "  0.99292293 1.0383301  0.40047662 0.62161353]\n",
            " [0.15952385 0.62727889 0.6223547  0.55786679 0.38143345 0.50367469\n",
            "  0.61373312 0.57562005 1.09698074 0.03449753 0.26666683 0.4418898\n",
            "  0.54947819 0.15926395 0.20680657 1.03325806 0.43675042 0.79681131\n",
            "  0.88347719 0.90855449 0.46057559 0.69775341 0.67483257 0.33433491\n",
            "  0.86307878 0.40608464 0.31359567 0.85804185 0.55822997 0.17095776\n",
            "  0.45816567 0.74072864 0.14152821 0.7269686  0.55927372 0.53286632\n",
            "  0.9535314  0.78846136 0.09962067 0.91119745 0.05578687 0.81063373\n",
            "  0.45107681 0.80070138 0.6756879  0.41276632 0.45181513 0.67109885\n",
            "  1.04698472 0.61488451 1.00745144 0.67808889 0.81456374 0.82307408\n",
            "  0.95119272 0.5899143  0.76177228 0.46455501 0.78531928 0.86487787\n",
            "  0.8907132  1.00188907 0.3920014  0.94783199 0.10742064 0.7744175\n",
            "  0.96738193 1.01443755 0.62690497 0.67415747 0.15648419 0.87701342\n",
            "  1.00848104 0.06496181 0.76619979 0.2682929  0.7340469  0.16000749\n",
            "  0.21202185 0.86961382 0.71584924 0.83366241 1.00145577 0.93367203\n",
            "  0.91810137 0.43865096 0.86020138 0.88350812 0.80326006 0.72356273\n",
            "  0.81112836 0.59054405 0.93568772 0.         0.36972529 0.7236485\n",
            "  0.37910518 0.25759478 0.85355264 0.33462427]\n",
            " [0.41889135 0.46825961 0.25696845 0.44437561 0.09107657 0.47049965\n",
            "  0.24942042 0.2312989  0.79176889 0.40369044 0.34187514 0.4097623\n",
            "  0.21340327 0.21101253 0.41522847 0.72609973 0.21775569 0.54152324\n",
            "  0.61185455 0.59234648 0.1998459  0.73437606 0.30690041 0.47806043\n",
            "  0.50552946 0.2388869  0.07427986 0.70194695 0.22448214 0.46425445\n",
            "  0.48366203 0.77085618 0.50550742 0.46439934 0.22904156 0.1722853\n",
            "  0.65771288 0.43712296 0.34124233 0.56103623 0.35830571 0.44093719\n",
            "  0.16967579 0.43372286 0.50354253 0.48135706 0.43951662 0.55188565\n",
            "  0.76395218 0.40486412 0.67228727 0.43182837 0.44785019 0.48432369\n",
            "  0.61072238 0.37735033 0.78021775 0.53386229 0.49814981 0.49522703\n",
            "  0.65778482 0.76760271 0.14357159 0.80817374 0.34273384 0.40520555\n",
            "  0.81882219 0.76621497 0.26201274 0.30478383 0.21325143 0.61726527\n",
            "  0.77420473 0.41328558 0.39647696 0.23558243 0.63303313 0.30576499\n",
            "  0.39132326 0.59128983 0.38360332 0.47050001 0.76207091 0.6715671\n",
            "  0.79583195 0.10258915 0.73499931 0.84823521 0.59797006 0.49826747\n",
            "  0.53128733 0.38944565 0.93520291 0.36972529 0.         0.51977742\n",
            "  0.05806554 0.18627805 0.69793032 0.51907244]\n",
            " [0.64121276 0.11125908 0.5636365  0.19599342 0.60699986 0.30268714\n",
            "  0.436564   0.62669688 0.43763456 0.75292664 0.48026397 0.32604066\n",
            "  0.3561414  0.60940909 0.59310315 0.38834489 0.31507301 0.12294048\n",
            "  0.20649373 0.32155014 0.69790667 0.45663123 0.55922976 0.52626203\n",
            "  0.45714898 0.32581058 0.58197254 0.19220525 0.64370463 0.68407906\n",
            "  0.38056461 0.46783082 0.79909003 0.12550669 0.65180694 0.42883775\n",
            "  0.3027806  0.39430997 0.63286579 0.44336782 0.6763008  0.57680186\n",
            "  0.66549993 0.62777891 0.06829396 0.43627415 0.34009347 0.15624629\n",
            "  0.35829878 0.11692016 0.44438266 0.10826894 0.50519064 0.35371488\n",
            "  0.4258965  0.1448226  0.45724458 0.43820167 0.1894984  0.60994299\n",
            "  0.16993911 0.27887258 0.6591255  0.29974431 0.62706391 0.57957759\n",
            "  0.30534862 0.29591055 0.56847023 0.53530438 0.61778676 0.18316942\n",
            "  0.285393   0.72123324 0.54783503 0.45625535 0.20822072 0.56758148\n",
            "  0.56695651 0.20921817 0.7379707  0.48106355 0.27968535 0.23292086\n",
            "  0.30044707 0.58565337 0.24584825 0.43361142 0.08125529 0.04461149\n",
            "  0.18082049 0.13751752 0.54277308 0.7236485  0.51977742 0.\n",
            "  0.57382826 0.68489964 0.18891284 0.57882562]\n",
            " [0.44834396 0.52535792 0.24471924 0.50243517 0.03349145 0.52732312\n",
            "  0.2662713  0.19967276 0.82757125 0.41181917 0.38738528 0.46578602\n",
            "  0.25180545 0.22613491 0.45083102 0.76196463 0.27545531 0.5896693\n",
            "  0.65651232 0.62717154 0.14278851 0.790481   0.29897214 0.52331577\n",
            "  0.52309113 0.29680693 0.06560397 0.75773239 0.18688478 0.49133859\n",
            "  0.53799968 0.82736929 0.51891894 0.51265566 0.18991049 0.19789279\n",
            "  0.6970242  0.45997331 0.36548986 0.58269754 0.37610749 0.43883848\n",
            "  0.11376356 0.4230497  0.55979886 0.53292021 0.49509862 0.60964804\n",
            "  0.80496263 0.45989432 0.69976183 0.48289097 0.45659437 0.5127574\n",
            "  0.63663471 0.43261435 0.83714947 0.58637612 0.54149311 0.49214978\n",
            "  0.70754616 0.8162853  0.08619858 0.86430597 0.36815567 0.40019617\n",
            "  0.87447402 0.81305884 0.24895357 0.30161835 0.22608036 0.66380607\n",
            "  0.82284    0.4290836  0.39608241 0.28320461 0.69089213 0.33861303\n",
            "  0.42883651 0.63499236 0.34812163 0.48354265 0.81014671 0.71716074\n",
            "  0.85271561 0.06130475 0.79197647 0.90626616 0.65111969 0.55064699\n",
            "  0.57553467 0.44530234 0.99292293 0.37910518 0.05806554 0.57382826\n",
            "  0.         0.15978495 0.75376101 0.56153397]\n",
            " [0.37176323 0.61690134 0.39619547 0.57461704 0.14573082 0.56932735\n",
            "  0.42571245 0.33308213 0.9780238  0.28542642 0.37215495 0.50268937\n",
            "  0.39967932 0.14748856 0.39315361 0.91235793 0.37027257 0.72028603\n",
            "  0.79438625 0.77861103 0.20376996 0.81684667 0.45207131 0.49615736\n",
            "  0.68276329 0.37077899 0.11220504 0.8567476  0.31171743 0.40500144\n",
            "  0.55768608 0.8572795  0.39808127 0.64351693 0.31133882 0.35432346\n",
            "  0.84335862 0.61850292 0.28213508 0.7417066  0.27449948 0.59378709\n",
            "  0.19776238 0.57190748 0.65813664 0.53545974 0.52653737 0.68974306\n",
            "  0.94877752 0.56800457 0.85662684 0.60641061 0.61574763 0.6689208\n",
            "  0.79421064 0.54008669 0.87186966 0.59192658 0.68207507 0.64608964\n",
            "  0.83316162 0.94444935 0.13903767 0.95972894 0.28777437 0.55371135\n",
            "  0.97336179 0.94585537 0.39969183 0.4574262  0.14113799 0.79779509\n",
            "  0.95110807 0.31817633 0.55228373 0.29171988 0.76715613 0.28453084\n",
            "  0.37946502 0.77468296 0.46361782 0.64326529 0.93993687 0.85299092\n",
            "  0.94146928 0.20671284 0.88038607 0.96337225 0.76532456 0.66893842\n",
            "  0.71442941 0.54894095 1.0383301  0.25759478 0.18627805 0.68489964\n",
            "  0.15978495 0.         0.8524982  0.52103396]\n",
            " [0.74551205 0.23610923 0.75213003 0.29576661 0.78720442 0.36743759\n",
            "  0.62476969 0.81552659 0.48073312 0.87923396 0.59201259 0.41781678\n",
            "  0.54470313 0.76005431 0.69224601 0.45316244 0.48435993 0.25686126\n",
            "  0.29402694 0.43972115 0.88238306 0.39748009 0.74593004 0.59772582\n",
            "  0.6151001  0.48281003 0.75532696 0.00449085 0.83225816 0.78196725\n",
            "  0.43822371 0.39094165 0.90637888 0.30064649 0.84033786 0.61728827\n",
            "  0.38281497 0.56292644 0.75665439 0.58662131 0.80161958 0.75287318\n",
            "  0.84992622 0.80743995 0.19496853 0.49797807 0.41773153 0.1845669\n",
            "  0.38367945 0.29464796 0.55047237 0.2962579  0.67646237 0.51086713\n",
            "  0.55172091 0.32141612 0.37058266 0.47793762 0.34259592 0.78105761\n",
            "  0.18949558 0.23454558 0.83978258 0.11144616 0.74978176 0.75969012\n",
            "  0.12111589 0.27385984 0.75689491 0.72169447 0.76885159 0.26011303\n",
            "  0.23844293 0.83940556 0.72748263 0.59634674 0.14856818 0.69359185\n",
            "  0.67015264 0.31226469 0.92580256 0.64734927 0.24580904 0.27633306\n",
            "  0.11471645 0.77002332 0.07320348 0.29096767 0.13650918 0.22639123\n",
            "  0.31848938 0.30850529 0.40047662 0.85355264 0.69793032 0.18891284\n",
            "  0.75376101 0.8524982  0.         0.6430356 ]\n",
            " [0.17523018 0.46757831 0.7581048  0.3828664  0.58224136 0.28139474\n",
            "  0.69178877 0.74961233 1.01041551 0.33980212 0.17941896 0.25465041\n",
            "  0.59246054 0.37362816 0.1323174  0.95487389 0.42296485 0.68773262\n",
            "  0.77843989 0.8558738  0.69060734 0.38230175 0.79688264 0.05504237\n",
            "  0.89027957 0.37186268 0.50749763 0.64729181 0.74350641 0.18046562\n",
            "  0.20566745 0.42483241 0.30562053 0.63932103 0.74787433 0.61754542\n",
            "  0.86838942 0.80956351 0.25215729 0.91611733 0.28320571 0.90531837\n",
            "  0.66853537 0.91960265 0.51370236 0.14604663 0.23883365 0.46459664\n",
            "  0.93655105 0.5058703  0.97438499 0.58535115 0.87736295 0.81603119\n",
            "  0.93286837 0.49205346 0.44938426 0.1707207  0.71340575 0.95776641\n",
            "  0.74413524 0.84336182 0.61791371 0.71370388 0.24455129 0.88024789\n",
            "  0.73807076 0.86865598 0.7638354  0.78580488 0.37991965 0.75989142\n",
            "  0.84926576 0.28285714 0.86065744 0.28615975 0.49951011 0.2366314\n",
            "  0.14162085 0.77411078 0.90222453 0.8803969  0.84803069 0.81160075\n",
            "  0.67419415 0.61930286 0.62499442 0.58824368 0.64390599 0.59909777\n",
            "  0.72635704 0.48179226 0.62161353 0.33462427 0.51907244 0.57882562\n",
            "  0.56153397 0.52103396 0.6430356  0.        ]]\n",
            "[[0.         0.43238342 0.63043693 0.67156045 0.16158537 0.18384652\n",
            "  0.84293612 1.02484243 0.77881419 0.63772224]\n",
            " [0.43238342 0.         0.22062311 0.54837931 0.4112645  0.45466315\n",
            "  0.7220454  0.82573715 0.7591952  0.84045757]\n",
            " [0.63043693 0.22062311 0.         0.48731618 0.62966417 0.60690634\n",
            "  0.63268366 0.68212805 0.72151618 0.90539303]\n",
            " [0.67156045 0.54837931 0.48731618 0.         0.77795728 0.52142834\n",
            "  0.18098907 0.35651435 0.23574497 0.52606021]\n",
            " [0.16158537 0.4112645  0.62966417 0.77795728 0.         0.33829261\n",
            "  0.95602013 1.12078873 0.91286683 0.79847138]\n",
            " [0.18384652 0.45466315 0.60690634 0.52142834 0.33829261 0.\n",
            "  0.6824719  0.87792511 0.60181756 0.46484598]\n",
            " [0.84293612 0.7220454  0.63268366 0.18098907 0.95602013 0.6824719\n",
            "  0.         0.22099375 0.18451118 0.57371555]\n",
            " [1.02484243 0.82573715 0.68212805 0.35651435 1.12078873 0.87792511\n",
            "  0.22099375 0.         0.39597474 0.79205334]\n",
            " [0.77881419 0.7591952  0.72151618 0.23574497 0.91286683 0.60181756\n",
            "  0.18451118 0.39597474 0.         0.39781442]\n",
            " [0.63772224 0.84045757 0.90539303 0.52606021 0.79847138 0.46484598\n",
            "  0.57371555 0.79205334 0.39781442 0.        ]]\n"
          ]
        }
      ],
      "source": [
        "Z = np.random.random((100,2))\n",
        "X,Y = np.atleast_2d(Z[:,0], Z[:,1])\n",
        "D = np.sqrt( (X-X.T)**2 + (Y-Y.T)**2)\n",
        "print(D)\n",
        "\n",
        "\n",
        "import scipy\n",
        "\n",
        "import scipy.spatial\n",
        "\n",
        "Z = np.random.random((10,2))\n",
        "D = scipy.spatial.distance.cdist(Z,Z)\n",
        "print(D)"
      ]
    },
    {
      "cell_type": "markdown",
      "metadata": {
        "id": "oG-wzVXBmI5Z"
      },
      "source": [
        "#### 53. How to convert a float (32 bits) array into an integer (32 bits) in place? \n",
        "(**hint**: astype(copy=False))"
      ]
    },
    {
      "cell_type": "code",
      "execution_count": null,
      "metadata": {
        "id": "DqcsFFfamI5Z",
        "colab": {
          "base_uri": "https://localhost:8080/"
        },
        "outputId": "cbd9bad8-6572-4129-8d02-2a3ced177617"
      },
      "outputs": [
        {
          "output_type": "stream",
          "name": "stdout",
          "text": [
            "[0 1 2 3 4 5 6 7 8 9]\n"
          ]
        }
      ],
      "source": [
        "Z = np.arange(10, dtype=np.float32)\n",
        "Z = Z.astype(np.int32, copy=False)\n",
        "print(Z)"
      ]
    },
    {
      "cell_type": "markdown",
      "metadata": {
        "id": "0YwXzERAmI5Z"
      },
      "source": [
        "#### 54. How to read the following file? (★★☆) \n",
        "(**hint**: np.genfromtxt)"
      ]
    },
    {
      "cell_type": "markdown",
      "metadata": {
        "id": "jz8C7aNkmI5Z"
      },
      "source": [
        "```\n",
        "1, 2, 3, 4, 5\n",
        "6,  ,  , 7, 8\n",
        " ,  , 9,10,11\n",
        "```"
      ]
    },
    {
      "cell_type": "code",
      "execution_count": null,
      "metadata": {
        "id": "FpB2gBJYmI5Z",
        "colab": {
          "base_uri": "https://localhost:8080/"
        },
        "outputId": "05f99000-cd51-4f91-be9b-7fe3110a6435"
      },
      "outputs": [
        {
          "output_type": "stream",
          "name": "stdout",
          "text": [
            "[[ 1  2  3  4  5]\n",
            " [ 6 -1 -1  7  8]\n",
            " [-1 -1  9 10 11]]\n"
          ]
        },
        {
          "output_type": "stream",
          "name": "stderr",
          "text": [
            "/usr/local/lib/python3.7/dist-packages/ipykernel_launcher.py:7: DeprecationWarning: `np.int` is a deprecated alias for the builtin `int`. To silence this warning, use `int` by itself. Doing this will not modify any behavior and is safe. When replacing `np.int`, you may wish to use e.g. `np.int64` or `np.int32` to specify the precision. If you wish to review your current use, check the release note link for additional information.\n",
            "Deprecated in NumPy 1.20; for more details and guidance: https://numpy.org/devdocs/release/1.20.0-notes.html#deprecations\n",
            "  import sys\n"
          ]
        }
      ],
      "source": [
        "from io import StringIO\n",
        "\n",
        "\n",
        "s = StringIO(\"\"\"1, 2, 3, 4, 5\\n\n",
        "                6,  ,  , 7, 8\\n\n",
        "                 ,  , 9,10,11\\n\"\"\")\n",
        "Z = np.genfromtxt(s, delimiter=\",\", dtype=np.int)\n",
        "print(Z)"
      ]
    },
    {
      "cell_type": "markdown",
      "metadata": {
        "id": "MAj3cqJ4mI5a"
      },
      "source": [
        "#### 55. What is the equivalent of enumerate for numpy arrays? (★★☆) \n",
        "(**hint**: np.ndenumerate, np.ndindex)"
      ]
    },
    {
      "cell_type": "code",
      "execution_count": null,
      "metadata": {
        "id": "XLQ72I4EmI5a",
        "colab": {
          "base_uri": "https://localhost:8080/"
        },
        "outputId": "677ab89b-4fa4-4e79-9d25-34e23a8180a3"
      },
      "outputs": [
        {
          "output_type": "stream",
          "name": "stdout",
          "text": [
            "(0, 0) 0\n",
            "(0, 1) 1\n",
            "(0, 2) 2\n",
            "(1, 0) 3\n",
            "(1, 1) 4\n",
            "(1, 2) 5\n",
            "(2, 0) 6\n",
            "(2, 1) 7\n",
            "(2, 2) 8\n",
            "(0, 0) 0\n",
            "(0, 1) 1\n",
            "(0, 2) 2\n",
            "(1, 0) 3\n",
            "(1, 1) 4\n",
            "(1, 2) 5\n",
            "(2, 0) 6\n",
            "(2, 1) 7\n",
            "(2, 2) 8\n"
          ]
        }
      ],
      "source": [
        "Z = np.arange(9).reshape(3,3)\n",
        "for index, value in np.ndenumerate(Z):\n",
        "    print(index, value)\n",
        "for index in np.ndindex(Z.shape):\n",
        "    print(index, Z[index])"
      ]
    },
    {
      "cell_type": "markdown",
      "metadata": {
        "id": "Bc5RwRKPmI5b"
      },
      "source": [
        "#### 56. Generate a generic 2D Gaussian-like array (★★☆) \n",
        "(**hint**: np.meshgrid, np.exp)"
      ]
    },
    {
      "cell_type": "code",
      "execution_count": null,
      "metadata": {
        "id": "fozmWajvmI5b",
        "colab": {
          "base_uri": "https://localhost:8080/"
        },
        "outputId": "661af1c8-fe96-49c3-fbb4-02ad86b95ec2"
      },
      "outputs": [
        {
          "output_type": "stream",
          "name": "stdout",
          "text": [
            "[[0.36787944 0.44822088 0.51979489 0.57375342 0.60279818 0.60279818\n",
            "  0.57375342 0.51979489 0.44822088 0.36787944]\n",
            " [0.44822088 0.54610814 0.63331324 0.69905581 0.73444367 0.73444367\n",
            "  0.69905581 0.63331324 0.54610814 0.44822088]\n",
            " [0.51979489 0.63331324 0.73444367 0.81068432 0.85172308 0.85172308\n",
            "  0.81068432 0.73444367 0.63331324 0.51979489]\n",
            " [0.57375342 0.69905581 0.81068432 0.89483932 0.9401382  0.9401382\n",
            "  0.89483932 0.81068432 0.69905581 0.57375342]\n",
            " [0.60279818 0.73444367 0.85172308 0.9401382  0.98773022 0.98773022\n",
            "  0.9401382  0.85172308 0.73444367 0.60279818]\n",
            " [0.60279818 0.73444367 0.85172308 0.9401382  0.98773022 0.98773022\n",
            "  0.9401382  0.85172308 0.73444367 0.60279818]\n",
            " [0.57375342 0.69905581 0.81068432 0.89483932 0.9401382  0.9401382\n",
            "  0.89483932 0.81068432 0.69905581 0.57375342]\n",
            " [0.51979489 0.63331324 0.73444367 0.81068432 0.85172308 0.85172308\n",
            "  0.81068432 0.73444367 0.63331324 0.51979489]\n",
            " [0.44822088 0.54610814 0.63331324 0.69905581 0.73444367 0.73444367\n",
            "  0.69905581 0.63331324 0.54610814 0.44822088]\n",
            " [0.36787944 0.44822088 0.51979489 0.57375342 0.60279818 0.60279818\n",
            "  0.57375342 0.51979489 0.44822088 0.36787944]]\n"
          ]
        }
      ],
      "source": [
        "X, Y = np.meshgrid(np.linspace(-1,1,10), np.linspace(-1,1,10))\n",
        "D = np.sqrt(X*X+Y*Y)\n",
        "sigma, mu = 1.0, 0.0\n",
        "G = np.exp(-( (D-mu)**2 / ( 2.0 * sigma**2 ) ) )\n",
        "print(G)"
      ]
    },
    {
      "cell_type": "markdown",
      "metadata": {
        "id": "1NvQJlDdmI5c"
      },
      "source": [
        "#### 57. How to randomly place p elements in a 2D array? (★★☆) \n",
        "(**hint**: np.put, np.random.choice)"
      ]
    },
    {
      "cell_type": "code",
      "execution_count": null,
      "metadata": {
        "id": "qdIf73zWmI5c",
        "colab": {
          "base_uri": "https://localhost:8080/"
        },
        "outputId": "deecb3ae-5d5b-4e10-c11f-220fdaa6c809"
      },
      "outputs": [
        {
          "output_type": "stream",
          "name": "stdout",
          "text": [
            "[[0. 0. 0. 0. 0. 0. 0. 0. 0. 0.]\n",
            " [0. 0. 0. 0. 0. 0. 0. 0. 0. 0.]\n",
            " [0. 0. 0. 0. 0. 0. 0. 0. 0. 0.]\n",
            " [0. 0. 1. 0. 0. 0. 0. 0. 0. 0.]\n",
            " [0. 0. 0. 0. 0. 0. 0. 0. 0. 0.]\n",
            " [0. 0. 0. 0. 0. 0. 0. 0. 0. 0.]\n",
            " [0. 0. 0. 0. 0. 0. 0. 0. 0. 0.]\n",
            " [0. 0. 0. 1. 0. 0. 0. 0. 0. 0.]\n",
            " [0. 0. 1. 0. 0. 0. 0. 0. 0. 0.]\n",
            " [0. 0. 0. 0. 0. 0. 0. 0. 0. 0.]]\n"
          ]
        }
      ],
      "source": [
        "n = 10\n",
        "p = 3\n",
        "Z = np.zeros((n,n))\n",
        "np.put(Z, np.random.choice(range(n*n), p, replace=False),1)\n",
        "print(Z)"
      ]
    },
    {
      "cell_type": "markdown",
      "metadata": {
        "id": "4U_pqgt7mI5c"
      },
      "source": [
        "#### 58. Subtract the mean of each row of a matrix (★★☆) \n",
        "(**hint**: mean(axis=,keepdims=))"
      ]
    },
    {
      "cell_type": "code",
      "execution_count": null,
      "metadata": {
        "id": "jM3kpgEXmI5c",
        "colab": {
          "base_uri": "https://localhost:8080/"
        },
        "outputId": "2fd37792-6940-4204-90c3-de922fec7d27"
      },
      "outputs": [
        {
          "output_type": "stream",
          "name": "stdout",
          "text": [
            "[[-0.36375929  0.250285    0.15254315 -0.04038569 -0.35757841  0.29228001\n",
            "   0.0063408   0.36091012 -0.27347166 -0.02716402]\n",
            " [-0.10038377 -0.34353134  0.12469163 -0.16398114  0.39106109  0.26725601\n",
            "   0.16563779 -0.04119247 -0.05437653 -0.24518128]\n",
            " [-0.34293321 -0.15393789 -0.21522698  0.49098177 -0.22523244 -0.11064899\n",
            "   0.47683528  0.03277749 -0.30105055  0.34843551]\n",
            " [-0.40466525  0.38993515 -0.46891882  0.01870926  0.07635302  0.30739441\n",
            "   0.2910376   0.00915993  0.14679075 -0.36579605]\n",
            " [ 0.30165517 -0.42356733  0.29010614 -0.05100027  0.00727386  0.28589262\n",
            "  -0.18273829 -0.1862798  -0.18463337  0.14329127]]\n"
          ]
        }
      ],
      "source": [
        "X = np.random.rand(5, 10)\n",
        "\n",
        "\n",
        "Y = X - X.mean(axis=1, keepdims=True)\n",
        "\n",
        "print(Y)"
      ]
    },
    {
      "cell_type": "markdown",
      "metadata": {
        "id": "aiHgf398mI5d"
      },
      "source": [
        "#### 59. How to sort an array by the nth column? (★★☆) \n",
        "(**hint**: argsort)"
      ]
    },
    {
      "cell_type": "code",
      "execution_count": null,
      "metadata": {
        "id": "bTMy4PkNmI5d",
        "colab": {
          "base_uri": "https://localhost:8080/"
        },
        "outputId": "f21a1516-cade-477b-9976-1c3cbe989867"
      },
      "outputs": [
        {
          "output_type": "stream",
          "name": "stdout",
          "text": [
            "[[8 7 1]\n",
            " [9 7 1]\n",
            " [2 1 6]]\n",
            "[[2 1 6]\n",
            " [8 7 1]\n",
            " [9 7 1]]\n"
          ]
        }
      ],
      "source": [
        "Z = np.random.randint(0,10,(3,3))\n",
        "print(Z)\n",
        "print(Z[Z[:,1].argsort()])"
      ]
    },
    {
      "cell_type": "markdown",
      "metadata": {
        "id": "PE_pmcM6mI5d"
      },
      "source": [
        "#### 60. How to tell if a given 2D array has null columns? (★★☆) \n",
        "(**hint**: any, ~)"
      ]
    },
    {
      "cell_type": "code",
      "execution_count": null,
      "metadata": {
        "id": "5KZYR8Z1mI5d",
        "colab": {
          "base_uri": "https://localhost:8080/"
        },
        "outputId": "6e301a76-08ff-46e5-9e33-fe84833d3e7e"
      },
      "outputs": [
        {
          "output_type": "stream",
          "name": "stdout",
          "text": [
            "False\n"
          ]
        }
      ],
      "source": [
        "Z = np.random.randint(0,3,(3,10))\n",
        "print((~Z.any(axis=0)).any())"
      ]
    },
    {
      "cell_type": "markdown",
      "metadata": {
        "id": "G1SL46rdmI5e"
      },
      "source": [
        "#### 61. Find the nearest value from a given value in an array (★★☆) \n",
        "(**hint**: np.abs, argmin, flat)"
      ]
    },
    {
      "cell_type": "code",
      "execution_count": null,
      "metadata": {
        "id": "mZwLWnsgmI5e",
        "colab": {
          "base_uri": "https://localhost:8080/"
        },
        "outputId": "bc0e5d37-3b6a-4503-b1e8-39fbcc782ddf"
      },
      "outputs": [
        {
          "output_type": "stream",
          "name": "stdout",
          "text": [
            "0.5158078826885099\n"
          ]
        }
      ],
      "source": [
        "Z = np.random.uniform(0,1,10)\n",
        "z = 0.5\n",
        "m = Z.flat[np.abs(Z - z).argmin()]\n",
        "print(m)"
      ]
    },
    {
      "cell_type": "markdown",
      "metadata": {
        "id": "ET8y6KfRmI5e"
      },
      "source": [
        "#### 62. Considering two arrays with shape (1,3) and (3,1), how to compute their sum using an iterator? (★★☆) \n",
        "(**hint**: np.nditer)"
      ]
    },
    {
      "cell_type": "code",
      "execution_count": null,
      "metadata": {
        "id": "jr23ZlQ5mI5e",
        "colab": {
          "base_uri": "https://localhost:8080/"
        },
        "outputId": "110ea9a8-cdaf-4be0-bea5-5e64a844599c"
      },
      "outputs": [
        {
          "output_type": "stream",
          "name": "stdout",
          "text": [
            "[[0 1 2]\n",
            " [1 2 3]\n",
            " [2 3 4]]\n"
          ]
        }
      ],
      "source": [
        "A = np.arange(3).reshape(3,1)\n",
        "B = np.arange(3).reshape(1,3)\n",
        "it = np.nditer([A,B,None])\n",
        "for x,y,z in it: z[...] = x + y\n",
        "print(it.operands[2])"
      ]
    },
    {
      "cell_type": "markdown",
      "metadata": {
        "id": "HH3jOjGmmI5f"
      },
      "source": [
        "#### 63. Create an array class that has a name attribute (★★☆) \n",
        "(**hint**: class method)"
      ]
    },
    {
      "cell_type": "code",
      "execution_count": null,
      "metadata": {
        "id": "s4Etbm0WmI5f",
        "colab": {
          "base_uri": "https://localhost:8080/"
        },
        "outputId": "1bbf45dd-0217-4ee3-b4d2-2493b194844f"
      },
      "outputs": [
        {
          "output_type": "stream",
          "name": "stdout",
          "text": [
            "range_10\n"
          ]
        }
      ],
      "source": [
        "class NamedArray(np.ndarray):\n",
        "    def __new__(cls, array, name=\"no name\"):\n",
        "        obj = np.asarray(array).view(cls)\n",
        "        obj.name = name\n",
        "        return obj\n",
        "    def __array_finalize__(self, obj):\n",
        "        if obj is None: return\n",
        "        self.info = getattr(obj, 'name', \"no name\")\n",
        "\n",
        "Z = NamedArray(np.arange(10), \"range_10\")\n",
        "print (Z.name)"
      ]
    },
    {
      "cell_type": "markdown",
      "metadata": {
        "id": "85aLDEWEmI5f"
      },
      "source": [
        "#### 64. Consider a given vector, how to add 1 to each element indexed by a second vector (be careful with repeated indices)? (★★★) \n",
        "(**hint**: np.bincount | np.add.at)"
      ]
    },
    {
      "cell_type": "code",
      "execution_count": null,
      "metadata": {
        "id": "EnpDY_GomI5f",
        "colab": {
          "base_uri": "https://localhost:8080/"
        },
        "outputId": "9b4bf22e-ba7f-41cc-c30f-36a6565649ce"
      },
      "outputs": [
        {
          "output_type": "stream",
          "name": "stdout",
          "text": [
            "[2. 1. 3. 6. 3. 3. 2. 2. 4. 4.]\n",
            "[ 3.  1.  5. 11.  5.  5.  3.  3.  7.  7.]\n"
          ]
        }
      ],
      "source": [
        "Z = np.ones(10)\n",
        "I = np.random.randint(0,len(Z),20)\n",
        "Z += np.bincount(I, minlength=len(Z))\n",
        "print(Z)\n",
        "\n",
        "\n",
        "np.add.at(Z, I, 1)\n",
        "print(Z)"
      ]
    },
    {
      "cell_type": "markdown",
      "metadata": {
        "id": "-4LS6HXCmI5g"
      },
      "source": [
        "#### 65. How to accumulate elements of a vector (X) to an array (F) based on an index list (I)? (★★★) \n",
        "(**hint**: np.bincount)"
      ]
    },
    {
      "cell_type": "code",
      "execution_count": null,
      "metadata": {
        "id": "kDA4K583mI5g",
        "colab": {
          "base_uri": "https://localhost:8080/"
        },
        "outputId": "570f8a54-3cc5-4e62-a3cc-773146ed015c"
      },
      "outputs": [
        {
          "output_type": "stream",
          "name": "stdout",
          "text": [
            "[0. 7. 0. 6. 5. 0. 0. 0. 0. 3.]\n"
          ]
        }
      ],
      "source": [
        "X = [1,2,3,4,5,6]\n",
        "I = [1,3,9,3,4,1]\n",
        "F = np.bincount(I,X)\n",
        "print(F)"
      ]
    },
    {
      "cell_type": "markdown",
      "metadata": {
        "id": "usf4hnpRmI5g"
      },
      "source": [
        "#### 66. Considering a (w,h,3) image of (dtype=ubyte), compute the number of unique colors (★★★) \n",
        "(**hint**: np.unique)"
      ]
    },
    {
      "cell_type": "code",
      "execution_count": null,
      "metadata": {
        "id": "LXcv3GDNmI5g",
        "colab": {
          "base_uri": "https://localhost:8080/"
        },
        "outputId": "cbba82f8-4e3c-4539-da0c-3c3682c3d7f2"
      },
      "outputs": [
        {
          "output_type": "stream",
          "name": "stdout",
          "text": [
            "8\n"
          ]
        }
      ],
      "source": [
        "w,h = 16,16\n",
        "I = np.random.randint(0,2,(h,w,3)).astype(np.ubyte)\n",
        "\n",
        "F = I[...,0]*(256*256) + I[...,1]*256 +I[...,2]\n",
        "n = len(np.unique(F))\n",
        "print(n)"
      ]
    },
    {
      "cell_type": "markdown",
      "metadata": {
        "id": "BCwCqZ_6mI5g"
      },
      "source": [
        "#### 67. Considering a four dimensions array, how to get sum over the last two axis at once? (★★★) \n",
        "(**hint**: sum(axis=(-2,-1)))"
      ]
    },
    {
      "cell_type": "code",
      "execution_count": null,
      "metadata": {
        "id": "Ae0JJzFAmI5h",
        "colab": {
          "base_uri": "https://localhost:8080/"
        },
        "outputId": "83e79063-b1b6-43b5-c9a0-dcd51140d2a7"
      },
      "outputs": [
        {
          "output_type": "stream",
          "name": "stdout",
          "text": [
            "[[64 59 51 63]\n",
            " [44 63 52 45]\n",
            " [56 62 48 65]]\n",
            "[[64 59 51 63]\n",
            " [44 63 52 45]\n",
            " [56 62 48 65]]\n"
          ]
        }
      ],
      "source": [
        "A = np.random.randint(0,10,(3,4,3,4))\n",
        "\n",
        "sum = A.sum(axis=(-2,-1))\n",
        "print(sum)\n",
        "\n",
        "sum = A.reshape(A.shape[:-2] + (-1,)).sum(axis=-1)\n",
        "print(sum)"
      ]
    },
    {
      "cell_type": "markdown",
      "metadata": {
        "id": "DwX5d1JCmI5h"
      },
      "source": [
        "#### 68. Considering a one-dimensional vector D, how to compute means of subsets of D using a vector S of same size describing subset  indices? (★★★) \n",
        "(**hint**: np.bincount)"
      ]
    },
    {
      "cell_type": "code",
      "execution_count": null,
      "metadata": {
        "id": "V0U7D33smI5h",
        "colab": {
          "base_uri": "https://localhost:8080/"
        },
        "outputId": "c18b329c-1ada-4ccc-ecaf-f63f67fc10d3"
      },
      "outputs": [
        {
          "output_type": "stream",
          "name": "stdout",
          "text": [
            "[0.61674531 0.67683781 0.61457609 0.52752555 0.73036289 0.33134867\n",
            " 0.51966796 0.45935597 0.46509924 0.70564704]\n",
            "0    0.616745\n",
            "1    0.676838\n",
            "2    0.614576\n",
            "3    0.527526\n",
            "4    0.730363\n",
            "5    0.331349\n",
            "6    0.519668\n",
            "7    0.459356\n",
            "8    0.465099\n",
            "9    0.705647\n",
            "dtype: float64\n"
          ]
        }
      ],
      "source": [
        "D = np.random.uniform(0,1,100)\n",
        "S = np.random.randint(0,10,100)\n",
        "D_sums = np.bincount(S, weights=D)\n",
        "D_counts = np.bincount(S)\n",
        "D_means = D_sums / D_counts\n",
        "print(D_means)\n",
        "\n",
        "import pandas as pd\n",
        "print(pd.Series(D).groupby(S).mean())"
      ]
    },
    {
      "cell_type": "markdown",
      "metadata": {
        "id": "hbtpqVwMmI5h"
      },
      "source": [
        "#### 69. How to get the diagonal of a dot product? (★★★) \n",
        "(**hint**: np.diag)"
      ]
    },
    {
      "cell_type": "code",
      "execution_count": null,
      "metadata": {
        "id": "J4kJoJaomI5h",
        "colab": {
          "base_uri": "https://localhost:8080/"
        },
        "outputId": "eb58750f-be1c-496c-e6c7-9277d0bdb904"
      },
      "outputs": [
        {
          "output_type": "execute_result",
          "data": {
            "text/plain": [
              "array([1.38185045, 1.09271357, 0.8951671 , 1.18848781, 0.7497215 ])"
            ]
          },
          "metadata": {},
          "execution_count": 49
        }
      ],
      "source": [
        "A = np.random.uniform(0,1,(5,5))\n",
        "B = np.random.uniform(0,1,(5,5))\n",
        "\n",
        " \n",
        "np.diag(np.dot(A, B))\n",
        "\n"
      ]
    },
    {
      "cell_type": "markdown",
      "metadata": {
        "id": "HyZzE2gLmI5i"
      },
      "source": [
        "#### 70. Consider the vector \\[1, 2, 3, 4, 5\\], how to build a new vector with 3 consecutive zeros interleaved between each value? (★★★) \n",
        "(**hint**: array\\[::4\\])"
      ]
    },
    {
      "cell_type": "code",
      "execution_count": null,
      "metadata": {
        "id": "vqUuOSIamI5i",
        "colab": {
          "base_uri": "https://localhost:8080/"
        },
        "outputId": "77cfd84e-1e1c-4a4b-9ecb-2a55b0adfe64"
      },
      "outputs": [
        {
          "output_type": "stream",
          "name": "stdout",
          "text": [
            "[1. 0. 0. 0. 2. 0. 0. 0. 3. 0. 0. 0. 4. 0. 0. 0. 5.]\n"
          ]
        }
      ],
      "source": [
        "Z = np.array([1,2,3,4,5])\n",
        "nz = 3\n",
        "Z0 = np.zeros(len(Z) + (len(Z)-1)*(nz))\n",
        "Z0[::nz+1] = Z\n",
        "print(Z0)"
      ]
    },
    {
      "cell_type": "markdown",
      "metadata": {
        "id": "XZCX4omrmI5i"
      },
      "source": [
        "#### 71. Consider an array of dimension (5,5,3), how to mulitply it by an array with dimensions (5,5)? (★★★) \n",
        "(**hint**: array\\[:, :, None\\])"
      ]
    },
    {
      "cell_type": "code",
      "execution_count": null,
      "metadata": {
        "collapsed": true,
        "id": "_p00nf9mmI5i",
        "colab": {
          "base_uri": "https://localhost:8080/"
        },
        "outputId": "63127bcf-7cc2-41f5-bd5c-66d1efc94900"
      },
      "outputs": [
        {
          "output_type": "stream",
          "name": "stdout",
          "text": [
            "[[[2. 2. 2.]\n",
            "  [2. 2. 2.]\n",
            "  [2. 2. 2.]\n",
            "  [2. 2. 2.]\n",
            "  [2. 2. 2.]]\n",
            "\n",
            " [[2. 2. 2.]\n",
            "  [2. 2. 2.]\n",
            "  [2. 2. 2.]\n",
            "  [2. 2. 2.]\n",
            "  [2. 2. 2.]]\n",
            "\n",
            " [[2. 2. 2.]\n",
            "  [2. 2. 2.]\n",
            "  [2. 2. 2.]\n",
            "  [2. 2. 2.]\n",
            "  [2. 2. 2.]]\n",
            "\n",
            " [[2. 2. 2.]\n",
            "  [2. 2. 2.]\n",
            "  [2. 2. 2.]\n",
            "  [2. 2. 2.]\n",
            "  [2. 2. 2.]]\n",
            "\n",
            " [[2. 2. 2.]\n",
            "  [2. 2. 2.]\n",
            "  [2. 2. 2.]\n",
            "  [2. 2. 2.]\n",
            "  [2. 2. 2.]]]\n"
          ]
        }
      ],
      "source": [
        "A = np.ones((5,5,3))\n",
        "B = 2*np.ones((5,5))\n",
        "print(A * B[:,:,None])"
      ]
    },
    {
      "cell_type": "markdown",
      "metadata": {
        "id": "F2MbUTehmI5i"
      },
      "source": [
        "#### 72. How to swap two rows of an array? (★★★) \n",
        "(**hint**: array\\[\\[\\]\\] = array\\[\\[\\]\\])"
      ]
    },
    {
      "cell_type": "code",
      "execution_count": null,
      "metadata": {
        "id": "lzLhnDJ9mI5j",
        "colab": {
          "base_uri": "https://localhost:8080/"
        },
        "outputId": "ab87d5e5-2095-4134-9678-a8060323ff74"
      },
      "outputs": [
        {
          "output_type": "stream",
          "name": "stdout",
          "text": [
            "[[ 5  6  7  8  9]\n",
            " [ 0  1  2  3  4]\n",
            " [10 11 12 13 14]\n",
            " [15 16 17 18 19]\n",
            " [20 21 22 23 24]]\n"
          ]
        }
      ],
      "source": [
        "\n",
        "A = np.arange(25).reshape(5,5)\n",
        "A[[0,1]] = A[[1,0]]\n",
        "print(A)"
      ]
    },
    {
      "cell_type": "markdown",
      "metadata": {
        "id": "FMEU2PNimI5j"
      },
      "source": [
        "#### 73. Consider a set of 10 triplets describing 10 triangles (with shared vertices), find the set of unique line segments composing all the  triangles (★★★) \n",
        "(**hint**: repeat, np.roll, np.sort, view, np.unique)"
      ]
    },
    {
      "cell_type": "code",
      "execution_count": null,
      "metadata": {
        "id": "g6OD6PfxmI5j",
        "colab": {
          "base_uri": "https://localhost:8080/"
        },
        "outputId": "1b697da7-1cd3-4ce6-d4e5-fa5b7be7297c"
      },
      "outputs": [
        {
          "output_type": "stream",
          "name": "stdout",
          "text": [
            "[( 3, 63) ( 3, 98) ( 5, 16) ( 5, 34) ( 7, 26) ( 7, 70) (10, 23) (10, 70)\n",
            " (16, 34) (21, 26) (21, 49) (21, 56) (21, 70) (21, 74) (23, 70) (26, 49)\n",
            " (26, 70) (26, 74) (37, 70) (37, 80) (38, 51) (38, 93) (50, 77) (50, 98)\n",
            " (51, 93) (56, 70) (63, 98) (70, 80) (77, 98)]\n"
          ]
        }
      ],
      "source": [
        "faces = np.random.randint(0,100,(10,3))\n",
        "F = np.roll(faces.repeat(2,axis=1),-1,axis=1)\n",
        "F = F.reshape(len(F)*3,2)\n",
        "F = np.sort(F,axis=1)\n",
        "G = F.view( dtype=[('p0',F.dtype),('p1',F.dtype)] )\n",
        "G = np.unique(G)\n",
        "print(G)"
      ]
    },
    {
      "cell_type": "markdown",
      "metadata": {
        "id": "e-dwXQaPmI5k"
      },
      "source": [
        "#### 74. Given an array C that is a bincount, how to produce an array A such that np.bincount(A) == C? (★★★) \n",
        "(**hint**: np.repeat)"
      ]
    },
    {
      "cell_type": "code",
      "execution_count": null,
      "metadata": {
        "id": "HyxyCD85mI5k",
        "colab": {
          "base_uri": "https://localhost:8080/"
        },
        "outputId": "a1b8fc21-58e5-498f-ca7b-834393966efa"
      },
      "outputs": [
        {
          "output_type": "stream",
          "name": "stdout",
          "text": [
            "[1 1 2 3 4 4 6]\n"
          ]
        }
      ],
      "source": [
        "C = np.bincount([1,1,2,3,4,4,6])\n",
        "A = np.repeat(np.arange(len(C)), C)\n",
        "print(A)"
      ]
    },
    {
      "cell_type": "markdown",
      "metadata": {
        "id": "9kp6mONQmI5k"
      },
      "source": [
        "#### 75. How to compute averages using a sliding window over an array? (★★★) \n",
        "(**hint**: np.cumsum)"
      ]
    },
    {
      "cell_type": "code",
      "execution_count": null,
      "metadata": {
        "id": "t5epCZ4DmI5k",
        "colab": {
          "base_uri": "https://localhost:8080/"
        },
        "outputId": "83e0eb60-1210-440e-f31e-18edf1f5e16f"
      },
      "outputs": [
        {
          "output_type": "stream",
          "name": "stdout",
          "text": [
            "[ 1.  2.  3.  4.  5.  6.  7.  8.  9. 10. 11. 12. 13. 14. 15. 16. 17. 18.]\n"
          ]
        }
      ],
      "source": [
        "def moving_average(a, n=3) :\n",
        "    ret = np.cumsum(a, dtype=float)\n",
        "    ret[n:] = ret[n:] - ret[:-n]\n",
        "    return ret[n - 1:] / n\n",
        "Z = np.arange(20)\n",
        "print(moving_average(Z, n=3))"
      ]
    },
    {
      "cell_type": "markdown",
      "metadata": {
        "id": "nFObFch9mI5l"
      },
      "source": [
        "#### 76. Consider a one-dimensional array Z, build a two-dimensional array whose first row is (Z\\[0\\],Z\\[1\\],Z\\[2\\]) and each subsequent row is  shifted by 1 (last row should be (Z\\[-3\\],Z\\[-2\\],Z\\[-1\\]) (★★★) \n",
        "(**hint**: from numpy.lib import stride_tricks)"
      ]
    },
    {
      "cell_type": "code",
      "execution_count": null,
      "metadata": {
        "id": "IdEePkW9mI5l"
      },
      "outputs": [],
      "source": [
        "from numpy.lib import stride_tricks\n",
        "\n",
        "def rolling(a, window):\n",
        "    shape = (a.size - window + 1, window)\n",
        "    strides = (a.itemsize, a.itemsize)\n",
        "    return stride_tricks.as_strided(a, shape=shape, strides=strides)\n",
        "Z = rolling(np.arange(10), 3)\n",
        "print(Z)"
      ]
    },
    {
      "cell_type": "markdown",
      "metadata": {
        "id": "CfwdE3BimI5l"
      },
      "source": [
        "#### 77. How to negate a boolean, or to change the sign of a float inplace? (★★★) \n",
        "(**hint**: np.logical_not, np.negative)"
      ]
    },
    {
      "cell_type": "code",
      "execution_count": null,
      "metadata": {
        "id": "icM5CL7zmI5l",
        "colab": {
          "base_uri": "https://localhost:8080/"
        },
        "outputId": "37c59478-8655-4900-bb1f-c7aa597f6679"
      },
      "outputs": [
        {
          "output_type": "execute_result",
          "data": {
            "text/plain": [
              "array([-0.6610843 ,  0.60084637, -0.87567291,  0.06327674, -0.29655937,\n",
              "        0.87200184, -0.33731692,  0.50193634, -0.86659576, -0.79205338,\n",
              "        0.36170647, -0.77521011, -0.05266792, -0.60813723, -0.57690757,\n",
              "       -0.6720618 ,  0.10407844,  0.78483623,  0.31588774, -0.51801504,\n",
              "       -0.24727314, -0.66244412, -0.82576045,  0.1305342 , -0.24353237,\n",
              "        0.60978062,  0.28348897,  0.53324564,  0.90482108,  0.32502668,\n",
              "        0.54221177, -0.15874489,  0.46149729,  0.9588415 ,  0.37548793,\n",
              "       -0.61829365,  0.72255874,  0.37163587, -0.9394166 , -0.83710224,\n",
              "       -0.50851074,  0.46452138, -0.05229155,  0.76404458,  0.66479976,\n",
              "        0.52604395,  0.89168662, -0.42795472,  0.77799371,  0.07745997,\n",
              "        0.39418787,  0.3391513 ,  0.00767745, -0.53210271,  0.94081018,\n",
              "        0.06819919,  0.88310396, -0.12495801, -0.75138484, -0.79059544,\n",
              "        0.05233179, -0.2525664 ,  0.34892198, -0.3215717 ,  0.69080697,\n",
              "       -0.56996695, -0.79697566, -0.04780622,  0.1112666 ,  0.44215522,\n",
              "       -0.0309439 , -0.39809191, -0.78627197,  0.42467919,  0.98909358,\n",
              "       -0.43671702,  0.78193368, -0.40032161,  0.62819291, -0.93858961,\n",
              "        0.52474395, -0.94678876,  0.08494697,  0.25322009, -0.13057005,\n",
              "        0.15711776,  0.81422854, -0.77080093,  0.08369105, -0.35931763,\n",
              "       -0.01390973,  0.61368072,  0.30853359, -0.2205117 ,  0.48005034,\n",
              "       -0.34791312, -0.60997739, -0.53237802,  0.86639234, -0.0541237 ])"
            ]
          },
          "metadata": {},
          "execution_count": 59
        }
      ],
      "source": [
        "Z = np.random.randint(0,2,100)\n",
        "np.logical_not(Z, out=Z)\n",
        "\n",
        "Z = np.random.uniform(-1.0,1.0,100)\n",
        "np.negative(Z, out=Z)"
      ]
    },
    {
      "cell_type": "markdown",
      "metadata": {
        "id": "HoJwO8chmI5l"
      },
      "source": [
        "#### 78. Consider 2 sets of points P0,P1 describing lines (2d) and a point p, how to compute distance from p to each line i  (P0\\[i\\],P1\\[i\\])? (★★★)"
      ]
    },
    {
      "cell_type": "code",
      "execution_count": null,
      "metadata": {
        "id": "gWzgs0MAmI5m",
        "colab": {
          "base_uri": "https://localhost:8080/"
        },
        "outputId": "72b1eaab-61e9-4cb9-e607-7148b59fa73c"
      },
      "outputs": [
        {
          "output_type": "stream",
          "name": "stdout",
          "text": [
            "[ 2.37953962  3.49748513  2.99030008  2.36175466 10.50378323  0.09487183\n",
            "  1.41735046  4.17211073  4.03447106  5.25221009]\n"
          ]
        }
      ],
      "source": [
        "def distance(P0, P1, p):\n",
        "    T = P1 - P0\n",
        "    L = (T**2).sum(axis=1)\n",
        "    U = -((P0[:,0]-p[...,0])*T[:,0] + (P0[:,1]-p[...,1])*T[:,1]) / L\n",
        "    U = U.reshape(len(U),1)\n",
        "    D = P0 + U*T - p\n",
        "    return np.sqrt((D**2).sum(axis=1))\n",
        "\n",
        "P0 = np.random.uniform(-10,10,(10,2))\n",
        "P1 = np.random.uniform(-10,10,(10,2))\n",
        "p  = np.random.uniform(-10,10,( 1,2))\n",
        "print(distance(P0, P1, p))"
      ]
    },
    {
      "cell_type": "markdown",
      "metadata": {
        "id": "8QuBX65QmI5m"
      },
      "source": [
        "#### 79. Consider 2 sets of points P0,P1 describing lines (2d) and a set of points P, how to compute distance from each point j (P\\[j\\]) to each line i (P0\\[i\\],P1\\[i\\])? (★★★)"
      ]
    },
    {
      "cell_type": "code",
      "execution_count": null,
      "metadata": {
        "id": "5k3XovSlmI5m",
        "colab": {
          "base_uri": "https://localhost:8080/"
        },
        "outputId": "187975ae-11af-43b9-d38b-920f7d166e34"
      },
      "outputs": [
        {
          "output_type": "stream",
          "name": "stdout",
          "text": [
            "[[ 2.84522304  7.69307907  1.86131711  3.79111026  6.99732594 12.87866663\n",
            "  17.26514419  5.02851496  6.04858675  4.63569132]\n",
            " [15.05160949 14.70625036 15.46609216 14.87707951 21.11369105  1.45815666\n",
            "   0.68412483  7.51802589  8.62379459 13.16884245]\n",
            " [10.38079156  7.66198225 10.38272273  6.54985842  4.82322083  4.2663427\n",
            "  14.74978748 18.03667937 17.36092308 11.30840525]\n",
            " [ 0.69830253  2.62364992  0.577958    9.44018773  6.60942329  8.73971967\n",
            "   0.97410561  8.04469514  5.41208707  3.66845168]\n",
            " [ 2.90264852  2.07397303  3.74509467  9.02683589  9.59607819  4.78530632\n",
            "   1.17482965  4.54214667  2.63783527  4.64400763]\n",
            " [ 9.46559723  8.88524867 10.08096416 12.21592357 15.82368711  3.02769519\n",
            "   0.13446524  1.97380299  3.45331772  9.26994608]\n",
            " [ 4.04091548  6.54470027  3.78491156  2.17131118  9.20242058  5.76029974\n",
            "  10.30943616  3.66073459  3.52620193  0.09450104]\n",
            " [13.40858942 13.33884647 13.77116646 13.3179129  19.40328323  0.84655639\n",
            "   0.53288098  5.86123282  6.89917734 11.46117544]\n",
            " [ 5.1378493   8.98605034  4.42440077  0.23018551  9.65955534 10.11038333\n",
            "  13.8251908   2.67016635  3.27845192  1.25214679]\n",
            " [ 8.07118347  5.93747052  7.93651095  3.91293744  2.3303264   2.79124069\n",
            "  12.47928837 15.69276582 14.81974929  8.58633027]]\n"
          ]
        }
      ],
      "source": [
        "P0 = np.random.uniform(-10, 10, (10,2))\n",
        "P1 = np.random.uniform(-10,10,(10,2))\n",
        "p = np.random.uniform(-10, 10, (10,2))\n",
        "print(np.array([distance(P0,P1,p_i) for p_i in p]))"
      ]
    },
    {
      "cell_type": "markdown",
      "metadata": {
        "id": "6hVSsJtymI5m"
      },
      "source": [
        "#### 80. Consider an arbitrary array, write a function that extract a subpart with a fixed shape and centered on a given element (pad with a `fill` value when necessary) (★★★) \n",
        "(**hint**: minimum, maximum)"
      ]
    },
    {
      "cell_type": "code",
      "execution_count": null,
      "metadata": {
        "id": "1XsrYJ7MmI5m",
        "colab": {
          "base_uri": "https://localhost:8080/"
        },
        "outputId": "50f45f71-f38d-46c2-cf20-b88478e01769"
      },
      "outputs": [
        {
          "output_type": "stream",
          "name": "stdout",
          "text": [
            "[[7 2 6 7 1 5 4 2 0 7]\n",
            " [8 8 6 4 3 0 9 2 0 4]\n",
            " [9 1 4 8 4 5 3 1 6 9]\n",
            " [1 9 2 7 3 9 0 4 0 8]\n",
            " [1 6 3 5 4 0 6 7 5 2]\n",
            " [4 7 4 5 1 5 7 5 2 7]\n",
            " [1 4 0 8 6 3 6 1 6 6]\n",
            " [4 4 1 6 0 6 1 3 9 7]\n",
            " [1 4 7 2 4 8 2 2 5 9]\n",
            " [1 7 3 3 7 6 0 3 4 1]]\n",
            "[[0 0 0 0 0]\n",
            " [0 7 2 6 7]\n",
            " [0 8 8 6 4]\n",
            " [0 9 1 4 8]\n",
            " [0 1 9 2 7]]\n"
          ]
        },
        {
          "output_type": "stream",
          "name": "stderr",
          "text": [
            "/usr/local/lib/python3.7/dist-packages/ipykernel_launcher.py:23: FutureWarning: Using a non-tuple sequence for multidimensional indexing is deprecated; use `arr[tuple(seq)]` instead of `arr[seq]`. In the future this will be interpreted as an array index, `arr[np.array(seq)]`, which will result either in an error or a different result.\n"
          ]
        }
      ],
      "source": [
        "Z = np.random.randint(0,10,(10,10))\n",
        "shape = (5,5)\n",
        "fill  = 0\n",
        "position = (1,1)\n",
        "\n",
        "R = np.ones(shape, dtype=Z.dtype)*fill\n",
        "P  = np.array(list(position)).astype(int)\n",
        "Rs = np.array(list(R.shape)).astype(int)\n",
        "Zs = np.array(list(Z.shape)).astype(int)\n",
        "\n",
        "R_start = np.zeros((len(shape),)).astype(int)\n",
        "R_stop  = np.array(list(shape)).astype(int)\n",
        "Z_start = (P-Rs//2)\n",
        "Z_stop  = (P+Rs//2)+Rs%2\n",
        "\n",
        "R_start = (R_start - np.minimum(Z_start,0)).tolist()\n",
        "Z_start = (np.maximum(Z_start,0)).tolist()\n",
        "R_stop = np.maximum(R_start, (R_stop - np.maximum(Z_stop-Zs,0))).tolist()\n",
        "Z_stop = (np.minimum(Z_stop,Zs)).tolist()\n",
        "\n",
        "r = [slice(start,stop) for start,stop in zip(R_start,R_stop)]\n",
        "z = [slice(start,stop) for start,stop in zip(Z_start,Z_stop)]\n",
        "R[r] = Z[z]\n",
        "print(Z)\n",
        "print(R)"
      ]
    },
    {
      "cell_type": "markdown",
      "metadata": {
        "id": "2hqC0h8vmI5n"
      },
      "source": [
        "#### 81. Consider an array Z = \\[1,2,3,4,5,6,7,8,9,10,11,12,13,14\\], how to generate an array R = \\[\\[1,2,3,4\\], \\[2,3,4,5\\], \\[3,4,5,6\\], ..., \\[11,12,13,14\\]\\]? (★★★) \n",
        "(**hint**: stride\\_tricks.as\\_strided)"
      ]
    },
    {
      "cell_type": "code",
      "execution_count": null,
      "metadata": {
        "id": "HArdmklUmI5n",
        "colab": {
          "base_uri": "https://localhost:8080/"
        },
        "outputId": "f75c9b0f-6c96-48bd-d999-e4d2e96a4951"
      },
      "outputs": [
        {
          "output_type": "stream",
          "name": "stdout",
          "text": [
            "[[ 1  2  3  4]\n",
            " [ 2  3  4  5]\n",
            " [ 3  4  5  6]\n",
            " [ 4  5  6  7]\n",
            " [ 5  6  7  8]\n",
            " [ 6  7  8  9]\n",
            " [ 7  8  9 10]\n",
            " [ 8  9 10 11]\n",
            " [ 9 10 11 12]\n",
            " [10 11 12 13]\n",
            " [11 12 13 14]]\n"
          ]
        }
      ],
      "source": [
        "Z = np.arange(1,15,dtype=np.uint32)\n",
        "R = stride_tricks.as_strided(Z,(11,4),(4,4))\n",
        "print(R)"
      ]
    },
    {
      "cell_type": "markdown",
      "metadata": {
        "id": "cmDyVsl4mI5n"
      },
      "source": [
        "#### 82. Compute a matrix rank (★★★) \n",
        "(**hint**: np.linalg.svd) (suggestion: np.linalg.svd)"
      ]
    },
    {
      "cell_type": "code",
      "execution_count": null,
      "metadata": {
        "id": "5RvqpbfCmI5n",
        "colab": {
          "base_uri": "https://localhost:8080/"
        },
        "outputId": "850389ae-9da1-4599-a09a-1092c59ff068"
      },
      "outputs": [
        {
          "output_type": "stream",
          "name": "stdout",
          "text": [
            "10\n"
          ]
        }
      ],
      "source": [
        "Z = np.random.uniform(0,1,(10,10))\n",
        "U, S, V = np.linalg.svd(Z) # Singular Value Decomposition\n",
        "rank = np.sum(S > 1e-10)\n",
        "print(rank)"
      ]
    },
    {
      "cell_type": "markdown",
      "metadata": {
        "id": "YPyMe_8umI5o"
      },
      "source": [
        "#### 83. How to find the most frequent value in an array? \n",
        "(**hint**: np.bincount, argmax)"
      ]
    },
    {
      "cell_type": "code",
      "execution_count": null,
      "metadata": {
        "id": "iRiWBUR6mI5o",
        "colab": {
          "base_uri": "https://localhost:8080/"
        },
        "outputId": "044ff46a-ebe9-4904-a9bf-afe63e8efc00"
      },
      "outputs": [
        {
          "output_type": "stream",
          "name": "stdout",
          "text": [
            "4\n"
          ]
        }
      ],
      "source": [
        "Z = np.random.randint(0,10,50)\n",
        "print(np.bincount(Z).argmax())"
      ]
    },
    {
      "cell_type": "markdown",
      "metadata": {
        "id": "dU0M8GpVmI5o"
      },
      "source": [
        "#### 84. Extract all the contiguous 3x3 blocks from a random 10x10 matrix (★★★) \n",
        "(**hint**: stride\\_tricks.as\\_strided)"
      ]
    },
    {
      "cell_type": "code",
      "execution_count": null,
      "metadata": {
        "id": "TTk7OC2RmI5o",
        "colab": {
          "base_uri": "https://localhost:8080/"
        },
        "outputId": "3c8ad817-bf5c-4eab-d08e-ebb108a5db73"
      },
      "outputs": [
        {
          "output_type": "stream",
          "name": "stdout",
          "text": [
            "[[[[1 1 4]\n",
            "   [2 1 1]\n",
            "   [0 1 3]]\n",
            "\n",
            "  [[1 4 4]\n",
            "   [1 1 2]\n",
            "   [1 3 1]]\n",
            "\n",
            "  [[4 4 2]\n",
            "   [1 2 0]\n",
            "   [3 1 1]]\n",
            "\n",
            "  [[4 2 1]\n",
            "   [2 0 0]\n",
            "   [1 1 3]]\n",
            "\n",
            "  [[2 1 4]\n",
            "   [0 0 2]\n",
            "   [1 3 0]]\n",
            "\n",
            "  [[1 4 3]\n",
            "   [0 2 0]\n",
            "   [3 0 2]]\n",
            "\n",
            "  [[4 3 1]\n",
            "   [2 0 2]\n",
            "   [0 2 3]]\n",
            "\n",
            "  [[3 1 4]\n",
            "   [0 2 1]\n",
            "   [2 3 3]]]\n",
            "\n",
            "\n",
            " [[[2 1 1]\n",
            "   [0 1 3]\n",
            "   [1 4 4]]\n",
            "\n",
            "  [[1 1 2]\n",
            "   [1 3 1]\n",
            "   [4 4 2]]\n",
            "\n",
            "  [[1 2 0]\n",
            "   [3 1 1]\n",
            "   [4 2 0]]\n",
            "\n",
            "  [[2 0 0]\n",
            "   [1 1 3]\n",
            "   [2 0 1]]\n",
            "\n",
            "  [[0 0 2]\n",
            "   [1 3 0]\n",
            "   [0 1 1]]\n",
            "\n",
            "  [[0 2 0]\n",
            "   [3 0 2]\n",
            "   [1 1 1]]\n",
            "\n",
            "  [[2 0 2]\n",
            "   [0 2 3]\n",
            "   [1 1 3]]\n",
            "\n",
            "  [[0 2 1]\n",
            "   [2 3 3]\n",
            "   [1 3 3]]]\n",
            "\n",
            "\n",
            " [[[0 1 3]\n",
            "   [1 4 4]\n",
            "   [2 4 1]]\n",
            "\n",
            "  [[1 3 1]\n",
            "   [4 4 2]\n",
            "   [4 1 2]]\n",
            "\n",
            "  [[3 1 1]\n",
            "   [4 2 0]\n",
            "   [1 2 2]]\n",
            "\n",
            "  [[1 1 3]\n",
            "   [2 0 1]\n",
            "   [2 2 2]]\n",
            "\n",
            "  [[1 3 0]\n",
            "   [0 1 1]\n",
            "   [2 2 2]]\n",
            "\n",
            "  [[3 0 2]\n",
            "   [1 1 1]\n",
            "   [2 2 4]]\n",
            "\n",
            "  [[0 2 3]\n",
            "   [1 1 3]\n",
            "   [2 4 2]]\n",
            "\n",
            "  [[2 3 3]\n",
            "   [1 3 3]\n",
            "   [4 2 2]]]\n",
            "\n",
            "\n",
            " [[[1 4 4]\n",
            "   [2 4 1]\n",
            "   [4 3 2]]\n",
            "\n",
            "  [[4 4 2]\n",
            "   [4 1 2]\n",
            "   [3 2 1]]\n",
            "\n",
            "  [[4 2 0]\n",
            "   [1 2 2]\n",
            "   [2 1 0]]\n",
            "\n",
            "  [[2 0 1]\n",
            "   [2 2 2]\n",
            "   [1 0 2]]\n",
            "\n",
            "  [[0 1 1]\n",
            "   [2 2 2]\n",
            "   [0 2 0]]\n",
            "\n",
            "  [[1 1 1]\n",
            "   [2 2 4]\n",
            "   [2 0 1]]\n",
            "\n",
            "  [[1 1 3]\n",
            "   [2 4 2]\n",
            "   [0 1 4]]\n",
            "\n",
            "  [[1 3 3]\n",
            "   [4 2 2]\n",
            "   [1 4 1]]]\n",
            "\n",
            "\n",
            " [[[2 4 1]\n",
            "   [4 3 2]\n",
            "   [3 0 2]]\n",
            "\n",
            "  [[4 1 2]\n",
            "   [3 2 1]\n",
            "   [0 2 4]]\n",
            "\n",
            "  [[1 2 2]\n",
            "   [2 1 0]\n",
            "   [2 4 4]]\n",
            "\n",
            "  [[2 2 2]\n",
            "   [1 0 2]\n",
            "   [4 4 1]]\n",
            "\n",
            "  [[2 2 2]\n",
            "   [0 2 0]\n",
            "   [4 1 1]]\n",
            "\n",
            "  [[2 2 4]\n",
            "   [2 0 1]\n",
            "   [1 1 4]]\n",
            "\n",
            "  [[2 4 2]\n",
            "   [0 1 4]\n",
            "   [1 4 1]]\n",
            "\n",
            "  [[4 2 2]\n",
            "   [1 4 1]\n",
            "   [4 1 1]]]\n",
            "\n",
            "\n",
            " [[[4 3 2]\n",
            "   [3 0 2]\n",
            "   [1 4 1]]\n",
            "\n",
            "  [[3 2 1]\n",
            "   [0 2 4]\n",
            "   [4 1 1]]\n",
            "\n",
            "  [[2 1 0]\n",
            "   [2 4 4]\n",
            "   [1 1 4]]\n",
            "\n",
            "  [[1 0 2]\n",
            "   [4 4 1]\n",
            "   [1 4 2]]\n",
            "\n",
            "  [[0 2 0]\n",
            "   [4 1 1]\n",
            "   [4 2 1]]\n",
            "\n",
            "  [[2 0 1]\n",
            "   [1 1 4]\n",
            "   [2 1 2]]\n",
            "\n",
            "  [[0 1 4]\n",
            "   [1 4 1]\n",
            "   [1 2 3]]\n",
            "\n",
            "  [[1 4 1]\n",
            "   [4 1 1]\n",
            "   [2 3 3]]]\n",
            "\n",
            "\n",
            " [[[3 0 2]\n",
            "   [1 4 1]\n",
            "   [4 0 2]]\n",
            "\n",
            "  [[0 2 4]\n",
            "   [4 1 1]\n",
            "   [0 2 0]]\n",
            "\n",
            "  [[2 4 4]\n",
            "   [1 1 4]\n",
            "   [2 0 2]]\n",
            "\n",
            "  [[4 4 1]\n",
            "   [1 4 2]\n",
            "   [0 2 0]]\n",
            "\n",
            "  [[4 1 1]\n",
            "   [4 2 1]\n",
            "   [2 0 3]]\n",
            "\n",
            "  [[1 1 4]\n",
            "   [2 1 2]\n",
            "   [0 3 4]]\n",
            "\n",
            "  [[1 4 1]\n",
            "   [1 2 3]\n",
            "   [3 4 0]]\n",
            "\n",
            "  [[4 1 1]\n",
            "   [2 3 3]\n",
            "   [4 0 1]]]\n",
            "\n",
            "\n",
            " [[[1 4 1]\n",
            "   [4 0 2]\n",
            "   [1 3 1]]\n",
            "\n",
            "  [[4 1 1]\n",
            "   [0 2 0]\n",
            "   [3 1 2]]\n",
            "\n",
            "  [[1 1 4]\n",
            "   [2 0 2]\n",
            "   [1 2 1]]\n",
            "\n",
            "  [[1 4 2]\n",
            "   [0 2 0]\n",
            "   [2 1 3]]\n",
            "\n",
            "  [[4 2 1]\n",
            "   [2 0 3]\n",
            "   [1 3 4]]\n",
            "\n",
            "  [[2 1 2]\n",
            "   [0 3 4]\n",
            "   [3 4 4]]\n",
            "\n",
            "  [[1 2 3]\n",
            "   [3 4 0]\n",
            "   [4 4 1]]\n",
            "\n",
            "  [[2 3 3]\n",
            "   [4 0 1]\n",
            "   [4 1 0]]]]\n"
          ]
        }
      ],
      "source": [
        "Z = np.random.randint(0,5,(10,10))\n",
        "n = 3\n",
        "i = 1 + (Z.shape[0]-3)\n",
        "j = 1 + (Z.shape[1]-3)\n",
        "C = stride_tricks.as_strided(Z, shape=(i, j, n, n), strides=Z.strides + Z.strides)\n",
        "print(C)"
      ]
    },
    {
      "cell_type": "markdown",
      "metadata": {
        "id": "91UFJnCZmI5o"
      },
      "source": [
        "#### 85. Create a 2D array subclass such that Z\\[i,j\\] == Z\\[j,i\\] (★★★) \n",
        "(**hint**: class method)"
      ]
    },
    {
      "cell_type": "code",
      "execution_count": null,
      "metadata": {
        "id": "gsXzxeL1mI5p",
        "colab": {
          "base_uri": "https://localhost:8080/"
        },
        "outputId": "4a1a9ce3-76c6-4fa6-852b-2ff9573e8e02"
      },
      "outputs": [
        {
          "output_type": "stream",
          "name": "stdout",
          "text": [
            "[[ 6  6  7  2 12]\n",
            " [ 6  4  7  6 11]\n",
            " [ 7  7  7 42 11]\n",
            " [ 2  6 42  3  9]\n",
            " [12 11 11  9  4]]\n"
          ]
        }
      ],
      "source": [
        "class Symetric(np.ndarray):\n",
        "    def __setitem__(self, index, value):\n",
        "        i,j = index\n",
        "        super(Symetric, self).__setitem__((i,j), value)\n",
        "        super(Symetric, self).__setitem__((j,i), value)\n",
        "\n",
        "def symetric(Z):\n",
        "    return np.asarray(Z + Z.T - np.diag(Z.diagonal())).view(Symetric)\n",
        "\n",
        "S = symetric(np.random.randint(0,10,(5,5)))\n",
        "S[2,3] = 42\n",
        "print(S)"
      ]
    },
    {
      "cell_type": "markdown",
      "metadata": {
        "id": "HjmTNXbYmI5p"
      },
      "source": [
        "#### 86. Consider a set of p matrices wich shape (n,n) and a set of p vectors with shape (n,1). How to compute the sum of of the p matrix products at once? (result has shape (n,1)) (★★★) \n",
        "(**hint**: np.tensordot)"
      ]
    },
    {
      "cell_type": "code",
      "execution_count": null,
      "metadata": {
        "id": "iJULc7RqmI5p",
        "colab": {
          "base_uri": "https://localhost:8080/"
        },
        "outputId": "ff742cba-a5d0-41d4-abaa-32525053182e"
      },
      "outputs": [
        {
          "output_type": "stream",
          "name": "stdout",
          "text": [
            "[[200.]\n",
            " [200.]\n",
            " [200.]\n",
            " [200.]\n",
            " [200.]\n",
            " [200.]\n",
            " [200.]\n",
            " [200.]\n",
            " [200.]\n",
            " [200.]\n",
            " [200.]\n",
            " [200.]\n",
            " [200.]\n",
            " [200.]\n",
            " [200.]\n",
            " [200.]\n",
            " [200.]\n",
            " [200.]\n",
            " [200.]\n",
            " [200.]]\n"
          ]
        }
      ],
      "source": [
        "p, n = 10, 20\n",
        "M = np.ones((p,n,n))\n",
        "V = np.ones((p,n,1))\n",
        "S = np.tensordot(M, V, axes=[[0, 2], [0, 1]])\n",
        "print(S)"
      ]
    },
    {
      "cell_type": "markdown",
      "metadata": {
        "id": "QJXb4EkYmI5p"
      },
      "source": [
        "#### 87. Consider a 16x16 array, how to get the block-sum (block size is 4x4)? (★★★) \n",
        "(**hint**: np.add.reduceat)"
      ]
    },
    {
      "cell_type": "code",
      "execution_count": null,
      "metadata": {
        "id": "X69RJSkamI5p",
        "colab": {
          "base_uri": "https://localhost:8080/"
        },
        "outputId": "6599faed-2a1e-41ec-a191-0f618ed0b582"
      },
      "outputs": [
        {
          "output_type": "stream",
          "name": "stdout",
          "text": [
            "[[16. 16. 16. 16.]\n",
            " [16. 16. 16. 16.]\n",
            " [16. 16. 16. 16.]\n",
            " [16. 16. 16. 16.]]\n"
          ]
        }
      ],
      "source": [
        "Z = np.ones((16,16))\n",
        "k = 4\n",
        "S = np.add.reduceat(np.add.reduceat(Z, np.arange(0, Z.shape[0], k), axis=0),\n",
        "                                       np.arange(0, Z.shape[1], k), axis=1)\n",
        "print(S)\n"
      ]
    },
    {
      "cell_type": "markdown",
      "metadata": {
        "id": "pekCeTn5mI5q"
      },
      "source": [
        "#### 88. How to implement the Game of Life using numpy arrays? (★★★)"
      ]
    },
    {
      "cell_type": "code",
      "execution_count": null,
      "metadata": {
        "id": "X11gypyAmI5q",
        "colab": {
          "base_uri": "https://localhost:8080/"
        },
        "outputId": "fb18f4e7-c389-44ac-99df-b40e672595b9"
      },
      "outputs": [
        {
          "output_type": "stream",
          "name": "stdout",
          "text": [
            "[[0 0 0 0 0 0 0 0 0 0 0 0 0 0 0 0 0 0 0 0 0 0 0 0 0 0 0 0 0 0 0 0 0 0 0 0\n",
            "  0 0 0 0 0 0 0 0 0 0 0 0 0 0]\n",
            " [0 0 0 0 0 0 1 1 0 0 0 0 0 0 0 0 0 0 0 0 0 0 0 0 0 0 0 0 0 0 0 0 0 0 0 0\n",
            "  0 0 0 0 0 0 0 0 0 0 0 0 0 0]\n",
            " [0 0 0 0 0 1 0 0 1 0 0 0 0 0 0 0 0 0 0 0 0 0 0 0 0 0 0 0 0 0 0 0 0 0 0 0\n",
            "  0 0 0 0 0 0 0 0 0 0 0 0 0 0]\n",
            " [0 0 0 0 0 0 1 0 1 0 0 0 0 0 0 0 0 0 0 0 0 0 0 0 0 0 0 0 0 0 0 0 0 0 0 0\n",
            "  0 0 0 0 0 0 1 0 0 0 0 0 0 0]\n",
            " [0 0 0 0 0 0 0 1 0 0 0 0 0 0 0 0 0 0 0 0 0 0 0 0 0 0 0 0 0 0 0 0 0 0 0 0\n",
            "  0 0 0 0 0 0 1 0 0 0 0 0 0 0]\n",
            " [0 0 0 0 0 0 0 0 0 0 0 0 0 0 0 0 0 0 0 0 0 0 0 0 0 0 0 0 0 0 0 0 0 0 0 0\n",
            "  0 0 0 0 0 0 1 0 0 0 0 0 0 0]\n",
            " [0 0 0 0 0 0 0 0 0 0 0 0 0 0 0 0 0 0 0 0 0 0 0 0 0 0 0 0 0 0 0 0 0 0 0 0\n",
            "  0 0 0 0 0 0 0 0 0 0 0 0 0 0]\n",
            " [0 0 0 0 0 0 0 0 0 0 0 0 0 0 0 0 0 0 0 0 0 0 0 0 0 0 0 0 0 0 0 0 0 0 0 0\n",
            "  0 0 1 1 1 0 0 0 1 1 1 0 0 0]\n",
            " [0 0 0 0 0 0 0 0 0 0 0 0 0 0 0 0 0 0 0 0 0 0 0 0 0 0 0 0 0 0 0 0 0 0 0 0\n",
            "  0 0 0 0 0 0 0 0 0 0 0 0 0 0]\n",
            " [0 0 0 0 0 0 0 0 0 0 0 0 0 0 0 0 0 0 0 0 0 0 0 0 0 0 0 0 0 0 0 0 0 0 0 0\n",
            "  0 0 0 0 0 0 1 0 0 0 0 0 0 0]\n",
            " [0 0 0 0 0 0 0 0 0 0 0 0 0 0 0 0 0 0 0 0 0 0 0 0 0 0 0 0 0 0 0 0 0 0 0 0\n",
            "  0 0 0 0 0 0 1 0 0 0 0 0 0 0]\n",
            " [0 0 0 0 0 0 0 0 0 0 0 0 0 0 0 0 0 0 0 0 0 0 0 0 0 0 0 0 0 0 0 0 0 0 0 0\n",
            "  0 0 0 0 0 0 1 0 0 0 0 0 0 0]\n",
            " [0 0 0 0 0 0 0 0 0 0 0 0 0 0 0 0 0 0 0 0 0 0 1 1 0 0 0 0 0 0 0 0 0 0 0 0\n",
            "  0 0 0 0 0 0 0 0 0 0 0 0 0 0]\n",
            " [0 0 0 0 0 0 0 0 0 0 0 0 0 0 0 0 0 0 0 0 0 0 1 1 0 0 0 0 0 0 0 0 0 0 0 0\n",
            "  0 0 0 0 0 0 0 0 0 0 0 0 0 0]\n",
            " [0 0 0 0 0 0 0 0 0 0 0 0 0 0 0 0 0 0 0 0 0 0 0 0 0 0 0 0 0 0 0 0 0 0 0 0\n",
            "  0 0 0 0 0 0 0 0 0 0 0 0 0 0]\n",
            " [0 0 0 0 0 0 0 0 0 0 0 0 0 0 0 0 0 0 0 0 0 0 0 0 0 0 0 0 0 0 0 0 0 0 0 0\n",
            "  0 0 0 0 0 0 0 0 0 0 0 0 0 0]\n",
            " [0 0 0 0 0 0 0 0 0 0 0 0 0 0 1 0 0 0 0 1 1 0 0 0 0 0 0 0 0 0 0 0 0 0 0 0\n",
            "  0 0 0 0 0 0 0 0 0 0 0 0 0 0]\n",
            " [0 0 0 0 0 0 0 0 0 0 0 0 0 0 1 0 0 1 0 0 0 0 0 0 0 0 0 0 0 0 0 0 0 0 0 0\n",
            "  0 0 0 0 0 0 0 0 0 0 0 0 0 0]\n",
            " [0 0 0 0 0 0 0 0 0 0 0 0 0 0 0 1 0 1 1 0 0 0 0 0 0 0 0 0 0 0 0 0 0 0 0 0\n",
            "  0 0 0 0 0 0 0 0 0 0 0 0 0 0]\n",
            " [0 0 0 0 0 0 0 0 0 0 0 0 0 0 0 0 0 0 1 0 0 0 0 0 0 0 0 0 0 0 0 0 0 0 0 0\n",
            "  0 0 0 0 0 0 0 0 0 0 0 0 0 0]\n",
            " [0 0 0 0 0 0 0 0 0 0 0 0 0 0 0 0 0 0 0 0 0 0 0 0 0 0 0 0 0 0 0 0 0 0 0 0\n",
            "  0 0 0 0 0 0 0 0 0 0 0 0 0 0]\n",
            " [0 0 0 0 0 0 0 0 0 0 0 0 0 0 0 0 0 0 0 0 0 0 0 0 0 0 0 0 0 0 0 0 0 0 0 0\n",
            "  0 0 0 0 0 0 0 0 0 0 0 0 0 0]\n",
            " [0 0 0 0 0 0 0 0 0 0 0 0 0 0 0 0 0 0 0 0 0 0 0 0 0 0 0 0 0 0 0 0 0 0 0 0\n",
            "  0 0 0 0 0 0 0 0 0 0 0 0 0 0]\n",
            " [0 0 0 0 0 0 0 0 0 0 0 0 0 0 0 0 0 0 0 0 0 0 0 0 0 0 0 0 0 0 0 0 0 0 0 0\n",
            "  0 0 0 0 0 0 0 0 0 0 0 0 0 0]\n",
            " [0 0 0 0 0 0 0 0 0 0 0 0 0 0 0 0 0 0 0 0 0 0 0 0 0 0 0 0 0 0 0 0 0 0 0 0\n",
            "  0 0 0 0 0 0 0 0 0 0 0 0 0 0]\n",
            " [0 0 0 0 0 0 0 0 0 0 0 0 0 0 0 0 0 0 0 0 1 1 0 0 0 0 0 0 0 0 0 0 0 0 0 0\n",
            "  0 0 0 0 1 0 0 0 0 0 0 0 0 0]\n",
            " [0 0 0 0 0 0 0 0 0 0 0 0 0 0 0 0 0 0 0 0 1 1 0 0 0 0 0 0 0 0 0 0 0 0 0 0\n",
            "  0 0 0 0 0 1 0 0 0 0 0 0 0 0]\n",
            " [0 0 0 0 0 0 0 0 0 0 0 0 0 0 0 0 0 0 0 0 0 0 0 0 0 0 0 0 0 0 0 0 0 0 0 0\n",
            "  0 0 0 0 1 0 0 0 0 0 0 0 0 0]\n",
            " [0 0 0 0 0 0 0 0 0 0 0 0 0 0 0 0 0 0 0 0 0 0 0 0 0 0 0 0 0 0 0 0 0 0 0 0\n",
            "  0 0 0 0 0 0 0 0 0 1 0 0 0 0]\n",
            " [0 1 1 0 0 0 0 0 0 0 0 0 0 0 0 0 1 0 0 0 0 0 0 0 0 0 0 0 0 0 0 0 0 0 0 0\n",
            "  0 0 0 0 0 0 0 0 1 0 1 0 0 0]\n",
            " [0 1 1 0 0 0 0 0 0 0 0 0 0 0 0 1 0 1 0 0 0 1 1 0 0 0 0 0 0 0 0 0 0 0 0 0\n",
            "  0 0 0 0 0 0 0 0 0 1 0 0 0 0]\n",
            " [0 0 0 0 0 0 0 0 0 0 0 0 0 0 0 0 0 0 0 0 1 1 0 0 0 0 0 0 0 0 0 0 0 1 0 0\n",
            "  0 0 0 0 0 0 0 0 0 0 0 0 0 0]\n",
            " [0 0 0 0 0 0 0 0 0 0 0 0 0 0 0 1 0 0 1 0 0 0 0 1 0 1 0 0 0 0 0 0 1 0 1 0\n",
            "  0 0 0 0 0 0 0 0 0 0 0 0 0 0]\n",
            " [0 0 0 0 0 0 0 0 0 0 0 0 0 0 0 0 1 1 1 0 0 1 0 1 1 0 0 0 0 0 0 0 1 1 0 0\n",
            "  0 0 0 0 0 0 0 0 0 0 0 0 0 0]\n",
            " [0 0 1 1 0 0 0 0 0 0 0 0 0 0 0 0 0 0 0 0 1 0 0 0 0 0 0 0 0 0 0 0 0 0 0 0\n",
            "  0 0 0 0 0 0 0 0 0 0 0 0 0 0]\n",
            " [0 0 1 1 0 0 0 0 0 0 0 0 0 0 0 0 0 1 1 0 1 0 0 1 0 0 0 0 0 0 0 0 0 0 0 0\n",
            "  0 0 0 0 0 0 0 0 0 0 0 0 0 0]\n",
            " [0 0 0 0 0 0 0 0 0 0 0 0 0 0 0 0 1 0 1 1 0 1 1 0 0 0 0 0 0 0 0 0 0 0 0 0\n",
            "  1 1 0 0 0 1 0 0 0 0 0 0 0 0]\n",
            " [0 0 0 0 0 0 0 0 0 0 0 0 0 0 0 0 1 1 1 0 0 0 0 0 0 0 0 0 0 1 0 0 0 0 0 0\n",
            "  0 0 0 0 0 0 0 0 1 1 0 0 0 0]\n",
            " [0 0 0 0 0 0 0 0 0 0 0 0 0 0 0 0 0 0 0 0 0 1 1 1 0 0 0 0 1 0 0 1 0 0 0 0\n",
            "  0 1 0 0 0 0 0 0 0 1 0 0 0 0]\n",
            " [0 0 0 0 0 0 0 0 0 0 0 0 0 0 0 0 0 0 0 0 0 0 0 1 0 0 0 0 0 0 0 0 0 0 0 0\n",
            "  0 0 1 1 0 1 1 0 0 0 0 0 0 0]\n",
            " [0 0 0 0 0 0 0 0 0 0 0 0 0 0 0 0 0 0 0 0 0 0 1 1 0 0 1 0 0 0 0 0 0 1 0 1\n",
            "  0 0 0 0 0 1 0 0 0 0 0 0 0 0]\n",
            " [0 0 0 0 0 0 0 0 0 0 0 0 0 0 0 0 0 0 1 1 1 0 0 0 0 0 1 1 0 0 0 0 0 0 0 0\n",
            "  0 0 0 0 0 1 1 1 0 0 0 0 0 0]\n",
            " [0 0 0 0 0 0 0 0 0 0 0 0 0 0 0 0 0 0 0 0 1 1 1 1 0 0 0 0 0 0 0 1 0 0 0 0\n",
            "  0 0 0 0 1 0 1 0 0 0 0 0 0 0]\n",
            " [0 0 0 0 0 0 0 0 0 0 0 0 0 0 0 0 0 0 0 0 1 0 0 0 0 0 1 0 0 0 0 0 0 0 0 1\n",
            "  0 0 0 1 0 0 1 1 0 0 0 0 0 0]\n",
            " [0 0 0 0 0 0 0 0 0 0 0 0 0 0 0 0 0 0 0 0 1 1 1 0 1 0 1 0 0 0 0 0 0 0 0 0\n",
            "  0 0 0 0 0 0 1 1 0 0 0 0 0 0]\n",
            " [0 0 0 0 0 0 0 0 0 0 0 0 0 0 0 0 0 0 1 1 1 0 1 0 1 0 0 0 0 0 0 0 0 1 1 0\n",
            "  0 0 0 1 1 0 0 0 1 0 0 0 0 0]\n",
            " [0 0 0 0 0 0 0 0 0 0 0 0 0 0 0 0 0 0 1 1 0 0 0 1 0 0 0 0 1 0 0 0 0 0 0 0\n",
            "  0 0 0 1 1 1 0 0 0 1 0 0 0 0]\n",
            " [0 0 0 0 0 0 0 0 0 0 0 0 0 0 0 0 0 0 0 0 0 0 0 1 1 1 0 0 0 0 1 0 0 0 0 0\n",
            "  0 1 1 0 1 1 0 0 1 0 0 0 0 0]\n",
            " [0 0 0 0 0 0 0 0 0 0 0 0 0 0 0 0 0 0 0 0 0 0 0 0 0 0 0 0 0 0 0 0 0 0 0 0\n",
            "  0 0 0 1 0 0 0 0 0 0 0 0 0 0]\n",
            " [0 0 0 0 0 0 0 0 0 0 0 0 0 0 0 0 0 0 0 0 0 0 0 0 0 0 0 0 0 0 0 0 0 0 0 0\n",
            "  0 0 0 0 0 0 0 0 0 0 0 0 0 0]]\n"
          ]
        }
      ],
      "source": [
        "def iterate(Z):\n",
        "    # Count neighbours\n",
        "    N = (Z[0:-2,0:-2] + Z[0:-2,1:-1] + Z[0:-2,2:] +\n",
        "         Z[1:-1,0:-2]                + Z[1:-1,2:] +\n",
        "         Z[2:  ,0:-2] + Z[2:  ,1:-1] + Z[2:  ,2:])\n",
        "\n",
        "    # Apply rules\n",
        "    birth = (N==3) & (Z[1:-1,1:-1]==0)\n",
        "    survive = ((N==2) | (N==3)) & (Z[1:-1,1:-1]==1)\n",
        "    Z[...] = 0\n",
        "    Z[1:-1,1:-1][birth | survive] = 1\n",
        "    return Z\n",
        "\n",
        "Z = np.random.randint(0,2,(50,50))\n",
        "for i in range(100): Z = iterate(Z)\n",
        "print(Z)"
      ]
    },
    {
      "cell_type": "markdown",
      "metadata": {
        "id": "vbYuef2DmI5q"
      },
      "source": [
        "#### 89. How to get the n largest values of an array (★★★) \n",
        "(**hint**: np.argsort | np.argpartition)"
      ]
    },
    {
      "cell_type": "code",
      "execution_count": null,
      "metadata": {
        "id": "IAzI-FxSmI5q",
        "colab": {
          "base_uri": "https://localhost:8080/"
        },
        "outputId": "41a1cfcf-739e-455d-de29-b811783b654d"
      },
      "outputs": [
        {
          "output_type": "stream",
          "name": "stdout",
          "text": [
            "[9995 9996 9997 9998 9999]\n",
            "[9998 9999 9997 9996 9995]\n"
          ]
        }
      ],
      "source": [
        "Z = np.arange(10000)\n",
        "np.random.shuffle(Z)\n",
        "n = 5\n",
        "\n",
        "\n",
        "print (Z[np.argsort(Z)[-n:]])\n",
        "print (Z[np.argpartition(-Z,n)[:n]])"
      ]
    },
    {
      "cell_type": "markdown",
      "metadata": {
        "id": "p91RLUm8mI5r"
      },
      "source": [
        "#### 90. Given an arbitrary number of vectors, build the cartesian product (every combinations of every item) (★★★) \n",
        "(**hint**: np.indices)"
      ]
    },
    {
      "cell_type": "code",
      "execution_count": null,
      "metadata": {
        "scrolled": true,
        "id": "FrKlMdnjmI5r",
        "colab": {
          "base_uri": "https://localhost:8080/"
        },
        "outputId": "1fdabe02-5d47-438c-9f2d-9045a3c71122"
      },
      "outputs": [
        {
          "output_type": "stream",
          "name": "stdout",
          "text": [
            "[[1 4 6]\n",
            " [1 4 7]\n",
            " [1 5 6]\n",
            " [1 5 7]\n",
            " [2 4 6]\n",
            " [2 4 7]\n",
            " [2 5 6]\n",
            " [2 5 7]\n",
            " [3 4 6]\n",
            " [3 4 7]\n",
            " [3 5 6]\n",
            " [3 5 7]]\n"
          ]
        }
      ],
      "source": [
        "def cartesian(arrays):\n",
        "    arrays = [np.asarray(a) for a in arrays]\n",
        "    shape = (len(x) for x in arrays)\n",
        "\n",
        "    ix = np.indices(shape, dtype=int)\n",
        "    ix = ix.reshape(len(arrays), -1).T\n",
        "\n",
        "    for n, arr in enumerate(arrays):\n",
        "        ix[:, n] = arrays[n][ix[:, n]]\n",
        "\n",
        "    return ix\n",
        "\n",
        "print (cartesian(([1, 2, 3], [4, 5], [6, 7])))\n"
      ]
    },
    {
      "cell_type": "markdown",
      "metadata": {
        "id": "OQOE8e97mI5r"
      },
      "source": [
        "#### 91. How to create a record array from a regular array? (★★★) \n",
        "(**hint**: np.core.records.fromarrays)"
      ]
    },
    {
      "cell_type": "code",
      "execution_count": null,
      "metadata": {
        "id": "yxQpP_UCmI5r",
        "colab": {
          "base_uri": "https://localhost:8080/"
        },
        "outputId": "30ecdab2-e10f-4c93-ee3a-473eaa8998a2"
      },
      "outputs": [
        {
          "output_type": "stream",
          "name": "stdout",
          "text": [
            "[(b'Hello', 2.5, 3) (b'World', 3.6, 2)]\n"
          ]
        }
      ],
      "source": [
        "Z = np.array([(\"Hello\", 2.5, 3),\n",
        "              (\"World\", 3.6, 2)])\n",
        "R = np.core.records.fromarrays(Z.T, \n",
        "                               names='col1, col2, col3',\n",
        "                               formats = 'S8, f8, i8')\n",
        "print(R)"
      ]
    },
    {
      "cell_type": "markdown",
      "metadata": {
        "id": "-HV4S5VJmI5r"
      },
      "source": [
        "#### 92. Consider a large vector Z, compute Z to the power of 3 using 3 different methods (★★★) \n",
        "(**hint**: np.power, \\*, np.einsum)"
      ]
    },
    {
      "cell_type": "code",
      "execution_count": null,
      "metadata": {
        "id": "QzDtP62xmI5s",
        "colab": {
          "base_uri": "https://localhost:8080/",
          "height": 339
        },
        "outputId": "361202d3-55fb-4f0a-9967-2c6cf1df1911"
      },
      "outputs": [
        {
          "output_type": "error",
          "ename": "TypeError",
          "evalue": "ignored",
          "traceback": [
            "\u001b[0;31m---------------------------------------------------------------------------\u001b[0m",
            "\u001b[0;31mTypeError\u001b[0m                                 Traceback (most recent call last)",
            "\u001b[0;32m<ipython-input-76-a370807230cb>\u001b[0m in \u001b[0;36m<module>\u001b[0;34m\u001b[0m\n\u001b[0;32m----> 1\u001b[0;31m \u001b[0mx\u001b[0m \u001b[0;34m=\u001b[0m \u001b[0mnp\u001b[0m\u001b[0;34m.\u001b[0m\u001b[0mrandom\u001b[0m\u001b[0;34m.\u001b[0m\u001b[0mrand\u001b[0m\u001b[0;34m(\u001b[0m\u001b[0;36m5e7\u001b[0m\u001b[0;34m)\u001b[0m\u001b[0;34m\u001b[0m\u001b[0;34m\u001b[0m\u001b[0m\n\u001b[0m\u001b[1;32m      2\u001b[0m \u001b[0;34m\u001b[0m\u001b[0m\n\u001b[1;32m      3\u001b[0m \u001b[0mget_ipython\u001b[0m\u001b[0;34m(\u001b[0m\u001b[0;34m)\u001b[0m\u001b[0;34m.\u001b[0m\u001b[0mrun_line_magic\u001b[0m\u001b[0;34m(\u001b[0m\u001b[0;34m'timeit'\u001b[0m\u001b[0;34m,\u001b[0m \u001b[0;34m'np.power(x,3)'\u001b[0m\u001b[0;34m)\u001b[0m\u001b[0;34m\u001b[0m\u001b[0;34m\u001b[0m\u001b[0m\n\u001b[1;32m      4\u001b[0m \u001b[0mget_ipython\u001b[0m\u001b[0;34m(\u001b[0m\u001b[0;34m)\u001b[0m\u001b[0;34m.\u001b[0m\u001b[0mrun_line_magic\u001b[0m\u001b[0;34m(\u001b[0m\u001b[0;34m'timeit'\u001b[0m\u001b[0;34m,\u001b[0m \u001b[0;34m'x*x*x'\u001b[0m\u001b[0;34m)\u001b[0m\u001b[0;34m\u001b[0m\u001b[0;34m\u001b[0m\u001b[0m\n\u001b[1;32m      5\u001b[0m \u001b[0mget_ipython\u001b[0m\u001b[0;34m(\u001b[0m\u001b[0;34m)\u001b[0m\u001b[0;34m.\u001b[0m\u001b[0mrun_line_magic\u001b[0m\u001b[0;34m(\u001b[0m\u001b[0;34m'timeit'\u001b[0m\u001b[0;34m,\u001b[0m \u001b[0;34m\"np.einsum('i,i,i->i',x,x,x)\"\u001b[0m\u001b[0;34m)\u001b[0m\u001b[0;34m\u001b[0m\u001b[0;34m\u001b[0m\u001b[0m\n",
            "\u001b[0;32mmtrand.pyx\u001b[0m in \u001b[0;36mnumpy.random.mtrand.RandomState.rand\u001b[0;34m()\u001b[0m\n",
            "\u001b[0;32mmtrand.pyx\u001b[0m in \u001b[0;36mnumpy.random.mtrand.RandomState.random_sample\u001b[0;34m()\u001b[0m\n",
            "\u001b[0;32m_common.pyx\u001b[0m in \u001b[0;36mnumpy.random._common.double_fill\u001b[0;34m()\u001b[0m\n",
            "\u001b[0;31mTypeError\u001b[0m: 'float' object cannot be interpreted as an integer"
          ]
        }
      ],
      "source": [
        "x = np.random.rand(5e7)\n",
        "\n",
        "%timeit np.power(x,3)\n",
        "%timeit x*x*x\n",
        "%timeit np.einsum('i,i,i->i',x,x,x)"
      ]
    },
    {
      "cell_type": "markdown",
      "metadata": {
        "id": "GevUPKULmI5s"
      },
      "source": [
        "#### 93. Consider two arrays A and B of shape (8,3) and (2,2). How to find rows of A that contain elements of each row of B regardless of the order of the elements in B? (★★★) \n",
        "(**hint**: np.where)"
      ]
    },
    {
      "cell_type": "code",
      "execution_count": null,
      "metadata": {
        "id": "Ghj39zovmI5s",
        "colab": {
          "base_uri": "https://localhost:8080/"
        },
        "outputId": "ca5bc6ae-bf27-4447-fcdc-f502fd4be7e7"
      },
      "outputs": [
        {
          "output_type": "stream",
          "name": "stdout",
          "text": [
            "[0 1 2 3 6]\n"
          ]
        }
      ],
      "source": [
        "A = np.random.randint(0,5,(8,3))\n",
        "B = np.random.randint(0,5,(2,2))\n",
        "\n",
        "C = (A[..., np.newaxis, np.newaxis] == B)\n",
        "rows = np.where(C.any((3,1)).all(1))[0]\n",
        "print(rows)"
      ]
    },
    {
      "cell_type": "markdown",
      "metadata": {
        "id": "WGjR7st1mI5s"
      },
      "source": [
        "#### 94. Considering a 10x3 matrix, extract rows with unequal values (e.g. \\[2,2,3\\]) (★★★)"
      ]
    },
    {
      "cell_type": "code",
      "execution_count": null,
      "metadata": {
        "id": "qM1hxp8OmI5s",
        "colab": {
          "base_uri": "https://localhost:8080/"
        },
        "outputId": "01bc34f9-08a4-4e36-81fd-2e337d6063ce"
      },
      "outputs": [
        {
          "output_type": "stream",
          "name": "stdout",
          "text": [
            "[[0 3 1]\n",
            " [3 1 4]\n",
            " [4 3 4]\n",
            " [4 3 1]\n",
            " [1 2 3]\n",
            " [3 2 2]\n",
            " [1 1 0]\n",
            " [3 0 2]\n",
            " [3 3 4]\n",
            " [3 3 3]]\n",
            "[[0 3 1]\n",
            " [3 1 4]\n",
            " [4 3 4]\n",
            " [4 3 1]\n",
            " [1 2 3]\n",
            " [3 2 2]\n",
            " [1 1 0]\n",
            " [3 0 2]\n",
            " [3 3 4]]\n",
            "[[0 3 1]\n",
            " [3 1 4]\n",
            " [4 3 4]\n",
            " [4 3 1]\n",
            " [1 2 3]\n",
            " [3 2 2]\n",
            " [1 1 0]\n",
            " [3 0 2]\n",
            " [3 3 4]]\n"
          ]
        }
      ],
      "source": [
        "Z = np.random.randint(0,5,(10,3))\n",
        "print(Z)\n",
        "\n",
        "E = np.all(Z[:,1:] == Z[:,:-1], axis=1)\n",
        "U = Z[~E]\n",
        "print(U)\n",
        "\n",
        "U = Z[Z.max(axis=1) != Z.min(axis=1),:]\n",
        "print(U)"
      ]
    },
    {
      "cell_type": "markdown",
      "metadata": {
        "id": "80LRo02FmI5t"
      },
      "source": [
        "#### 95. Convert a vector of ints into a matrix binary representation (★★★) \n",
        "(**hint**: np.unpackbits)"
      ]
    },
    {
      "cell_type": "code",
      "execution_count": null,
      "metadata": {
        "id": "V1P9RLVtmI5t",
        "colab": {
          "base_uri": "https://localhost:8080/"
        },
        "outputId": "cd63bbef-4719-4d28-8228-c7518da02995"
      },
      "outputs": [
        {
          "output_type": "stream",
          "name": "stdout",
          "text": [
            "[[0 0 0 0 0 0 0 0]\n",
            " [0 0 0 0 0 0 0 1]\n",
            " [0 0 0 0 0 0 1 0]\n",
            " [0 0 0 0 0 0 1 1]\n",
            " [0 0 0 0 1 1 1 1]\n",
            " [0 0 0 1 0 0 0 0]\n",
            " [0 0 1 0 0 0 0 0]\n",
            " [0 1 0 0 0 0 0 0]\n",
            " [1 0 0 0 0 0 0 0]]\n",
            "[[0 0 0 0 0 0 0 0]\n",
            " [0 0 0 0 0 0 0 1]\n",
            " [0 0 0 0 0 0 1 0]\n",
            " [0 0 0 0 0 0 1 1]\n",
            " [0 0 0 0 1 1 1 1]\n",
            " [0 0 0 1 0 0 0 0]\n",
            " [0 0 1 0 0 0 0 0]\n",
            " [0 1 0 0 0 0 0 0]\n",
            " [1 0 0 0 0 0 0 0]]\n"
          ]
        }
      ],
      "source": [
        "I = np.array([0, 1, 2, 3, 15, 16, 32, 64, 128])\n",
        "B = ((I.reshape(-1,1) & (2**np.arange(8))) != 0).astype(int)\n",
        "print(B[:,::-1])\n",
        "\n",
        "# Author: Daniel T. McDonald\n",
        "\n",
        "I = np.array([0, 1, 2, 3, 15, 16, 32, 64, 128], dtype=np.uint8)\n",
        "print(np.unpackbits(I[:, np.newaxis], axis=1))"
      ]
    },
    {
      "cell_type": "markdown",
      "metadata": {
        "id": "-RZMeXTUmI5t"
      },
      "source": [
        "#### 96. Given a two dimensional array, how to extract unique rows? (★★★) \n",
        "(**hint**: np.ascontiguousarray)"
      ]
    },
    {
      "cell_type": "code",
      "execution_count": null,
      "metadata": {
        "id": "1MdY2zwzmI5t",
        "colab": {
          "base_uri": "https://localhost:8080/"
        },
        "outputId": "73ec2904-fdeb-4a04-9c24-3bcee850c9c6"
      },
      "outputs": [
        {
          "output_type": "stream",
          "name": "stdout",
          "text": [
            "[[0 0 0]\n",
            " [0 0 1]\n",
            " [1 0 0]\n",
            " [1 0 1]\n",
            " [1 1 0]]\n",
            "[[0 0 0]\n",
            " [0 0 1]\n",
            " [1 0 0]\n",
            " [1 0 1]\n",
            " [1 1 0]]\n"
          ]
        }
      ],
      "source": [
        "Z = np.random.randint(0,2,(6,3))\n",
        "T = np.ascontiguousarray(Z).view(np.dtype((np.void, Z.dtype.itemsize * Z.shape[1])))\n",
        "_, idx = np.unique(T, return_index=True)\n",
        "uZ = Z[idx]\n",
        "print(uZ)\n",
        "\n",
        "# Author: Andreas Kouzelis\n",
        "# NumPy >= 1.13\n",
        "uZ = np.unique(Z, axis=0)\n",
        "print(uZ)"
      ]
    },
    {
      "cell_type": "markdown",
      "metadata": {
        "id": "heRpSP_WmI5t"
      },
      "source": [
        "#### 97. Considering 2 vectors A & B, write the einsum equivalent of inner, outer, sum, and mul function (★★★) \n",
        "(**hint**: np.einsum)"
      ]
    },
    {
      "cell_type": "code",
      "execution_count": null,
      "metadata": {
        "id": "HGxZli8CmI5u",
        "colab": {
          "base_uri": "https://localhost:8080/"
        },
        "outputId": "874e1c08-c087-436c-e3cc-bae78a38f288"
      },
      "outputs": [
        {
          "output_type": "execute_result",
          "data": {
            "text/plain": [
              "array([[0.00520416, 0.09024135, 0.00781353, 0.04763935, 0.00943077,\n",
              "        0.03264387, 0.07213807, 0.03150615, 0.05735703, 0.0555227 ],\n",
              "       [0.02803339, 0.48610576, 0.04208938, 0.25662033, 0.050801  ,\n",
              "        0.17584373, 0.3885883 , 0.16971509, 0.3089668 , 0.29908577],\n",
              "       [0.03062767, 0.53109129, 0.04598445, 0.28036866, 0.05550227,\n",
              "        0.19211678, 0.42454931, 0.18542098, 0.33755942, 0.32676397],\n",
              "       [0.03433579, 0.59539095, 0.05155182, 0.31431313, 0.06222197,\n",
              "        0.21537652, 0.47594984, 0.20787006, 0.37842802, 0.36632556],\n",
              "       [0.02158736, 0.37433006, 0.0324113 , 0.19761276, 0.03911976,\n",
              "        0.13541003, 0.29923588, 0.13069062, 0.23792263, 0.23031366],\n",
              "       [0.03563786, 0.61796923, 0.05350676, 0.32623244, 0.06458154,\n",
              "        0.22354398, 0.4939987 , 0.21575286, 0.39277867, 0.38021727],\n",
              "       [0.02983681, 0.51737751, 0.04479704, 0.27312902, 0.05406909,\n",
              "        0.18715596, 0.41358665, 0.18063307, 0.328843  , 0.31832631],\n",
              "       [0.01847753, 0.32040486, 0.0277422 , 0.16914509, 0.03348425,\n",
              "        0.11590314, 0.25612859, 0.1118636 , 0.203648  , 0.19713516],\n",
              "       [0.02907445, 0.50415801, 0.04365243, 0.2661503 , 0.05268757,\n",
              "        0.18237395, 0.4030191 , 0.17601772, 0.32044074, 0.31019276],\n",
              "       [0.02453722, 0.42548136, 0.03684023, 0.22461607, 0.04446539,\n",
              "        0.15391348, 0.34012574, 0.14854917, 0.27043418, 0.26178546]])"
            ]
          },
          "metadata": {},
          "execution_count": 82
        }
      ],
      "source": [
        "A = np.random.uniform(0,1,10)\n",
        "B = np.random.uniform(0,1,10)\n",
        "\n",
        "np.einsum('i->', A)       # np.sum(A)\n",
        "np.einsum('i,i->i', A, B) # A * B\n",
        "np.einsum('i,i', A, B)    # np.inner(A, B)\n",
        "np.einsum('i,j->ij', A, B)"
      ]
    },
    {
      "cell_type": "markdown",
      "metadata": {
        "id": "n1FhkC5rmI5u"
      },
      "source": [
        "#### 98. Considering a path described by two vectors (X,Y), how to sample it using equidistant samples (★★★)? \n",
        "(**hint**: np.cumsum, np.interp)"
      ]
    },
    {
      "cell_type": "code",
      "execution_count": null,
      "metadata": {
        "collapsed": true,
        "id": "dF5guS5ImI5u"
      },
      "outputs": [],
      "source": [
        "phi = np.arange(0, 10*np.pi, 0.1)\n",
        "a = 1\n",
        "x = a*phi*np.cos(phi)\n",
        "y = a*phi*np.sin(phi)\n",
        "\n",
        "dr = (np.diff(x)**2 + np.diff(y)**2)**.5 # segment lengths\n",
        "r = np.zeros_like(x)\n",
        "r[1:] = np.cumsum(dr)                # integrate path\n",
        "r_int = np.linspace(0, r.max(), 200) # regular spaced path\n",
        "x_int = np.interp(r_int, r, x)       # integrate path\n",
        "y_int = np.interp(r_int, r, y)"
      ]
    },
    {
      "cell_type": "markdown",
      "metadata": {
        "id": "k9MoGHXhmI5u"
      },
      "source": [
        "#### 99. Given an integer n and a 2D array X, select from X the rows which can be interpreted as draws from a multinomial distribution with n degrees, i.e., the rows which only contain integers and which sum to n. (★★★) \n",
        "(**hint**: np.logical\\_and.reduce, np.mod)"
      ]
    },
    {
      "cell_type": "code",
      "execution_count": null,
      "metadata": {
        "id": "2tEDnYbDmI5u",
        "colab": {
          "base_uri": "https://localhost:8080/"
        },
        "outputId": "9a8d2ea0-2cee-4613-c07a-511bb8dba378"
      },
      "outputs": [
        {
          "output_type": "stream",
          "name": "stdout",
          "text": [
            "[[2. 0. 1. 1.]]\n"
          ]
        }
      ],
      "source": [
        "X = np.asarray([[1.0, 0.0, 3.0, 8.0],\n",
        "                [2.0, 0.0, 1.0, 1.0],\n",
        "                [1.5, 2.5, 1.0, 0.0]])\n",
        "n = 4\n",
        "M = np.logical_and.reduce(np.mod(X, 1) == 0, axis=-1)\n",
        "M &= (X.sum(axis=-1) == n)\n",
        "print(X[M])"
      ]
    },
    {
      "cell_type": "markdown",
      "metadata": {
        "id": "D8KVufLwmI5v"
      },
      "source": [
        "#### 100. Compute bootstrapped 95% confidence intervals for the mean of a 1D array X (i.e., resample the elements of an array with replacement N times, compute the mean of each sample, and then compute percentiles over the means). (★★★) \n",
        "(**hint**: np.percentile)"
      ]
    },
    {
      "cell_type": "code",
      "execution_count": null,
      "metadata": {
        "id": "8pEAaV5AmI5v",
        "colab": {
          "base_uri": "https://localhost:8080/"
        },
        "outputId": "4b721819-9442-4e1e-e453-e68a01588382"
      },
      "outputs": [
        {
          "output_type": "stream",
          "name": "stdout",
          "text": [
            "[-0.12420296  0.23192177]\n"
          ]
        }
      ],
      "source": [
        "X = np.random.randn(100) # random 1D array\n",
        "N = 1000 # number of bootstrap samples\n",
        "idx = np.random.randint(0, X.size, (N, X.size))\n",
        "means = X[idx].mean(axis=1)\n",
        "confint = np.percentile(means, [2.5, 97.5])\n",
        "print(confint)"
      ]
    }
  ],
  "metadata": {
    "kernelspec": {
      "display_name": "Python 3",
      "language": "python",
      "name": "python3"
    },
    "language_info": {
      "codemirror_mode": {
        "name": "ipython",
        "version": 3
      },
      "file_extension": ".py",
      "mimetype": "text/x-python",
      "name": "python",
      "nbconvert_exporter": "python",
      "pygments_lexer": "ipython3",
      "version": "3.8.3"
    },
    "colab": {
      "provenance": [],
      "collapsed_sections": [],
      "include_colab_link": true
    }
  },
  "nbformat": 4,
  "nbformat_minor": 0
}